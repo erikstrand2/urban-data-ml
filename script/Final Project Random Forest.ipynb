{
 "cells": [
  {
   "cell_type": "code",
   "execution_count": 1,
   "metadata": {},
   "outputs": [],
   "source": [
    "# Load modules\n",
    "\n",
    "import warnings\n",
    "warnings.filterwarnings(\"ignore\")\n",
    "\n",
    "import numpy as np\n",
    "import pandas as pd\n",
    "import geopandas as gpd\n",
    "import mapclassify\n",
    "import matplotlib.pyplot as plt\n",
    "from scipy import stats\n",
    "%matplotlib inline\n",
    "\n",
    "# ML packages\n",
    "import sklearn.metrics as metrics \n",
    "from sklearn.model_selection import train_test_split\n",
    "from sklearn.metrics import mean_squared_error\n",
    "from sklearn.metrics import confusion_matrix \n",
    "from sklearn.ensemble import RandomForestRegressor\n",
    "from sklearn.model_selection import GridSearchCV"
   ]
  },
  {
   "cell_type": "code",
   "execution_count": 2,
   "metadata": {},
   "outputs": [],
   "source": [
    "ih = pd.read_csv(\"../data/final project/CLEAN_DATA/joined_data/ih_all.csv\")\n",
    "ih = ih.iloc[:, 1:]\n",
    "\n",
    "nyc = pd.read_csv(\"../data/final project/CLEAN_DATA/joined_data/nyc.csv\")\n",
    "chicago = pd.read_csv(\"../data/final project/CLEAN_DATA/joined_data/chicago.csv\")\n",
    "sf = pd.read_csv(\"../data/final project/CLEAN_DATA/joined_data/sf.csv\")\n",
    "boston = pd.read_csv(\"../data/final project/CLEAN_DATA/joined_data/boston.csv\")\n",
    "dc = pd.read_csv(\"../data/final project/CLEAN_DATA/joined_data/dc.csv\")"
   ]
  },
  {
   "cell_type": "code",
   "execution_count": 3,
   "metadata": {},
   "outputs": [
    {
     "data": {
      "text/html": [
       "<div>\n",
       "<style scoped>\n",
       "    .dataframe tbody tr th:only-of-type {\n",
       "        vertical-align: middle;\n",
       "    }\n",
       "\n",
       "    .dataframe tbody tr th {\n",
       "        vertical-align: top;\n",
       "    }\n",
       "\n",
       "    .dataframe thead th {\n",
       "        text-align: right;\n",
       "    }\n",
       "</style>\n",
       "<table border=\"1\" class=\"dataframe\">\n",
       "  <thead>\n",
       "    <tr style=\"text-align: right;\">\n",
       "      <th></th>\n",
       "      <th>zip</th>\n",
       "      <th>aff_units</th>\n",
       "      <th>aff_dev_rate</th>\n",
       "      <th>ih_prop</th>\n",
       "      <th>rental_all</th>\n",
       "      <th>rental_2014plus</th>\n",
       "      <th>med_hh_inc</th>\n",
       "      <th>pop</th>\n",
       "      <th>med_age</th>\n",
       "      <th>youth_pop</th>\n",
       "      <th>...</th>\n",
       "      <th>simpson</th>\n",
       "      <th>citizen_pop</th>\n",
       "      <th>housing_total</th>\n",
       "      <th>tot_dev_rate</th>\n",
       "      <th>dev_residual</th>\n",
       "      <th>resid_bin</th>\n",
       "      <th>aff_dev_bin</th>\n",
       "      <th>aff_unit_bin</th>\n",
       "      <th>ih_prop_bin</th>\n",
       "      <th>city</th>\n",
       "    </tr>\n",
       "  </thead>\n",
       "  <tbody>\n",
       "    <tr>\n",
       "      <th>0</th>\n",
       "      <td>10001.0</td>\n",
       "      <td>1362.0</td>\n",
       "      <td>0.056475</td>\n",
       "      <td>0.007883</td>\n",
       "      <td>9712.0</td>\n",
       "      <td>1229.0</td>\n",
       "      <td>122776.0</td>\n",
       "      <td>24117.0</td>\n",
       "      <td>36.0</td>\n",
       "      <td>2101.0</td>\n",
       "      <td>...</td>\n",
       "      <td>0.623194</td>\n",
       "      <td>18676.0</td>\n",
       "      <td>14746.0</td>\n",
       "      <td>0.050960</td>\n",
       "      <td>0.005515</td>\n",
       "      <td>0.0</td>\n",
       "      <td>1.0</td>\n",
       "      <td>1.0</td>\n",
       "      <td>1.0</td>\n",
       "      <td>nyc</td>\n",
       "    </tr>\n",
       "    <tr>\n",
       "      <th>1</th>\n",
       "      <td>10002.0</td>\n",
       "      <td>876.0</td>\n",
       "      <td>0.011762</td>\n",
       "      <td>0.003167</td>\n",
       "      <td>28933.0</td>\n",
       "      <td>92.0</td>\n",
       "      <td>40045.0</td>\n",
       "      <td>74479.0</td>\n",
       "      <td>44.0</td>\n",
       "      <td>9477.0</td>\n",
       "      <td>...</td>\n",
       "      <td>0.763648</td>\n",
       "      <td>53646.0</td>\n",
       "      <td>35921.0</td>\n",
       "      <td>0.001235</td>\n",
       "      <td>0.010526</td>\n",
       "      <td>0.0</td>\n",
       "      <td>0.0</td>\n",
       "      <td>1.0</td>\n",
       "      <td>0.0</td>\n",
       "      <td>nyc</td>\n",
       "    </tr>\n",
       "    <tr>\n",
       "      <th>2</th>\n",
       "      <td>10003.0</td>\n",
       "      <td>0.0</td>\n",
       "      <td>0.000000</td>\n",
       "      <td>0.000000</td>\n",
       "      <td>17598.0</td>\n",
       "      <td>98.0</td>\n",
       "      <td>183787.0</td>\n",
       "      <td>53977.0</td>\n",
       "      <td>32.0</td>\n",
       "      <td>3374.0</td>\n",
       "      <td>...</td>\n",
       "      <td>0.488300</td>\n",
       "      <td>44096.0</td>\n",
       "      <td>30931.0</td>\n",
       "      <td>0.001816</td>\n",
       "      <td>-0.001816</td>\n",
       "      <td>0.0</td>\n",
       "      <td>0.0</td>\n",
       "      <td>0.0</td>\n",
       "      <td>0.0</td>\n",
       "      <td>nyc</td>\n",
       "    </tr>\n",
       "    <tr>\n",
       "      <th>3</th>\n",
       "      <td>10004.0</td>\n",
       "      <td>0.0</td>\n",
       "      <td>0.000000</td>\n",
       "      <td>0.000000</td>\n",
       "      <td>1104.0</td>\n",
       "      <td>0.0</td>\n",
       "      <td>205202.0</td>\n",
       "      <td>3335.0</td>\n",
       "      <td>37.0</td>\n",
       "      <td>382.0</td>\n",
       "      <td>...</td>\n",
       "      <td>0.564544</td>\n",
       "      <td>2537.0</td>\n",
       "      <td>2264.0</td>\n",
       "      <td>0.000000</td>\n",
       "      <td>0.000000</td>\n",
       "      <td>0.0</td>\n",
       "      <td>0.0</td>\n",
       "      <td>0.0</td>\n",
       "      <td>0.0</td>\n",
       "      <td>nyc</td>\n",
       "    </tr>\n",
       "    <tr>\n",
       "      <th>4</th>\n",
       "      <td>10005.0</td>\n",
       "      <td>0.0</td>\n",
       "      <td>0.000000</td>\n",
       "      <td>0.000000</td>\n",
       "      <td>3444.0</td>\n",
       "      <td>4.0</td>\n",
       "      <td>241094.0</td>\n",
       "      <td>8701.0</td>\n",
       "      <td>30.0</td>\n",
       "      <td>1037.0</td>\n",
       "      <td>...</td>\n",
       "      <td>0.468530</td>\n",
       "      <td>6542.0</td>\n",
       "      <td>5889.0</td>\n",
       "      <td>0.000460</td>\n",
       "      <td>-0.000460</td>\n",
       "      <td>0.0</td>\n",
       "      <td>0.0</td>\n",
       "      <td>0.0</td>\n",
       "      <td>0.0</td>\n",
       "      <td>nyc</td>\n",
       "    </tr>\n",
       "  </tbody>\n",
       "</table>\n",
       "<p>5 rows × 28 columns</p>\n",
       "</div>"
      ],
      "text/plain": [
       "       zip  aff_units  aff_dev_rate   ih_prop  rental_all  rental_2014plus  \\\n",
       "0  10001.0     1362.0      0.056475  0.007883      9712.0           1229.0   \n",
       "1  10002.0      876.0      0.011762  0.003167     28933.0             92.0   \n",
       "2  10003.0        0.0      0.000000  0.000000     17598.0             98.0   \n",
       "3  10004.0        0.0      0.000000  0.000000      1104.0              0.0   \n",
       "4  10005.0        0.0      0.000000  0.000000      3444.0              4.0   \n",
       "\n",
       "   med_hh_inc      pop  med_age  youth_pop  ...   simpson  citizen_pop  \\\n",
       "0    122776.0  24117.0     36.0     2101.0  ...  0.623194      18676.0   \n",
       "1     40045.0  74479.0     44.0     9477.0  ...  0.763648      53646.0   \n",
       "2    183787.0  53977.0     32.0     3374.0  ...  0.488300      44096.0   \n",
       "3    205202.0   3335.0     37.0      382.0  ...  0.564544       2537.0   \n",
       "4    241094.0   8701.0     30.0     1037.0  ...  0.468530       6542.0   \n",
       "\n",
       "   housing_total  tot_dev_rate  dev_residual  resid_bin  aff_dev_bin  \\\n",
       "0        14746.0      0.050960      0.005515        0.0          1.0   \n",
       "1        35921.0      0.001235      0.010526        0.0          0.0   \n",
       "2        30931.0      0.001816     -0.001816        0.0          0.0   \n",
       "3         2264.0      0.000000      0.000000        0.0          0.0   \n",
       "4         5889.0      0.000460     -0.000460        0.0          0.0   \n",
       "\n",
       "   aff_unit_bin  ih_prop_bin  city  \n",
       "0           1.0          1.0   nyc  \n",
       "1           1.0          0.0   nyc  \n",
       "2           0.0          0.0   nyc  \n",
       "3           0.0          0.0   nyc  \n",
       "4           0.0          0.0   nyc  \n",
       "\n",
       "[5 rows x 28 columns]"
      ]
     },
     "execution_count": 3,
     "metadata": {},
     "output_type": "execute_result"
    }
   ],
   "source": [
    "ih.head()"
   ]
  },
  {
   "cell_type": "markdown",
   "metadata": {},
   "source": [
    "### IH Development Rate"
   ]
  },
  {
   "cell_type": "code",
   "execution_count": 46,
   "metadata": {},
   "outputs": [
    {
     "data": {
      "text/html": [
       "<div>\n",
       "<style scoped>\n",
       "    .dataframe tbody tr th:only-of-type {\n",
       "        vertical-align: middle;\n",
       "    }\n",
       "\n",
       "    .dataframe tbody tr th {\n",
       "        vertical-align: top;\n",
       "    }\n",
       "\n",
       "    .dataframe thead th {\n",
       "        text-align: right;\n",
       "    }\n",
       "</style>\n",
       "<table border=\"1\" class=\"dataframe\">\n",
       "  <thead>\n",
       "    <tr style=\"text-align: right;\">\n",
       "      <th></th>\n",
       "      <th>med_hh_inc</th>\n",
       "      <th>med_age</th>\n",
       "      <th>youth_pop</th>\n",
       "      <th>elderly_pop</th>\n",
       "      <th>white_pop</th>\n",
       "      <th>black_pop</th>\n",
       "      <th>asian_pop</th>\n",
       "      <th>pacisl_pop</th>\n",
       "      <th>other_race_pop</th>\n",
       "      <th>multiracial_pop</th>\n",
       "      <th>latinx_pop</th>\n",
       "      <th>simpson</th>\n",
       "      <th>citizen_pop</th>\n",
       "      <th>housing_total</th>\n",
       "    </tr>\n",
       "  </thead>\n",
       "  <tbody>\n",
       "    <tr>\n",
       "      <th>0</th>\n",
       "      <td>122776.0</td>\n",
       "      <td>36.0</td>\n",
       "      <td>2101.0</td>\n",
       "      <td>3490.0</td>\n",
       "      <td>15677.0</td>\n",
       "      <td>1510.0</td>\n",
       "      <td>5377.0</td>\n",
       "      <td>21.0</td>\n",
       "      <td>799.0</td>\n",
       "      <td>717.0</td>\n",
       "      <td>3741.0</td>\n",
       "      <td>0.623194</td>\n",
       "      <td>18676.0</td>\n",
       "      <td>14746.0</td>\n",
       "    </tr>\n",
       "    <tr>\n",
       "      <th>1</th>\n",
       "      <td>40045.0</td>\n",
       "      <td>44.0</td>\n",
       "      <td>9477.0</td>\n",
       "      <td>16931.0</td>\n",
       "      <td>23849.0</td>\n",
       "      <td>6635.0</td>\n",
       "      <td>31198.0</td>\n",
       "      <td>22.0</td>\n",
       "      <td>8924.0</td>\n",
       "      <td>3127.0</td>\n",
       "      <td>19554.0</td>\n",
       "      <td>0.763648</td>\n",
       "      <td>53646.0</td>\n",
       "      <td>35921.0</td>\n",
       "    </tr>\n",
       "    <tr>\n",
       "      <th>2</th>\n",
       "      <td>183787.0</td>\n",
       "      <td>32.0</td>\n",
       "      <td>3374.0</td>\n",
       "      <td>7215.0</td>\n",
       "      <td>40681.0</td>\n",
       "      <td>3007.0</td>\n",
       "      <td>7812.0</td>\n",
       "      <td>73.0</td>\n",
       "      <td>1155.0</td>\n",
       "      <td>1168.0</td>\n",
       "      <td>4559.0</td>\n",
       "      <td>0.488300</td>\n",
       "      <td>44096.0</td>\n",
       "      <td>30931.0</td>\n",
       "    </tr>\n",
       "    <tr>\n",
       "      <th>3</th>\n",
       "      <td>205202.0</td>\n",
       "      <td>37.0</td>\n",
       "      <td>382.0</td>\n",
       "      <td>201.0</td>\n",
       "      <td>2033.0</td>\n",
       "      <td>142.0</td>\n",
       "      <td>992.0</td>\n",
       "      <td>17.0</td>\n",
       "      <td>35.0</td>\n",
       "      <td>116.0</td>\n",
       "      <td>108.0</td>\n",
       "      <td>0.564544</td>\n",
       "      <td>2537.0</td>\n",
       "      <td>2264.0</td>\n",
       "    </tr>\n",
       "    <tr>\n",
       "      <th>4</th>\n",
       "      <td>241094.0</td>\n",
       "      <td>30.0</td>\n",
       "      <td>1037.0</td>\n",
       "      <td>93.0</td>\n",
       "      <td>6532.0</td>\n",
       "      <td>94.0</td>\n",
       "      <td>1543.0</td>\n",
       "      <td>0.0</td>\n",
       "      <td>217.0</td>\n",
       "      <td>315.0</td>\n",
       "      <td>552.0</td>\n",
       "      <td>0.468530</td>\n",
       "      <td>6542.0</td>\n",
       "      <td>5889.0</td>\n",
       "    </tr>\n",
       "  </tbody>\n",
       "</table>\n",
       "</div>"
      ],
      "text/plain": [
       "   med_hh_inc  med_age  youth_pop  elderly_pop  white_pop  black_pop  \\\n",
       "0    122776.0     36.0     2101.0       3490.0    15677.0     1510.0   \n",
       "1     40045.0     44.0     9477.0      16931.0    23849.0     6635.0   \n",
       "2    183787.0     32.0     3374.0       7215.0    40681.0     3007.0   \n",
       "3    205202.0     37.0      382.0        201.0     2033.0      142.0   \n",
       "4    241094.0     30.0     1037.0         93.0     6532.0       94.0   \n",
       "\n",
       "   asian_pop  pacisl_pop  other_race_pop  multiracial_pop  latinx_pop  \\\n",
       "0     5377.0        21.0           799.0            717.0      3741.0   \n",
       "1    31198.0        22.0          8924.0           3127.0     19554.0   \n",
       "2     7812.0        73.0          1155.0           1168.0      4559.0   \n",
       "3      992.0        17.0            35.0            116.0       108.0   \n",
       "4     1543.0         0.0           217.0            315.0       552.0   \n",
       "\n",
       "    simpson  citizen_pop  housing_total  \n",
       "0  0.623194      18676.0        14746.0  \n",
       "1  0.763648      53646.0        35921.0  \n",
       "2  0.488300      44096.0        30931.0  \n",
       "3  0.564544       2537.0         2264.0  \n",
       "4  0.468530       6542.0         5889.0  "
      ]
     },
     "execution_count": 46,
     "metadata": {},
     "output_type": "execute_result"
    }
   ],
   "source": [
    "X = ih.iloc[:,6:-7]\n",
    "X = X.drop(\"pop\", axis = 1)\n",
    "y = ih[\"aff_dev_rate\"]\n",
    "\n",
    "X.head()"
   ]
  },
  {
   "cell_type": "code",
   "execution_count": 49,
   "metadata": {},
   "outputs": [
    {
     "name": "stdout",
     "output_type": "stream",
     "text": [
      "Train sample (X): 284\n",
      "Train sample (y): 284\n",
      "Test sample (X): 95\n",
      "Test sample (y): 95\n",
      "Number of trees = 100\n",
      "0.8645702653266586\n",
      "0.10443055326861517\n"
     ]
    }
   ],
   "source": [
    "X_train, X_test, y_train, y_test = train_test_split(X,y, train_size = 0.75)\n",
    "\n",
    "print (\"Train sample (X):\", len(X_train))\n",
    "print (\"Train sample (y):\", len(y_train))\n",
    "print (\"Test sample (X):\", len(X_test))\n",
    "print (\"Test sample (y):\", len(y_test))\n",
    "\n",
    "parameters = {'n_estimators':range(64, 129)}\n",
    "rforest = RandomForestRegressor(random_state=0,criterion='mse')\n",
    "optim = GridSearchCV(rforest, parameters)\n",
    "optim.get_params()[\"estimator__n_estimators\"]\n",
    "print(\"Number of trees =\", optim.get_params()[\"estimator__n_estimators\"])\n",
    "clf = RandomForestRegressor(n_estimators= optim.get_params()[\"estimator__n_estimators\"])\n",
    "clf.fit(X_train, y_train)\n",
    "print (clf.score(X_train, y_train))\n",
    "print (clf.score(X_test, y_test))"
   ]
  },
  {
   "cell_type": "code",
   "execution_count": 50,
   "metadata": {},
   "outputs": [
    {
     "data": {
      "text/plain": [
       "Text(0, 0.5, 'Feature')"
      ]
     },
     "execution_count": 50,
     "metadata": {},
     "output_type": "execute_result"
    },
    {
     "data": {
      "image/png": "[encoded data removed]",
      "text/plain": [
       "<Figure size 720x576 with 1 Axes>"
      ]
     },
     "metadata": {
      "needs_background": "light"
     },
     "output_type": "display_data"
    }
   ],
   "source": [
    "n_features = X.shape[1]\n",
    "plt.figure(figsize=(10,8))\n",
    "plt.barh(range(n_features), clf.feature_importances_, align='center', color='orange', edgecolor='k')\n",
    "plt.yticks(np.arange(n_features), X.columns.tolist())\n",
    "plt.xlabel(\"Feature importance\")\n",
    "plt.ylabel(\"Feature\")"
   ]
  },
  {
   "cell_type": "markdown",
   "metadata": {},
   "source": [
    "#### Individual Cities"
   ]
  },
  {
   "cell_type": "code",
   "execution_count": 7,
   "metadata": {},
   "outputs": [],
   "source": [
    "sf.iloc[:,0:-1] = sf.iloc[:,0:-1].fillna(0).astype(np.float32)\n",
    "dc.iloc[:,0:-1] = dc.iloc[:,0:-1].fillna(0).astype(np.float32)\n",
    "nyc.iloc[:,0:-1] = nyc.iloc[:,0:-1].fillna(0).astype(np.float32)\n",
    "chicago.iloc[:,0:-1] = chicago.iloc[:,0:-1].fillna(0).astype(np.float32)\n",
    "boston.iloc[:,0:-1] = boston.iloc[:,0:-1].fillna(0).astype(np.float32)"
   ]
  },
  {
   "cell_type": "code",
   "execution_count": 8,
   "metadata": {},
   "outputs": [
    {
     "name": "stdout",
     "output_type": "stream",
     "text": [
      "Train sample (X): 39\n",
      "Train sample (y): 39\n",
      "Test sample (X): 14\n",
      "Test sample (y): 14\n",
      "Number of trees = 100\n",
      "0.9273509939019907\n",
      "0.6027398646098674\n"
     ]
    }
   ],
   "source": [
    "X = dc.iloc[:,7:-7]\n",
    "X = X.drop(\"pop\", axis = 1)\n",
    "y = dc[\"aff_dev_rate\"]\n",
    "\n",
    "X_train, X_test, y_train, y_test = train_test_split(X,y, train_size = 0.75)\n",
    "\n",
    "print (\"Train sample (X):\", len(X_train))\n",
    "print (\"Train sample (y):\", len(y_train))\n",
    "print (\"Test sample (X):\", len(X_test))\n",
    "print (\"Test sample (y):\", len(y_test))\n",
    "\n",
    "parameters = {'n_estimators':range(64, 129)}\n",
    "rforest = RandomForestRegressor(random_state=0,criterion='mse')\n",
    "optim = GridSearchCV(rforest, parameters)\n",
    "optim.get_params()[\"estimator__n_estimators\"]\n",
    "print(\"Number of trees =\", optim.get_params()[\"estimator__n_estimators\"])\n",
    "clf = RandomForestRegressor(n_estimators= optim.get_params()[\"estimator__n_estimators\"])\n",
    "clf.fit(X_train, y_train)\n",
    "print (clf.score(X_train, y_train))\n",
    "print (clf.score(X_test, y_test))"
   ]
  },
  {
   "cell_type": "code",
   "execution_count": 9,
   "metadata": {},
   "outputs": [
    {
     "name": "stdout",
     "output_type": "stream",
     "text": [
      "Train sample (X): 32\n",
      "Train sample (y): 32\n",
      "Test sample (X): 11\n",
      "Test sample (y): 11\n",
      "Number of trees = 100\n",
      "0.8650566112487466\n",
      "-0.23553136584069947\n"
     ]
    }
   ],
   "source": [
    "X = boston.iloc[:,7:-7]\n",
    "X = X.drop(\"pop\", axis = 1)\n",
    "y = boston[\"aff_dev_rate\"]\n",
    "\n",
    "X_train, X_test, y_train, y_test = train_test_split(X,y, train_size = 0.75)\n",
    "\n",
    "print (\"Train sample (X):\", len(X_train))\n",
    "print (\"Train sample (y):\", len(y_train))\n",
    "print (\"Test sample (X):\", len(X_test))\n",
    "print (\"Test sample (y):\", len(y_test))\n",
    "\n",
    "parameters = {'n_estimators':range(64, 129)}\n",
    "rforest = RandomForestRegressor(random_state=0,criterion='mse')\n",
    "optim = GridSearchCV(rforest, parameters)\n",
    "optim.get_params()[\"estimator__n_estimators\"]\n",
    "print(\"Number of trees =\", optim.get_params()[\"estimator__n_estimators\"])\n",
    "clf = RandomForestRegressor(n_estimators= optim.get_params()[\"estimator__n_estimators\"])\n",
    "clf.fit(X_train, y_train)\n",
    "print (clf.score(X_train, y_train))\n",
    "print (clf.score(X_test, y_test))"
   ]
  },
  {
   "cell_type": "code",
   "execution_count": 10,
   "metadata": {},
   "outputs": [
    {
     "name": "stdout",
     "output_type": "stream",
     "text": [
      "Train sample (X): 45\n",
      "Train sample (y): 45\n",
      "Test sample (X): 15\n",
      "Test sample (y): 15\n",
      "Number of trees = 100\n",
      "0.8430035348875939\n",
      "-0.0707478932090031\n"
     ]
    }
   ],
   "source": [
    "X = chicago.iloc[:,7:-7]\n",
    "X = X.drop(\"pop\", axis = 1)\n",
    "y = chicago[\"aff_dev_rate\"]\n",
    "\n",
    "X_train, X_test, y_train, y_test = train_test_split(X,y, train_size = 0.75)\n",
    "\n",
    "print (\"Train sample (X):\", len(X_train))\n",
    "print (\"Train sample (y):\", len(y_train))\n",
    "print (\"Test sample (X):\", len(X_test))\n",
    "print (\"Test sample (y):\", len(y_test))\n",
    "\n",
    "parameters = {'n_estimators':range(64, 129)}\n",
    "rforest = RandomForestRegressor(random_state=0,criterion='mse')\n",
    "optim = GridSearchCV(rforest, parameters)\n",
    "optim.get_params()[\"estimator__n_estimators\"]\n",
    "print(\"Number of trees =\", optim.get_params()[\"estimator__n_estimators\"])\n",
    "clf = RandomForestRegressor(n_estimators= optim.get_params()[\"estimator__n_estimators\"])\n",
    "clf.fit(X_train, y_train)\n",
    "print (clf.score(X_train, y_train))\n",
    "print (clf.score(X_test, y_test))"
   ]
  },
  {
   "cell_type": "code",
   "execution_count": 11,
   "metadata": {},
   "outputs": [
    {
     "name": "stdout",
     "output_type": "stream",
     "text": [
      "Train sample (X): 34\n",
      "Train sample (y): 34\n",
      "Test sample (X): 12\n",
      "Test sample (y): 12\n",
      "Number of trees = 100\n",
      "0.4468574384272451\n",
      "-1.3777848762209324\n"
     ]
    }
   ],
   "source": [
    "X = sf.iloc[:,7:-7]\n",
    "X = X.drop(\"pop\", axis = 1)\n",
    "y = sf[\"aff_dev_rate\"]\n",
    "\n",
    "X_train, X_test, y_train, y_test = train_test_split(X,y, train_size = 0.75)\n",
    "\n",
    "print (\"Train sample (X):\", len(X_train))\n",
    "print (\"Train sample (y):\", len(y_train))\n",
    "print (\"Test sample (X):\", len(X_test))\n",
    "print (\"Test sample (y):\", len(y_test))\n",
    "\n",
    "parameters = {'n_estimators':range(64, 129)}\n",
    "rforest = RandomForestRegressor(random_state=0,criterion='mse')\n",
    "optim = GridSearchCV(rforest, parameters)\n",
    "optim.get_params()[\"estimator__n_estimators\"]\n",
    "print(\"Number of trees =\", optim.get_params()[\"estimator__n_estimators\"])\n",
    "clf = RandomForestRegressor(n_estimators= optim.get_params()[\"estimator__n_estimators\"])\n",
    "clf.fit(X_train, y_train)\n",
    "print (clf.score(X_train, y_train))\n",
    "print (clf.score(X_test, y_test))"
   ]
  },
  {
   "cell_type": "code",
   "execution_count": 12,
   "metadata": {},
   "outputs": [
    {
     "name": "stdout",
     "output_type": "stream",
     "text": [
      "Train sample (X): 132\n",
      "Train sample (y): 132\n",
      "Test sample (X): 45\n",
      "Test sample (y): 45\n",
      "Number of trees = 100\n",
      "0.8551925405877637\n",
      "-0.02388399514611783\n"
     ]
    }
   ],
   "source": [
    "X = nyc.iloc[:,7:-7]\n",
    "X = X.drop(\"pop\", axis = 1)\n",
    "y = nyc[\"aff_dev_rate\"]\n",
    "\n",
    "X_train, X_test, y_train, y_test = train_test_split(X,y, train_size = 0.75)\n",
    "\n",
    "print (\"Train sample (X):\", len(X_train))\n",
    "print (\"Train sample (y):\", len(y_train))\n",
    "print (\"Test sample (X):\", len(X_test))\n",
    "print (\"Test sample (y):\", len(y_test))\n",
    "\n",
    "parameters = {'n_estimators':range(64, 129)}\n",
    "rforest = RandomForestRegressor(random_state=0,criterion='mse')\n",
    "optim = GridSearchCV(rforest, parameters)\n",
    "optim.get_params()[\"estimator__n_estimators\"]\n",
    "print(\"Number of trees =\", optim.get_params()[\"estimator__n_estimators\"])\n",
    "clf = RandomForestRegressor(n_estimators= optim.get_params()[\"estimator__n_estimators\"])\n",
    "clf.fit(X_train, y_train)\n",
    "print (clf.score(X_train, y_train))\n",
    "print (clf.score(X_test, y_test))"
   ]
  },
  {
   "cell_type": "markdown",
   "metadata": {},
   "source": [
    "## Residual Development"
   ]
  },
  {
   "cell_type": "code",
   "execution_count": 34,
   "metadata": {},
   "outputs": [
    {
     "data": {
      "text/html": [
       "<div>\n",
       "<style scoped>\n",
       "    .dataframe tbody tr th:only-of-type {\n",
       "        vertical-align: middle;\n",
       "    }\n",
       "\n",
       "    .dataframe tbody tr th {\n",
       "        vertical-align: top;\n",
       "    }\n",
       "\n",
       "    .dataframe thead th {\n",
       "        text-align: right;\n",
       "    }\n",
       "</style>\n",
       "<table border=\"1\" class=\"dataframe\">\n",
       "  <thead>\n",
       "    <tr style=\"text-align: right;\">\n",
       "      <th></th>\n",
       "      <th>med_hh_inc</th>\n",
       "      <th>med_age</th>\n",
       "      <th>youth_pop</th>\n",
       "      <th>elderly_pop</th>\n",
       "      <th>white_pop</th>\n",
       "      <th>black_pop</th>\n",
       "      <th>asian_pop</th>\n",
       "      <th>pacisl_pop</th>\n",
       "      <th>other_race_pop</th>\n",
       "      <th>multiracial_pop</th>\n",
       "      <th>latinx_pop</th>\n",
       "      <th>simpson</th>\n",
       "      <th>citizen_pop</th>\n",
       "      <th>housing_total</th>\n",
       "    </tr>\n",
       "  </thead>\n",
       "  <tbody>\n",
       "    <tr>\n",
       "      <th>0</th>\n",
       "      <td>122776.0</td>\n",
       "      <td>36.0</td>\n",
       "      <td>2101.0</td>\n",
       "      <td>3490.0</td>\n",
       "      <td>15677.0</td>\n",
       "      <td>1510.0</td>\n",
       "      <td>5377.0</td>\n",
       "      <td>21.0</td>\n",
       "      <td>799.0</td>\n",
       "      <td>717.0</td>\n",
       "      <td>3741.0</td>\n",
       "      <td>0.623194</td>\n",
       "      <td>18676.0</td>\n",
       "      <td>14746.0</td>\n",
       "    </tr>\n",
       "    <tr>\n",
       "      <th>1</th>\n",
       "      <td>40045.0</td>\n",
       "      <td>44.0</td>\n",
       "      <td>9477.0</td>\n",
       "      <td>16931.0</td>\n",
       "      <td>23849.0</td>\n",
       "      <td>6635.0</td>\n",
       "      <td>31198.0</td>\n",
       "      <td>22.0</td>\n",
       "      <td>8924.0</td>\n",
       "      <td>3127.0</td>\n",
       "      <td>19554.0</td>\n",
       "      <td>0.763648</td>\n",
       "      <td>53646.0</td>\n",
       "      <td>35921.0</td>\n",
       "    </tr>\n",
       "    <tr>\n",
       "      <th>2</th>\n",
       "      <td>183787.0</td>\n",
       "      <td>32.0</td>\n",
       "      <td>3374.0</td>\n",
       "      <td>7215.0</td>\n",
       "      <td>40681.0</td>\n",
       "      <td>3007.0</td>\n",
       "      <td>7812.0</td>\n",
       "      <td>73.0</td>\n",
       "      <td>1155.0</td>\n",
       "      <td>1168.0</td>\n",
       "      <td>4559.0</td>\n",
       "      <td>0.488300</td>\n",
       "      <td>44096.0</td>\n",
       "      <td>30931.0</td>\n",
       "    </tr>\n",
       "    <tr>\n",
       "      <th>3</th>\n",
       "      <td>205202.0</td>\n",
       "      <td>37.0</td>\n",
       "      <td>382.0</td>\n",
       "      <td>201.0</td>\n",
       "      <td>2033.0</td>\n",
       "      <td>142.0</td>\n",
       "      <td>992.0</td>\n",
       "      <td>17.0</td>\n",
       "      <td>35.0</td>\n",
       "      <td>116.0</td>\n",
       "      <td>108.0</td>\n",
       "      <td>0.564544</td>\n",
       "      <td>2537.0</td>\n",
       "      <td>2264.0</td>\n",
       "    </tr>\n",
       "    <tr>\n",
       "      <th>4</th>\n",
       "      <td>241094.0</td>\n",
       "      <td>30.0</td>\n",
       "      <td>1037.0</td>\n",
       "      <td>93.0</td>\n",
       "      <td>6532.0</td>\n",
       "      <td>94.0</td>\n",
       "      <td>1543.0</td>\n",
       "      <td>0.0</td>\n",
       "      <td>217.0</td>\n",
       "      <td>315.0</td>\n",
       "      <td>552.0</td>\n",
       "      <td>0.468530</td>\n",
       "      <td>6542.0</td>\n",
       "      <td>5889.0</td>\n",
       "    </tr>\n",
       "  </tbody>\n",
       "</table>\n",
       "</div>"
      ],
      "text/plain": [
       "   med_hh_inc  med_age  youth_pop  elderly_pop  white_pop  black_pop  \\\n",
       "0    122776.0     36.0     2101.0       3490.0    15677.0     1510.0   \n",
       "1     40045.0     44.0     9477.0      16931.0    23849.0     6635.0   \n",
       "2    183787.0     32.0     3374.0       7215.0    40681.0     3007.0   \n",
       "3    205202.0     37.0      382.0        201.0     2033.0      142.0   \n",
       "4    241094.0     30.0     1037.0         93.0     6532.0       94.0   \n",
       "\n",
       "   asian_pop  pacisl_pop  other_race_pop  multiracial_pop  latinx_pop  \\\n",
       "0     5377.0        21.0           799.0            717.0      3741.0   \n",
       "1    31198.0        22.0          8924.0           3127.0     19554.0   \n",
       "2     7812.0        73.0          1155.0           1168.0      4559.0   \n",
       "3      992.0        17.0            35.0            116.0       108.0   \n",
       "4     1543.0         0.0           217.0            315.0       552.0   \n",
       "\n",
       "    simpson  citizen_pop  housing_total  \n",
       "0  0.623194      18676.0        14746.0  \n",
       "1  0.763648      53646.0        35921.0  \n",
       "2  0.488300      44096.0        30931.0  \n",
       "3  0.564544       2537.0         2264.0  \n",
       "4  0.468530       6542.0         5889.0  "
      ]
     },
     "execution_count": 34,
     "metadata": {},
     "output_type": "execute_result"
    }
   ],
   "source": [
    "X = ih.iloc[:,6:-7]\n",
    "X = X.drop(\"pop\", axis = 1)\n",
    "y = ih[\"dev_residual\"]\n",
    "\n",
    "X.head()"
   ]
  },
  {
   "cell_type": "code",
   "execution_count": 44,
   "metadata": {},
   "outputs": [
    {
     "name": "stdout",
     "output_type": "stream",
     "text": [
      "Train sample (X): 284\n",
      "Train sample (y): 284\n",
      "Test sample (X): 95\n",
      "Test sample (y): 95\n",
      "Number of trees = 100\n",
      "0.8657054957909682\n",
      "0.14834589697257672\n"
     ]
    }
   ],
   "source": [
    "X_train, X_test, y_train, y_test = train_test_split(X,y, train_size = 0.75)\n",
    "\n",
    "print (\"Train sample (X):\", len(X_train))\n",
    "print (\"Train sample (y):\", len(y_train))\n",
    "print (\"Test sample (X):\", len(X_test))\n",
    "print (\"Test sample (y):\", len(y_test))\n",
    "\n",
    "parameters = {'n_estimators':range(64, 129)}\n",
    "rforest = RandomForestRegressor(random_state=0,criterion='mse')\n",
    "optim = GridSearchCV(rforest, parameters)\n",
    "optim.get_params()[\"estimator__n_estimators\"]\n",
    "print(\"Number of trees =\", optim.get_params()[\"estimator__n_estimators\"])\n",
    "clf = RandomForestRegressor(n_estimators= optim.get_params()[\"estimator__n_estimators\"])\n",
    "clf.fit(X_train, y_train)\n",
    "print (clf.score(X_train, y_train))\n",
    "print (clf.score(X_test, y_test))"
   ]
  },
  {
   "cell_type": "code",
   "execution_count": 45,
   "metadata": {
    "scrolled": false
   },
   "outputs": [
    {
     "data": {
      "text/plain": [
       "Text(0, 0.5, 'Feature')"
      ]
     },
     "execution_count": 45,
     "metadata": {},
     "output_type": "execute_result"
    },
    {
     "data": {
      "image/png": "[encoded data removed]",
      "text/plain": [
       "<Figure size 720x576 with 1 Axes>"
      ]
     },
     "metadata": {
      "needs_background": "light"
     },
     "output_type": "display_data"
    }
   ],
   "source": [
    "n_features = X.shape[1]\n",
    "plt.figure(figsize=(10,8))\n",
    "plt.barh(range(n_features), clf.feature_importances_, align='center', color='orange', edgecolor='k')\n",
    "plt.yticks(np.arange(n_features), X.columns.tolist())\n",
    "plt.xlabel(\"Feature importance\")\n",
    "plt.ylabel(\"Feature\")"
   ]
  },
  {
   "cell_type": "markdown",
   "metadata": {},
   "source": [
    "#### Individual Cities"
   ]
  },
  {
   "cell_type": "code",
   "execution_count": 16,
   "metadata": {},
   "outputs": [
    {
     "name": "stdout",
     "output_type": "stream",
     "text": [
      "Train sample (X): 132\n",
      "Train sample (y): 132\n",
      "Test sample (X): 45\n",
      "Test sample (y): 45\n",
      "Number of trees = 100\n",
      "0.8281505353559782\n",
      "-0.2263816829539624\n"
     ]
    }
   ],
   "source": [
    "X = nyc.iloc[:,7:-7]\n",
    "X = X.drop(\"pop\", axis = 1)\n",
    "y = nyc[\"dev_residual\"]\n",
    "\n",
    "X_train, X_test, y_train, y_test = train_test_split(X,y, train_size = 0.75)\n",
    "\n",
    "print (\"Train sample (X):\", len(X_train))\n",
    "print (\"Train sample (y):\", len(y_train))\n",
    "print (\"Test sample (X):\", len(X_test))\n",
    "print (\"Test sample (y):\", len(y_test))\n",
    "\n",
    "parameters = {'n_estimators':range(64, 129)}\n",
    "rforest = RandomForestRegressor(random_state=0,criterion='mse')\n",
    "optim = GridSearchCV(rforest, parameters)\n",
    "optim.get_params()[\"estimator__n_estimators\"]\n",
    "print(\"Number of trees =\", optim.get_params()[\"estimator__n_estimators\"])\n",
    "clf = RandomForestRegressor(n_estimators= optim.get_params()[\"estimator__n_estimators\"])\n",
    "clf.fit(X_train, y_train)\n",
    "print (clf.score(X_train, y_train))\n",
    "print (clf.score(X_test, y_test))"
   ]
  },
  {
   "cell_type": "code",
   "execution_count": 17,
   "metadata": {},
   "outputs": [
    {
     "name": "stdout",
     "output_type": "stream",
     "text": [
      "Train sample (X): 39\n",
      "Train sample (y): 39\n",
      "Test sample (X): 14\n",
      "Test sample (y): 14\n",
      "Number of trees = 100\n",
      "0.9117172901308597\n",
      "0.4502267147864255\n"
     ]
    }
   ],
   "source": [
    "X = dc.iloc[:,7:-7]\n",
    "X = X.drop(\"pop\", axis = 1)\n",
    "y = dc[\"aff_dev_rate\"]\n",
    "\n",
    "X_train, X_test, y_train, y_test = train_test_split(X,y, train_size = 0.75)\n",
    "\n",
    "print (\"Train sample (X):\", len(X_train))\n",
    "print (\"Train sample (y):\", len(y_train))\n",
    "print (\"Test sample (X):\", len(X_test))\n",
    "print (\"Test sample (y):\", len(y_test))\n",
    "\n",
    "parameters = {'n_estimators':range(64, 129)}\n",
    "rforest = RandomForestRegressor(random_state=0,criterion='mse')\n",
    "optim = GridSearchCV(rforest, parameters)\n",
    "optim.get_params()[\"estimator__n_estimators\"]\n",
    "print(\"Number of trees =\", optim.get_params()[\"estimator__n_estimators\"])\n",
    "clf = RandomForestRegressor(n_estimators= optim.get_params()[\"estimator__n_estimators\"])\n",
    "clf.fit(X_train, y_train)\n",
    "print (clf.score(X_train, y_train))\n",
    "print (clf.score(X_test, y_test))"
   ]
  },
  {
   "cell_type": "code",
   "execution_count": 18,
   "metadata": {},
   "outputs": [
    {
     "name": "stdout",
     "output_type": "stream",
     "text": [
      "Train sample (X): 45\n",
      "Train sample (y): 45\n",
      "Test sample (X): 15\n",
      "Test sample (y): 15\n",
      "Number of trees = 100\n",
      "0.7898812275977065\n",
      "-0.08207564774812015\n"
     ]
    }
   ],
   "source": [
    "X = chicago.iloc[:,7:-7]\n",
    "X = X.drop(\"pop\", axis = 1)\n",
    "y = chicago[\"aff_dev_rate\"]\n",
    "\n",
    "X_train, X_test, y_train, y_test = train_test_split(X,y, train_size = 0.75)\n",
    "\n",
    "print (\"Train sample (X):\", len(X_train))\n",
    "print (\"Train sample (y):\", len(y_train))\n",
    "print (\"Test sample (X):\", len(X_test))\n",
    "print (\"Test sample (y):\", len(y_test))\n",
    "\n",
    "parameters = {'n_estimators':range(64, 129)}\n",
    "rforest = RandomForestRegressor(random_state=0,criterion='mse')\n",
    "optim = GridSearchCV(rforest, parameters)\n",
    "optim.get_params()[\"estimator__n_estimators\"]\n",
    "print(\"Number of trees =\", optim.get_params()[\"estimator__n_estimators\"])\n",
    "clf = RandomForestRegressor(n_estimators= optim.get_params()[\"estimator__n_estimators\"])\n",
    "clf.fit(X_train, y_train)\n",
    "print (clf.score(X_train, y_train))\n",
    "print (clf.score(X_test, y_test))"
   ]
  },
  {
   "cell_type": "code",
   "execution_count": 19,
   "metadata": {},
   "outputs": [
    {
     "name": "stdout",
     "output_type": "stream",
     "text": [
      "Train sample (X): 34\n",
      "Train sample (y): 34\n",
      "Test sample (X): 12\n",
      "Test sample (y): 12\n",
      "Number of trees = 100\n",
      "0.5408480060853311\n",
      "-0.2619316297453398\n"
     ]
    }
   ],
   "source": [
    "X = sf.iloc[:,7:-7]\n",
    "X = X.drop(\"pop\", axis = 1)\n",
    "y = sf[\"aff_dev_rate\"]\n",
    "\n",
    "X_train, X_test, y_train, y_test = train_test_split(X,y, train_size = 0.75)\n",
    "\n",
    "print (\"Train sample (X):\", len(X_train))\n",
    "print (\"Train sample (y):\", len(y_train))\n",
    "print (\"Test sample (X):\", len(X_test))\n",
    "print (\"Test sample (y):\", len(y_test))\n",
    "\n",
    "parameters = {'n_estimators':range(64, 129)}\n",
    "rforest = RandomForestRegressor(random_state=0,criterion='mse')\n",
    "optim = GridSearchCV(rforest, parameters)\n",
    "optim.get_params()[\"estimator__n_estimators\"]\n",
    "print(\"Number of trees =\", optim.get_params()[\"estimator__n_estimators\"])\n",
    "clf = RandomForestRegressor(n_estimators= optim.get_params()[\"estimator__n_estimators\"])\n",
    "clf.fit(X_train, y_train)\n",
    "print (clf.score(X_train, y_train))\n",
    "print (clf.score(X_test, y_test))"
   ]
  },
  {
   "cell_type": "code",
   "execution_count": 20,
   "metadata": {},
   "outputs": [
    {
     "name": "stdout",
     "output_type": "stream",
     "text": [
      "Train sample (X): 32\n",
      "Train sample (y): 32\n",
      "Test sample (X): 11\n",
      "Test sample (y): 11\n",
      "Number of trees = 100\n",
      "0.8815182147872125\n",
      "0.17510807042680132\n"
     ]
    }
   ],
   "source": [
    "X = boston.iloc[:,7:-7]\n",
    "X = X.drop(\"pop\", axis = 1)\n",
    "y = boston[\"aff_dev_rate\"]\n",
    "\n",
    "X_train, X_test, y_train, y_test = train_test_split(X,y, train_size = 0.75)\n",
    "\n",
    "print (\"Train sample (X):\", len(X_train))\n",
    "print (\"Train sample (y):\", len(y_train))\n",
    "print (\"Test sample (X):\", len(X_test))\n",
    "print (\"Test sample (y):\", len(y_test))\n",
    "\n",
    "parameters = {'n_estimators':range(64, 129)}\n",
    "rforest = RandomForestRegressor(random_state=0,criterion='mse')\n",
    "optim = GridSearchCV(rforest, parameters)\n",
    "optim.get_params()[\"estimator__n_estimators\"]\n",
    "print(\"Number of trees =\", optim.get_params()[\"estimator__n_estimators\"])\n",
    "clf = RandomForestRegressor(n_estimators= optim.get_params()[\"estimator__n_estimators\"])\n",
    "clf.fit(X_train, y_train)\n",
    "print (clf.score(X_train, y_train))\n",
    "print (clf.score(X_test, y_test))"
   ]
  },
  {
   "cell_type": "markdown",
   "metadata": {},
   "source": [
    "### IH Allocation"
   ]
  },
  {
   "cell_type": "code",
   "execution_count": 51,
   "metadata": {},
   "outputs": [
    {
     "data": {
      "text/html": [
       "<div>\n",
       "<style scoped>\n",
       "    .dataframe tbody tr th:only-of-type {\n",
       "        vertical-align: middle;\n",
       "    }\n",
       "\n",
       "    .dataframe tbody tr th {\n",
       "        vertical-align: top;\n",
       "    }\n",
       "\n",
       "    .dataframe thead th {\n",
       "        text-align: right;\n",
       "    }\n",
       "</style>\n",
       "<table border=\"1\" class=\"dataframe\">\n",
       "  <thead>\n",
       "    <tr style=\"text-align: right;\">\n",
       "      <th></th>\n",
       "      <th>med_hh_inc</th>\n",
       "      <th>med_age</th>\n",
       "      <th>youth_pop</th>\n",
       "      <th>elderly_pop</th>\n",
       "      <th>white_pop</th>\n",
       "      <th>black_pop</th>\n",
       "      <th>asian_pop</th>\n",
       "      <th>pacisl_pop</th>\n",
       "      <th>other_race_pop</th>\n",
       "      <th>multiracial_pop</th>\n",
       "      <th>latinx_pop</th>\n",
       "      <th>simpson</th>\n",
       "      <th>citizen_pop</th>\n",
       "      <th>housing_total</th>\n",
       "    </tr>\n",
       "  </thead>\n",
       "  <tbody>\n",
       "    <tr>\n",
       "      <th>0</th>\n",
       "      <td>122776.0</td>\n",
       "      <td>36.0</td>\n",
       "      <td>2101.0</td>\n",
       "      <td>3490.0</td>\n",
       "      <td>15677.0</td>\n",
       "      <td>1510.0</td>\n",
       "      <td>5377.0</td>\n",
       "      <td>21.0</td>\n",
       "      <td>799.0</td>\n",
       "      <td>717.0</td>\n",
       "      <td>3741.0</td>\n",
       "      <td>0.623194</td>\n",
       "      <td>18676.0</td>\n",
       "      <td>14746.0</td>\n",
       "    </tr>\n",
       "    <tr>\n",
       "      <th>1</th>\n",
       "      <td>40045.0</td>\n",
       "      <td>44.0</td>\n",
       "      <td>9477.0</td>\n",
       "      <td>16931.0</td>\n",
       "      <td>23849.0</td>\n",
       "      <td>6635.0</td>\n",
       "      <td>31198.0</td>\n",
       "      <td>22.0</td>\n",
       "      <td>8924.0</td>\n",
       "      <td>3127.0</td>\n",
       "      <td>19554.0</td>\n",
       "      <td>0.763648</td>\n",
       "      <td>53646.0</td>\n",
       "      <td>35921.0</td>\n",
       "    </tr>\n",
       "    <tr>\n",
       "      <th>2</th>\n",
       "      <td>183787.0</td>\n",
       "      <td>32.0</td>\n",
       "      <td>3374.0</td>\n",
       "      <td>7215.0</td>\n",
       "      <td>40681.0</td>\n",
       "      <td>3007.0</td>\n",
       "      <td>7812.0</td>\n",
       "      <td>73.0</td>\n",
       "      <td>1155.0</td>\n",
       "      <td>1168.0</td>\n",
       "      <td>4559.0</td>\n",
       "      <td>0.488300</td>\n",
       "      <td>44096.0</td>\n",
       "      <td>30931.0</td>\n",
       "    </tr>\n",
       "    <tr>\n",
       "      <th>3</th>\n",
       "      <td>205202.0</td>\n",
       "      <td>37.0</td>\n",
       "      <td>382.0</td>\n",
       "      <td>201.0</td>\n",
       "      <td>2033.0</td>\n",
       "      <td>142.0</td>\n",
       "      <td>992.0</td>\n",
       "      <td>17.0</td>\n",
       "      <td>35.0</td>\n",
       "      <td>116.0</td>\n",
       "      <td>108.0</td>\n",
       "      <td>0.564544</td>\n",
       "      <td>2537.0</td>\n",
       "      <td>2264.0</td>\n",
       "    </tr>\n",
       "    <tr>\n",
       "      <th>4</th>\n",
       "      <td>241094.0</td>\n",
       "      <td>30.0</td>\n",
       "      <td>1037.0</td>\n",
       "      <td>93.0</td>\n",
       "      <td>6532.0</td>\n",
       "      <td>94.0</td>\n",
       "      <td>1543.0</td>\n",
       "      <td>0.0</td>\n",
       "      <td>217.0</td>\n",
       "      <td>315.0</td>\n",
       "      <td>552.0</td>\n",
       "      <td>0.468530</td>\n",
       "      <td>6542.0</td>\n",
       "      <td>5889.0</td>\n",
       "    </tr>\n",
       "  </tbody>\n",
       "</table>\n",
       "</div>"
      ],
      "text/plain": [
       "   med_hh_inc  med_age  youth_pop  elderly_pop  white_pop  black_pop  \\\n",
       "0    122776.0     36.0     2101.0       3490.0    15677.0     1510.0   \n",
       "1     40045.0     44.0     9477.0      16931.0    23849.0     6635.0   \n",
       "2    183787.0     32.0     3374.0       7215.0    40681.0     3007.0   \n",
       "3    205202.0     37.0      382.0        201.0     2033.0      142.0   \n",
       "4    241094.0     30.0     1037.0         93.0     6532.0       94.0   \n",
       "\n",
       "   asian_pop  pacisl_pop  other_race_pop  multiracial_pop  latinx_pop  \\\n",
       "0     5377.0        21.0           799.0            717.0      3741.0   \n",
       "1    31198.0        22.0          8924.0           3127.0     19554.0   \n",
       "2     7812.0        73.0          1155.0           1168.0      4559.0   \n",
       "3      992.0        17.0            35.0            116.0       108.0   \n",
       "4     1543.0         0.0           217.0            315.0       552.0   \n",
       "\n",
       "    simpson  citizen_pop  housing_total  \n",
       "0  0.623194      18676.0        14746.0  \n",
       "1  0.763648      53646.0        35921.0  \n",
       "2  0.488300      44096.0        30931.0  \n",
       "3  0.564544       2537.0         2264.0  \n",
       "4  0.468530       6542.0         5889.0  "
      ]
     },
     "execution_count": 51,
     "metadata": {},
     "output_type": "execute_result"
    }
   ],
   "source": [
    "X = ih.iloc[:,6:-7]\n",
    "X = X.drop(\"pop\", axis = 1)\n",
    "y = ih[\"ih_prop\"]\n",
    "\n",
    "X.head()"
   ]
  },
  {
   "cell_type": "code",
   "execution_count": 53,
   "metadata": {},
   "outputs": [
    {
     "name": "stdout",
     "output_type": "stream",
     "text": [
      "Train sample (X): 284\n",
      "Train sample (y): 284\n",
      "Test sample (X): 95\n",
      "Test sample (y): 95\n",
      "Number of trees = 100\n",
      "0.7484054260797568\n",
      "0.12472836034380952\n"
     ]
    }
   ],
   "source": [
    "X_train, X_test, y_train, y_test = train_test_split(X,y, train_size = 0.75)\n",
    "\n",
    "print (\"Train sample (X):\", len(X_train))\n",
    "print (\"Train sample (y):\", len(y_train))\n",
    "print (\"Test sample (X):\", len(X_test))\n",
    "print (\"Test sample (y):\", len(y_test))\n",
    "\n",
    "parameters = {'n_estimators':range(64, 129)}\n",
    "rforest = RandomForestRegressor(random_state=0,criterion='mse')\n",
    "optim = GridSearchCV(rforest, parameters)\n",
    "optim.get_params()[\"estimator__n_estimators\"]\n",
    "print(\"Number of trees =\", optim.get_params()[\"estimator__n_estimators\"])\n",
    "clf = RandomForestRegressor(n_estimators= optim.get_params()[\"estimator__n_estimators\"])\n",
    "clf.fit(X_train, y_train)\n",
    "print (clf.score(X_train, y_train))\n",
    "print (clf.score(X_test, y_test))"
   ]
  },
  {
   "cell_type": "code",
   "execution_count": 54,
   "metadata": {},
   "outputs": [
    {
     "data": {
      "text/plain": [
       "Text(0, 0.5, 'Feature')"
      ]
     },
     "execution_count": 54,
     "metadata": {},
     "output_type": "execute_result"
    },
    {
     "data": {
      "image/png": "[encoded data removed]",
      "text/plain": [
       "<Figure size 720x576 with 1 Axes>"
      ]
     },
     "metadata": {
      "needs_background": "light"
     },
     "output_type": "display_data"
    }
   ],
   "source": [
    "n_features = X.shape[1]\n",
    "plt.figure(figsize=(10,8))\n",
    "plt.barh(range(n_features), clf.feature_importances_, align='center', color='orange', edgecolor='k')\n",
    "plt.yticks(np.arange(n_features), X.columns.tolist())\n",
    "plt.xlabel(\"Feature importance\")\n",
    "plt.ylabel(\"Feature\")"
   ]
  },
  {
   "cell_type": "markdown",
   "metadata": {},
   "source": [
    "#### Individual Cities"
   ]
  },
  {
   "cell_type": "code",
   "execution_count": 24,
   "metadata": {},
   "outputs": [
    {
     "name": "stdout",
     "output_type": "stream",
     "text": [
      "Train sample (X): 132\n",
      "Train sample (y): 132\n",
      "Test sample (X): 45\n",
      "Test sample (y): 45\n",
      "Number of trees = 100\n",
      "0.8413092143290073\n",
      "-0.5073702133570532\n"
     ]
    }
   ],
   "source": [
    "X = nyc.iloc[:,7:-7]\n",
    "X = X.drop(\"pop\", axis = 1)\n",
    "y = nyc[\"ih_prop\"]\n",
    "\n",
    "X_train, X_test, y_train, y_test = train_test_split(X,y, train_size = 0.75)\n",
    "\n",
    "print (\"Train sample (X):\", len(X_train))\n",
    "print (\"Train sample (y):\", len(y_train))\n",
    "print (\"Test sample (X):\", len(X_test))\n",
    "print (\"Test sample (y):\", len(y_test))\n",
    "\n",
    "parameters = {'n_estimators':range(64, 129)}\n",
    "rforest = RandomForestRegressor(random_state=0,criterion='mse')\n",
    "optim = GridSearchCV(rforest, parameters)\n",
    "optim.get_params()[\"estimator__n_estimators\"]\n",
    "print(\"Number of trees =\", optim.get_params()[\"estimator__n_estimators\"])\n",
    "clf = RandomForestRegressor(n_estimators= optim.get_params()[\"estimator__n_estimators\"])\n",
    "clf.fit(X_train, y_train)\n",
    "print (clf.score(X_train, y_train))\n",
    "print (clf.score(X_test, y_test))"
   ]
  },
  {
   "cell_type": "code",
   "execution_count": 25,
   "metadata": {},
   "outputs": [
    {
     "name": "stdout",
     "output_type": "stream",
     "text": [
      "Train sample (X): 39\n",
      "Train sample (y): 39\n",
      "Test sample (X): 14\n",
      "Test sample (y): 14\n",
      "Number of trees = 100\n",
      "0.941065298815036\n",
      "0.6638488602211607\n"
     ]
    }
   ],
   "source": [
    "X = dc.iloc[:,7:-7]\n",
    "X = X.drop(\"pop\", axis = 1)\n",
    "y = dc[\"ih_prop\"]\n",
    "\n",
    "X_train, X_test, y_train, y_test = train_test_split(X,y, train_size = 0.75)\n",
    "\n",
    "print (\"Train sample (X):\", len(X_train))\n",
    "print (\"Train sample (y):\", len(y_train))\n",
    "print (\"Test sample (X):\", len(X_test))\n",
    "print (\"Test sample (y):\", len(y_test))\n",
    "\n",
    "parameters = {'n_estimators':range(64, 129)}\n",
    "rforest = RandomForestRegressor(random_state=0,criterion='mse')\n",
    "optim = GridSearchCV(rforest, parameters)\n",
    "optim.get_params()[\"estimator__n_estimators\"]\n",
    "print(\"Number of trees =\", optim.get_params()[\"estimator__n_estimators\"])\n",
    "clf = RandomForestRegressor(n_estimators= optim.get_params()[\"estimator__n_estimators\"])\n",
    "clf.fit(X_train, y_train)\n",
    "print (clf.score(X_train, y_train))\n",
    "print (clf.score(X_test, y_test))"
   ]
  },
  {
   "cell_type": "code",
   "execution_count": 26,
   "metadata": {},
   "outputs": [
    {
     "name": "stdout",
     "output_type": "stream",
     "text": [
      "Train sample (X): 45\n",
      "Train sample (y): 45\n",
      "Test sample (X): 15\n",
      "Test sample (y): 15\n",
      "Number of trees = 100\n",
      "0.8679412728569624\n",
      "-0.026453468614615394\n"
     ]
    }
   ],
   "source": [
    "X = chicago.iloc[:,7:-7]\n",
    "X = X.drop(\"pop\", axis = 1)\n",
    "y = chicago[\"ih_prop\"]\n",
    "\n",
    "X_train, X_test, y_train, y_test = train_test_split(X,y, train_size = 0.75)\n",
    "\n",
    "print (\"Train sample (X):\", len(X_train))\n",
    "print (\"Train sample (y):\", len(y_train))\n",
    "print (\"Test sample (X):\", len(X_test))\n",
    "print (\"Test sample (y):\", len(y_test))\n",
    "\n",
    "parameters = {'n_estimators':range(64, 129)}\n",
    "rforest = RandomForestRegressor(random_state=0,criterion='mse')\n",
    "optim = GridSearchCV(rforest, parameters)\n",
    "optim.get_params()[\"estimator__n_estimators\"]\n",
    "print(\"Number of trees =\", optim.get_params()[\"estimator__n_estimators\"])\n",
    "clf = RandomForestRegressor(n_estimators= optim.get_params()[\"estimator__n_estimators\"])\n",
    "clf.fit(X_train, y_train)\n",
    "print (clf.score(X_train, y_train))\n",
    "print (clf.score(X_test, y_test))"
   ]
  },
  {
   "cell_type": "code",
   "execution_count": 27,
   "metadata": {},
   "outputs": [
    {
     "name": "stdout",
     "output_type": "stream",
     "text": [
      "Train sample (X): 34\n",
      "Train sample (y): 34\n",
      "Test sample (X): 12\n",
      "Test sample (y): 12\n",
      "Number of trees = 100\n",
      "0.41945963833550115\n",
      "-0.10388409732774706\n"
     ]
    }
   ],
   "source": [
    "X = sf.iloc[:,7:-7]\n",
    "X = X.drop(\"pop\", axis = 1)\n",
    "y = sf[\"ih_prop\"]\n",
    "\n",
    "X_train, X_test, y_train, y_test = train_test_split(X,y, train_size = 0.75)\n",
    "\n",
    "print (\"Train sample (X):\", len(X_train))\n",
    "print (\"Train sample (y):\", len(y_train))\n",
    "print (\"Test sample (X):\", len(X_test))\n",
    "print (\"Test sample (y):\", len(y_test))\n",
    "\n",
    "parameters = {'n_estimators':range(64, 129)}\n",
    "rforest = RandomForestRegressor(random_state=0,criterion='mse')\n",
    "optim = GridSearchCV(rforest, parameters)\n",
    "optim.get_params()[\"estimator__n_estimators\"]\n",
    "print(\"Number of trees =\", optim.get_params()[\"estimator__n_estimators\"])\n",
    "clf = RandomForestRegressor(n_estimators= optim.get_params()[\"estimator__n_estimators\"])\n",
    "clf.fit(X_train, y_train)\n",
    "print (clf.score(X_train, y_train))\n",
    "print (clf.score(X_test, y_test))"
   ]
  },
  {
   "cell_type": "code",
   "execution_count": 28,
   "metadata": {},
   "outputs": [
    {
     "name": "stdout",
     "output_type": "stream",
     "text": [
      "Train sample (X): 32\n",
      "Train sample (y): 32\n",
      "Test sample (X): 11\n",
      "Test sample (y): 11\n",
      "Number of trees = 100\n",
      "0.9091654988449624\n",
      "0.3442099407862263\n"
     ]
    }
   ],
   "source": [
    "X = boston.iloc[:,7:-7]\n",
    "X = X.drop(\"pop\", axis = 1)\n",
    "y = boston[\"ih_prop\"]\n",
    "\n",
    "X_train, X_test, y_train, y_test = train_test_split(X,y, train_size = 0.75)\n",
    "\n",
    "print (\"Train sample (X):\", len(X_train))\n",
    "print (\"Train sample (y):\", len(y_train))\n",
    "print (\"Test sample (X):\", len(X_test))\n",
    "print (\"Test sample (y):\", len(y_test))\n",
    "\n",
    "parameters = {'n_estimators':range(64, 129)}\n",
    "rforest = RandomForestRegressor(random_state=0,criterion='mse')\n",
    "optim = GridSearchCV(rforest, parameters)\n",
    "optim.get_params()[\"estimator__n_estimators\"]\n",
    "print(\"Number of trees =\", optim.get_params()[\"estimator__n_estimators\"])\n",
    "clf = RandomForestRegressor(n_estimators= optim.get_params()[\"estimator__n_estimators\"])\n",
    "clf.fit(X_train, y_train)\n",
    "print (clf.score(X_train, y_train))\n",
    "print (clf.score(X_test, y_test))"
   ]
  },
  {
   "cell_type": "code",
   "execution_count": null,
   "metadata": {},
   "outputs": [],
   "source": []
  }
 ],
 "metadata": {
  "kernelspec": {
   "display_name": "Python 3",
   "language": "python",
   "name": "python3"
  },
  "language_info": {
   "codemirror_mode": {
    "name": "ipython",
    "version": 3
   },
   "file_extension": ".py",
   "mimetype": "text/x-python",
   "name": "python",
   "nbconvert_exporter": "python",
   "pygments_lexer": "ipython3",
   "version": "3.7.6"
  }
 },
 "nbformat": 4,
 "nbformat_minor": 4
}
