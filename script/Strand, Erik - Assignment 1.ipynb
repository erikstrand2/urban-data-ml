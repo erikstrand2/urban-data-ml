{
 "cells": [
  {
   "cell_type": "markdown",
   "metadata": {},
   "source": [
    "PLA6113 Exploring Urban Data with Machine Learning\n",
    "<br>\n",
    "Wednesday January 13th, 2020\n",
    "<br>\n",
    "Erik Strand\n",
    "\n",
    "# Lab 01: Intro to Python for ML\n",
    "# SECTION 1:\n"
   ]
  },
  {
   "cell_type": "markdown",
   "metadata": {},
   "source": [
    "## 1. Check your Python version"
   ]
  },
  {
   "cell_type": "code",
   "execution_count": 1,
   "metadata": {},
   "outputs": [
    {
     "name": "stdout",
     "output_type": "stream",
     "text": [
      "3.7.6\n"
     ]
    }
   ],
   "source": [
    "import platform\n",
    "print(platform.python_version())"
   ]
  },
  {
   "cell_type": "markdown",
   "metadata": {},
   "source": [
    "## 2. Code, output, and markdown"
   ]
  },
  {
   "cell_type": "code",
   "execution_count": 2,
   "metadata": {},
   "outputs": [
    {
     "data": {
      "text/plain": [
       "12"
      ]
     },
     "execution_count": 2,
     "metadata": {},
     "output_type": "execute_result"
    }
   ],
   "source": [
    "10+2"
   ]
  },
  {
   "cell_type": "markdown",
   "metadata": {},
   "source": [
    "10 + 2 = 12"
   ]
  },
  {
   "cell_type": "code",
   "execution_count": 4,
   "metadata": {},
   "outputs": [
    {
     "name": "stdout",
     "output_type": "stream",
     "text": [
      "60\n"
     ]
    }
   ],
   "source": [
    "x = 20\n",
    "y = 40\n",
    "print (x + y)"
   ]
  },
  {
   "cell_type": "markdown",
   "metadata": {},
   "source": [
    "We just calculated 20 + 40 and got a result, 60."
   ]
  },
  {
   "cell_type": "markdown",
   "metadata": {},
   "source": [
    "## 3. Basic math"
   ]
  },
  {
   "cell_type": "markdown",
   "metadata": {},
   "source": [
    "Python can handle basic math operations. Let’s have a try:"
   ]
  },
  {
   "cell_type": "code",
   "execution_count": null,
   "metadata": {},
   "outputs": [],
   "source": [
    "print (1 + 1)\n",
    "print (1 + 2 + 3)\n",
    "print (3 * 7 * 2)\n",
    "print (4 / 2)"
   ]
  },
  {
   "cell_type": "markdown",
   "metadata": {},
   "source": [
    "Let's see how order affects how code is run:"
   ]
  },
  {
   "cell_type": "code",
   "execution_count": null,
   "metadata": {},
   "outputs": [],
   "source": [
    "print (4 * 6 + 5)\n",
    "print ((4 * 6) + 5)\n",
    "print (4 * (6 + 5))"
   ]
  },
  {
   "cell_type": "markdown",
   "metadata": {},
   "source": [
    "## 4. Variables"
   ]
  },
  {
   "cell_type": "markdown",
   "metadata": {},
   "source": [
    "Assigning variables: \n",
    "<br>\n",
    "when assignining variables you can use \"=\" to assign variables:"
   ]
  },
  {
   "cell_type": "code",
   "execution_count": 7,
   "metadata": {},
   "outputs": [],
   "source": [
    "A = 100\n",
    "B = 3\n",
    "C = 15\n",
    "a,b = 5,7\n",
    "D = 'Hello world!'\n",
    "d = 'Hi there!'"
   ]
  },
  {
   "cell_type": "code",
   "execution_count": 8,
   "metadata": {},
   "outputs": [
    {
     "name": "stdout",
     "output_type": "stream",
     "text": [
      "5\n",
      "7\n",
      "3\n",
      "Hello world!\n",
      "Hi there!\n"
     ]
    }
   ],
   "source": [
    "print (a)\n",
    "print (b)\n",
    "print (B)\n",
    "print (D)\n",
    "print (d)"
   ]
  },
  {
   "cell_type": "markdown",
   "metadata": {},
   "source": [
    "Reassigning variables:"
   ]
  },
  {
   "cell_type": "code",
   "execution_count": 9,
   "metadata": {},
   "outputs": [
    {
     "name": "stdout",
     "output_type": "stream",
     "text": [
      "20\n"
     ]
    }
   ],
   "source": [
    "a = 20\n",
    "print (a)"
   ]
  },
  {
   "cell_type": "markdown",
   "metadata": {},
   "source": [
    "## 5. Data Types\n",
    "Getting the Data Type\n",
    "<br>\n",
    "You can get the data type of any object by using the type() function:\n",
    "### 5-1. String"
   ]
  },
  {
   "cell_type": "code",
   "execution_count": 10,
   "metadata": {},
   "outputs": [
    {
     "data": {
      "text/plain": [
       "str"
      ]
     },
     "execution_count": 10,
     "metadata": {},
     "output_type": "execute_result"
    }
   ],
   "source": [
    "x = \"Columbia University GSAPP\"\n",
    "type(x)"
   ]
  },
  {
   "cell_type": "markdown",
   "metadata": {},
   "source": [
    "### 5-2. Integer"
   ]
  },
  {
   "cell_type": "code",
   "execution_count": 11,
   "metadata": {},
   "outputs": [
    {
     "data": {
      "text/plain": [
       "int"
      ]
     },
     "execution_count": 11,
     "metadata": {},
     "output_type": "execute_result"
    }
   ],
   "source": [
    "x = 20\n",
    "type(x)"
   ]
  },
  {
   "cell_type": "code",
   "execution_count": 12,
   "metadata": {},
   "outputs": [
    {
     "data": {
      "text/plain": [
       "str"
      ]
     },
     "execution_count": 12,
     "metadata": {},
     "output_type": "execute_result"
    }
   ],
   "source": [
    "x = '20'\n",
    "type(x)"
   ]
  },
  {
   "cell_type": "markdown",
   "metadata": {},
   "source": [
    "### 5-3. Float"
   ]
  },
  {
   "cell_type": "code",
   "execution_count": 13,
   "metadata": {},
   "outputs": [
    {
     "data": {
      "text/plain": [
       "float"
      ]
     },
     "execution_count": 13,
     "metadata": {},
     "output_type": "execute_result"
    }
   ],
   "source": [
    "x = 3.7\n",
    "type(x)"
   ]
  },
  {
   "cell_type": "markdown",
   "metadata": {},
   "source": [
    "### 5-4. List\n",
    "A collection which is ordered and changeable. Allows duplicate members."
   ]
  },
  {
   "cell_type": "code",
   "execution_count": 14,
   "metadata": {},
   "outputs": [
    {
     "data": {
      "text/plain": [
       "list"
      ]
     },
     "execution_count": 14,
     "metadata": {},
     "output_type": "execute_result"
    }
   ],
   "source": [
    "x = [\"New York\", \"Boston\", \"Chicago\", \"Los Angeles\"]\n",
    "type(x)"
   ]
  },
  {
   "cell_type": "code",
   "execution_count": 15,
   "metadata": {},
   "outputs": [
    {
     "name": "stdout",
     "output_type": "stream",
     "text": [
      "New York\n",
      "['Boston', 'Chicago']\n",
      "Los Angeles\n"
     ]
    }
   ],
   "source": [
    "print (x[0])\n",
    "print (x[1:3])\n",
    "print (x[-1])"
   ]
  },
  {
   "cell_type": "code",
   "execution_count": 16,
   "metadata": {},
   "outputs": [
    {
     "name": "stdout",
     "output_type": "stream",
     "text": [
      "['New York', 'Seattle', 'Chicago', 'Los Angeles']\n"
     ]
    }
   ],
   "source": [
    "x[1] = \"Seattle\"\n",
    "print (x)"
   ]
  },
  {
   "cell_type": "code",
   "execution_count": 17,
   "metadata": {},
   "outputs": [
    {
     "data": {
      "text/plain": [
       "['New York', 'Seattle', 'Chicago', 'Los Angeles', 'Houston']"
      ]
     },
     "execution_count": 17,
     "metadata": {},
     "output_type": "execute_result"
    }
   ],
   "source": [
    "x.append(\"Houston\")\n",
    "x"
   ]
  },
  {
   "cell_type": "markdown",
   "metadata": {},
   "source": [
    "__Task. Create and assign variable of a list with five different five different countries.__\n",
    "* Print the first and the last items.\n",
    "* Replace the third item to your last name.\n",
    "* Print the list."
   ]
  },
  {
   "cell_type": "code",
   "execution_count": 18,
   "metadata": {},
   "outputs": [
    {
     "name": "stdout",
     "output_type": "stream",
     "text": [
      "Morocco Ghana\n",
      "['Morocco', 'Spain', 'Strand', 'Cambodia', 'Ghana']\n"
     ]
    }
   ],
   "source": [
    "countries = [\"Morocco\", \"Spain\", \"Japan\", \"Cambodia\", \"Ghana\"]\n",
    "print(countries[0], countries[4])\n",
    "\n",
    "countries[2] = \"Strand\"\n",
    "\n",
    "print(countries)"
   ]
  },
  {
   "cell_type": "markdown",
   "metadata": {},
   "source": [
    "### 5-4. Tuple\n",
    "A collection which is ordered and unchangeable. Allows duplicate members."
   ]
  },
  {
   "cell_type": "code",
   "execution_count": 19,
   "metadata": {},
   "outputs": [
    {
     "data": {
      "text/plain": [
       "tuple"
      ]
     },
     "execution_count": 19,
     "metadata": {},
     "output_type": "execute_result"
    }
   ],
   "source": [
    "x = (\"New York\", \"Boston\", \"Chicago\", \"Los Angeles\")\n",
    "type(x)"
   ]
  },
  {
   "cell_type": "code",
   "execution_count": 20,
   "metadata": {},
   "outputs": [
    {
     "name": "stdout",
     "output_type": "stream",
     "text": [
      "New York\n",
      "('Boston', 'Chicago')\n",
      "Los Angeles\n"
     ]
    }
   ],
   "source": [
    "print (x[0])\n",
    "print (x[1:3])\n",
    "print (x[-1])"
   ]
  },
  {
   "cell_type": "code",
   "execution_count": 21,
   "metadata": {},
   "outputs": [
    {
     "ename": "TypeError",
     "evalue": "'tuple' object does not support item assignment",
     "output_type": "error",
     "traceback": [
      "\u001b[0;31m---------------------------------------------------------------------------\u001b[0m",
      "\u001b[0;31mTypeError\u001b[0m                                 Traceback (most recent call last)",
      "\u001b[0;32m<ipython-input-21-51175ed704e4>\u001b[0m in \u001b[0;36m<module>\u001b[0;34m\u001b[0m\n\u001b[0;32m----> 1\u001b[0;31m \u001b[0mx\u001b[0m\u001b[0;34m[\u001b[0m\u001b[0;36m1\u001b[0m\u001b[0;34m]\u001b[0m \u001b[0;34m=\u001b[0m \u001b[0;34m\"Seattle\"\u001b[0m\u001b[0;34m\u001b[0m\u001b[0;34m\u001b[0m\u001b[0m\n\u001b[0m\u001b[1;32m      2\u001b[0m \u001b[0mprint\u001b[0m \u001b[0;34m(\u001b[0m\u001b[0mx\u001b[0m\u001b[0;34m)\u001b[0m\u001b[0;34m\u001b[0m\u001b[0;34m\u001b[0m\u001b[0m\n",
      "\u001b[0;31mTypeError\u001b[0m: 'tuple' object does not support item assignment"
     ]
    }
   ],
   "source": [
    "x[1] = \"Seattle\"\n",
    "print (x)"
   ]
  },
  {
   "cell_type": "markdown",
   "metadata": {},
   "source": [
    "### 5-5. Dictionary\n",
    "A collection which is unordered, changeable and indexed. In Python dictionaries are written with curly brackets, and they have keys and values."
   ]
  },
  {
   "cell_type": "code",
   "execution_count": 22,
   "metadata": {},
   "outputs": [
    {
     "data": {
      "text/plain": [
       "dict"
      ]
     },
     "execution_count": 22,
     "metadata": {},
     "output_type": "execute_result"
    }
   ],
   "source": [
    "x = {\"City\": \"New York\", \"State\": \"NY\", \"Country\": \"US\"}\n",
    "type(x)"
   ]
  },
  {
   "cell_type": "code",
   "execution_count": 23,
   "metadata": {},
   "outputs": [
    {
     "data": {
      "text/plain": [
       "'New York'"
      ]
     },
     "execution_count": 23,
     "metadata": {},
     "output_type": "execute_result"
    }
   ],
   "source": [
    "x[\"City\"]"
   ]
  },
  {
   "cell_type": "code",
   "execution_count": 24,
   "metadata": {},
   "outputs": [
    {
     "data": {
      "text/plain": [
       "'New York'"
      ]
     },
     "execution_count": 24,
     "metadata": {},
     "output_type": "execute_result"
    }
   ],
   "source": [
    "x.get(\"City\")"
   ]
  },
  {
   "cell_type": "code",
   "execution_count": 25,
   "metadata": {},
   "outputs": [
    {
     "data": {
      "text/plain": [
       "{'City': 'New York', 'State': 'NY', 'Country': 'United States'}"
      ]
     },
     "execution_count": 25,
     "metadata": {},
     "output_type": "execute_result"
    }
   ],
   "source": [
    "x[\"Country\"] = \"United States\"\n",
    "x"
   ]
  },
  {
   "cell_type": "markdown",
   "metadata": {},
   "source": [
    "### 5-6. Boolean\n",
    "In programming you often need to know if an expression is True or False. You can evaluate any expression in Python, and get one of two answers, True or False. When you compare two values, the expression is evaluated and Python returns the Boolean answer:"
   ]
  },
  {
   "cell_type": "code",
   "execution_count": 26,
   "metadata": {},
   "outputs": [
    {
     "name": "stdout",
     "output_type": "stream",
     "text": [
      "True\n",
      "False\n"
     ]
    }
   ],
   "source": [
    "print (10>6)\n",
    "print (3>9)"
   ]
  },
  {
   "cell_type": "markdown",
   "metadata": {},
   "source": [
    "## 6. Range\n",
    "The range() function returns a sequence of numbers, starting from 0 by default, and increments by 1 (by default), and ends at a specified number.\n",
    "* Syntax: range(start, stop, step) "
   ]
  },
  {
   "cell_type": "code",
   "execution_count": 27,
   "metadata": {},
   "outputs": [
    {
     "name": "stdout",
     "output_type": "stream",
     "text": [
      "[0, 1, 2, 3, 4]\n"
     ]
    }
   ],
   "source": [
    "x = list(range(5))\n",
    "print (x)"
   ]
  },
  {
   "cell_type": "code",
   "execution_count": 28,
   "metadata": {},
   "outputs": [
    {
     "name": "stdout",
     "output_type": "stream",
     "text": [
      "[3, 4, 5]\n"
     ]
    }
   ],
   "source": [
    "x = list(range(3,6))\n",
    "print (x)"
   ]
  },
  {
   "cell_type": "code",
   "execution_count": 29,
   "metadata": {},
   "outputs": [
    {
     "name": "stdout",
     "output_type": "stream",
     "text": [
      "[3, 5, 7, 9, 11, 13, 15, 17, 19]\n"
     ]
    }
   ],
   "source": [
    "x = list(range(3, 20, 2))\n",
    "print (x)"
   ]
  },
  {
   "cell_type": "markdown",
   "metadata": {},
   "source": [
    "__Task. Create a list with a sequence of numbers from 5 to 50, increment by 15, using range().__"
   ]
  },
  {
   "cell_type": "code",
   "execution_count": 30,
   "metadata": {},
   "outputs": [
    {
     "name": "stdout",
     "output_type": "stream",
     "text": [
      "[5, 20, 35, 50]\n"
     ]
    }
   ],
   "source": [
    "x = list(range(5,51,15))\n",
    "print (x)"
   ]
  },
  {
   "cell_type": "markdown",
   "metadata": {},
   "source": [
    "## 7. Calling Fuctions"
   ]
  },
  {
   "cell_type": "code",
   "execution_count": 31,
   "metadata": {},
   "outputs": [
    {
     "data": {
      "text/plain": [
       "[0, 1, 2, 3, 4, 5, 6, 7, 8, 9, 10, 11, 12, 13, 14]"
      ]
     },
     "execution_count": 31,
     "metadata": {},
     "output_type": "execute_result"
    }
   ],
   "source": [
    "myList = list(range(15))\n",
    "myList"
   ]
  },
  {
   "cell_type": "code",
   "execution_count": 32,
   "metadata": {},
   "outputs": [
    {
     "name": "stdout",
     "output_type": "stream",
     "text": [
      "0\n",
      "14\n",
      "105\n",
      "15\n"
     ]
    }
   ],
   "source": [
    "print (min(myList))\n",
    "print (max(myList))\n",
    "print (sum(myList))\n",
    "print (len(myList))"
   ]
  },
  {
   "cell_type": "markdown",
   "metadata": {},
   "source": [
    "__Task. Create a list with a sequence of numbers from 3 to 31, increment by 4, using range() and print mean value of the items.__\n",
    "* Create a list and assign variable.\n",
    "* Assign variables using calling functions based on needs (e.g. min, max, sum, or len)\n",
    "* Pring mean value of the items in the list using mathematical expression."
   ]
  },
  {
   "cell_type": "code",
   "execution_count": 33,
   "metadata": {},
   "outputs": [
    {
     "name": "stdout",
     "output_type": "stream",
     "text": [
      "17.0\n"
     ]
    }
   ],
   "source": [
    "myList = range(3, 32, 4)\n",
    "a = sum(myList)\n",
    "b = len(myList)\n",
    "\n",
    "print (a/b)"
   ]
  },
  {
   "cell_type": "markdown",
   "metadata": {},
   "source": [
    "## 8. Writing Functions\n",
    "A function is a block of code which only runs when it is called. You can pass data, known as parameters, into a function. A function can return data as a result."
   ]
  },
  {
   "cell_type": "code",
   "execution_count": 34,
   "metadata": {},
   "outputs": [],
   "source": [
    "def myFunction():\n",
    "    print(\"Welcome to Exploring Urban Data with Machine Learning\") "
   ]
  },
  {
   "cell_type": "code",
   "execution_count": 35,
   "metadata": {},
   "outputs": [
    {
     "name": "stdout",
     "output_type": "stream",
     "text": [
      "Welcome to Exploring Urban Data with Machine Learning\n"
     ]
    }
   ],
   "source": [
    "myFunction()"
   ]
  },
  {
   "cell_type": "code",
   "execution_count": 36,
   "metadata": {},
   "outputs": [],
   "source": [
    "def myFunction(x,y):\n",
    "    return x*y"
   ]
  },
  {
   "cell_type": "code",
   "execution_count": 37,
   "metadata": {},
   "outputs": [
    {
     "data": {
      "text/plain": [
       "21"
      ]
     },
     "execution_count": 37,
     "metadata": {},
     "output_type": "execute_result"
    }
   ],
   "source": [
    "myFunction(3,7)"
   ]
  },
  {
   "cell_type": "code",
   "execution_count": 38,
   "metadata": {},
   "outputs": [
    {
     "data": {
      "text/plain": [
       "[10, 6, 16, 4.0]"
      ]
     },
     "execution_count": 38,
     "metadata": {},
     "output_type": "execute_result"
    }
   ],
   "source": [
    "def myFunction(x,y):\n",
    "    a = x+y\n",
    "    b = x-y\n",
    "    c = x*y\n",
    "    d = x/y\n",
    "    return [a,b,c,d]\n",
    "\n",
    "myFunction(8,2)"
   ]
  },
  {
   "cell_type": "markdown",
   "metadata": {},
   "source": [
    "__Task. Write a function to return average value of items in a list.__"
   ]
  },
  {
   "cell_type": "code",
   "execution_count": 39,
   "metadata": {},
   "outputs": [
    {
     "data": {
      "text/plain": [
       "5.0"
      ]
     },
     "execution_count": 39,
     "metadata": {},
     "output_type": "execute_result"
    }
   ],
   "source": [
    "def myFunction(list1):\n",
    "    return(sum(list1)/len(list1))\n",
    "\n",
    "myFunction([1,3,5,6,10])"
   ]
  },
  {
   "cell_type": "markdown",
   "metadata": {},
   "source": [
    "## 9. Control Statement"
   ]
  },
  {
   "cell_type": "code",
   "execution_count": 40,
   "metadata": {},
   "outputs": [
    {
     "name": "stdout",
     "output_type": "stream",
     "text": [
      "b is greater than a\n"
     ]
    }
   ],
   "source": [
    "a = 33\n",
    "b = 200\n",
    "\n",
    "if b > a:\n",
    "    print(\"b is greater than a\")"
   ]
  },
  {
   "cell_type": "code",
   "execution_count": 41,
   "metadata": {},
   "outputs": [
    {
     "name": "stdout",
     "output_type": "stream",
     "text": [
      "a and b are equal\n"
     ]
    }
   ],
   "source": [
    "a = 33\n",
    "b = 33\n",
    "if b > a:\n",
    "    print(\"b is greater than a\")\n",
    "elif a == b:\n",
    "    print(\"a and b are equal\")"
   ]
  },
  {
   "cell_type": "code",
   "execution_count": 42,
   "metadata": {},
   "outputs": [
    {
     "name": "stdout",
     "output_type": "stream",
     "text": [
      "a is greater than b\n"
     ]
    }
   ],
   "source": [
    "a = 200\n",
    "b = 33\n",
    "if b > a:\n",
    "    print(\"b is greater than a\")\n",
    "elif a == b:\n",
    "    print(\"a and b are equal\")\n",
    "else:\n",
    "    print(\"a is greater than b\")"
   ]
  },
  {
   "cell_type": "markdown",
   "metadata": {},
   "source": [
    "## 10. For loops\n",
    "A for loop is used for iterating over a sequence (that is either a list, a tuple, a dictionary, a set, or a string). This is less like the for keyword in other programming languages, and works more like an iterator method as found in other object-orientated programming languages. With the for loop we can execute a set of statements, once for each item in a list, tuple, set etc."
   ]
  },
  {
   "cell_type": "code",
   "execution_count": 43,
   "metadata": {},
   "outputs": [
    {
     "name": "stdout",
     "output_type": "stream",
     "text": [
      "0\n",
      "1\n",
      "2\n",
      "3\n",
      "4\n",
      "5\n"
     ]
    }
   ],
   "source": [
    "for i in range(6):\n",
    "    print (i)"
   ]
  },
  {
   "cell_type": "code",
   "execution_count": 44,
   "metadata": {},
   "outputs": [
    {
     "name": "stdout",
     "output_type": "stream",
     "text": [
      "I like apple\n",
      "I like banana\n",
      "I like tomato\n",
      "I like orange\n"
     ]
    }
   ],
   "source": [
    "for fruit in ['apple', 'banana', 'tomato', 'orange']:\n",
    "    print (\"I like\", fruit)"
   ]
  },
  {
   "cell_type": "code",
   "execution_count": 45,
   "metadata": {},
   "outputs": [
    {
     "name": "stdout",
     "output_type": "stream",
     "text": [
      "red apple\n",
      "red banana\n",
      "red tomato\n",
      "red orange\n",
      "yellow apple\n",
      "yellow banana\n",
      "yellow tomato\n",
      "yellow orange\n",
      "pink apple\n",
      "pink banana\n",
      "pink tomato\n",
      "pink orange\n"
     ]
    }
   ],
   "source": [
    "colors = [\"red\", \"yellow\", \"pink\"]\n",
    "fruits = [\"apple\", \"banana\", \"tomato\", \"orange\"]\n",
    "\n",
    "for x in colors:\n",
    "    for y in fruits:\n",
    "        print(x, y) "
   ]
  },
  {
   "cell_type": "code",
   "execution_count": 46,
   "metadata": {},
   "outputs": [
    {
     "name": "stdout",
     "output_type": "stream",
     "text": [
      "0\n",
      "1\n",
      "2\n",
      "0\n",
      "4\n"
     ]
    }
   ],
   "source": [
    "for i in range(5):\n",
    "    if i == 3:\n",
    "        print (0)\n",
    "    else:\n",
    "        print (i)"
   ]
  },
  {
   "cell_type": "code",
   "execution_count": 47,
   "metadata": {},
   "outputs": [
    {
     "name": "stdout",
     "output_type": "stream",
     "text": [
      "0\n",
      "1\n",
      "2\n",
      "4\n"
     ]
    }
   ],
   "source": [
    "for i in range(5):\n",
    "    if i == 3:\n",
    "        pass\n",
    "    else:\n",
    "        print (i)"
   ]
  },
  {
   "cell_type": "code",
   "execution_count": 48,
   "metadata": {},
   "outputs": [
    {
     "name": "stdout",
     "output_type": "stream",
     "text": [
      "0\n",
      "1\n",
      "2\n"
     ]
    }
   ],
   "source": [
    "for i in range(5):\n",
    "    if i == 3:\n",
    "        break\n",
    "    else:\n",
    "        print (i)"
   ]
  },
  {
   "cell_type": "markdown",
   "metadata": {},
   "source": [
    "# SECTION 2: Essential Libararies and Tools\n",
    "* NumPy\n",
    "* Pandas\n",
    "* scikit-learn\n",
    "* Very simple and basic machine learning example (pending)\n",
    "\n",
    "## 1. NumPy\n",
    "NumPy is one of the fundamental packages for scientific computing in the browser. \n",
    "* Multimensional arrays\n",
    "* High-level mathematical functions such as linear algebra operations\n",
    "* Important, because the NumPy array is the fundamental data structure in scikit-learn (which will be mainly used for machine learning algorithms)\n",
    "* Data will have to be converted to a NumPy array\n",
    "* Core functionality: ndarray class, multidimensinal (n-dimensional) array\n",
    "* All elements in the array must be of the same data type (e.g. int, str, float...)"
   ]
  },
  {
   "cell_type": "code",
   "execution_count": 49,
   "metadata": {},
   "outputs": [],
   "source": [
    "# Import the entire NumPy module\n",
    "import numpy as np"
   ]
  },
  {
   "cell_type": "markdown",
   "metadata": {},
   "source": [
    "### 1) Create a numpy array"
   ]
  },
  {
   "cell_type": "code",
   "execution_count": 50,
   "metadata": {},
   "outputs": [
    {
     "name": "stdout",
     "output_type": "stream",
     "text": [
      "[[1 2 3]\n",
      " [4 5 6]]\n"
     ]
    }
   ],
   "source": [
    "x = np.array([[1,2,3],\n",
    "              [4,5,6]])\n",
    "print (x)"
   ]
  },
  {
   "cell_type": "markdown",
   "metadata": {},
   "source": [
    "### 2) Shape of matrix (array)"
   ]
  },
  {
   "cell_type": "code",
   "execution_count": 51,
   "metadata": {},
   "outputs": [
    {
     "name": "stdout",
     "output_type": "stream",
     "text": [
      "(2, 3)\n"
     ]
    }
   ],
   "source": [
    "print (x.shape)"
   ]
  },
  {
   "cell_type": "markdown",
   "metadata": {},
   "source": [
    "### 3) Indexing"
   ]
  },
  {
   "cell_type": "code",
   "execution_count": 52,
   "metadata": {},
   "outputs": [
    {
     "name": "stdout",
     "output_type": "stream",
     "text": [
      "[1 2 3]\n",
      "[4 5 6]\n",
      "1\n",
      "6\n"
     ]
    }
   ],
   "source": [
    "print (x[0])\n",
    "print (x[1])\n",
    "print (x[0][0])\n",
    "print (x[1][2])"
   ]
  },
  {
   "cell_type": "markdown",
   "metadata": {},
   "source": [
    "### 4) Keep in mind that, unlike Python lists, NumPy arrays have a fixed type. \n",
    "This means, for example, that if you attempt to insert a floating-point value to an integer array, the value will be silently truncated. "
   ]
  },
  {
   "cell_type": "code",
   "execution_count": 53,
   "metadata": {},
   "outputs": [
    {
     "name": "stdout",
     "output_type": "stream",
     "text": [
      "[[1 5 3]\n",
      " [4 5 6]]\n"
     ]
    }
   ],
   "source": [
    "x[0][1] = 5.7864\n",
    "print (x)"
   ]
  },
  {
   "cell_type": "markdown",
   "metadata": {},
   "source": [
    "### 5) Accessing array rows and columns.    \n",
    "One commonly needed routine is accessing single rows or columns of an array. You can do this by combining indexing and slicing, using an empty slice marked by a single colon (:):"
   ]
  },
  {
   "cell_type": "code",
   "execution_count": 54,
   "metadata": {},
   "outputs": [
    {
     "name": "stdout",
     "output_type": "stream",
     "text": [
      "[1 4]\n",
      "[3 6]\n"
     ]
    }
   ],
   "source": [
    "print (x[:, 0])\n",
    "print (x[:, 2])"
   ]
  },
  {
   "cell_type": "markdown",
   "metadata": {},
   "source": [
    "### 6) NumPy's arithmetic operators"
   ]
  },
  {
   "cell_type": "code",
   "execution_count": 55,
   "metadata": {},
   "outputs": [
    {
     "name": "stdout",
     "output_type": "stream",
     "text": [
      "[1 2 3 4 5 6]\n"
     ]
    }
   ],
   "source": [
    "x = np.array([1,2,3,4,5,6])\n",
    "print (x)"
   ]
  },
  {
   "cell_type": "code",
   "execution_count": 56,
   "metadata": {},
   "outputs": [
    {
     "name": "stdout",
     "output_type": "stream",
     "text": [
      "[4 5 6 7 8 9]\n",
      "[-9 -8 -7 -6 -5 -4]\n",
      "[ 3  6  9 12 15 18]\n"
     ]
    }
   ],
   "source": [
    "print (x+3)\n",
    "print (x-10)\n",
    "print (x*3)"
   ]
  },
  {
   "cell_type": "code",
   "execution_count": 57,
   "metadata": {},
   "outputs": [
    {
     "name": "stdout",
     "output_type": "stream",
     "text": [
      "Original array:  [-10   5  -6   6   5  10]\n",
      "Absolute values:  [10  5  6  6  5 10]\n",
      "Natural logarithm values:  [       nan 1.60943791        nan 1.79175947 1.60943791 2.30258509]\n",
      "Base-10 logarithm values:  [       nan 0.69897           nan 0.77815125 0.69897    1.        ]\n",
      "Exponential values:  [4.53999298e-05 1.48413159e+02 2.47875218e-03 4.03428793e+02\n",
      " 1.48413159e+02 2.20264658e+04]\n",
      "Exponential values:  [    0.     148.41     0.     403.43   148.41 22026.47]\n"
     ]
    },
    {
     "name": "stderr",
     "output_type": "stream",
     "text": [
      "/Users/erik_strand/opt/anaconda3/lib/python3.7/site-packages/ipykernel_launcher.py:4: RuntimeWarning: invalid value encountered in log\n",
      "  after removing the cwd from sys.path.\n",
      "/Users/erik_strand/opt/anaconda3/lib/python3.7/site-packages/ipykernel_launcher.py:5: RuntimeWarning: invalid value encountered in log10\n",
      "  \"\"\"\n"
     ]
    }
   ],
   "source": [
    "x = np.array([-10,5,-6,6,5,10])\n",
    "print (\"Original array: \",x)\n",
    "print (\"Absolute values: \", np.abs(x))\n",
    "print (\"Natural logarithm values: \", np.log(x))\n",
    "print (\"Base-10 logarithm values: \", np.log10(x))\n",
    "print (\"Exponential values: \", np.exp(x))\n",
    "print (\"Exponential values: \", np.round(np.exp(x),2))"
   ]
  },
  {
   "cell_type": "markdown",
   "metadata": {},
   "source": [
    "### 7) Calling built-in functions"
   ]
  },
  {
   "cell_type": "code",
   "execution_count": 58,
   "metadata": {},
   "outputs": [
    {
     "name": "stdout",
     "output_type": "stream",
     "text": [
      "[[1 2 3 4 5]\n",
      " [2 3 4 5 6]\n",
      " [3 4 5 6 7]]\n"
     ]
    }
   ],
   "source": [
    "x = np.array([[1,2,3,4,5],\n",
    "             [2,3,4,5,6],\n",
    "             [3,4,5,6,7]])\n",
    "print (x)"
   ]
  },
  {
   "cell_type": "code",
   "execution_count": 59,
   "metadata": {},
   "outputs": [
    {
     "name": "stdout",
     "output_type": "stream",
     "text": [
      "60\n",
      "1\n",
      "0\n",
      "7\n",
      "14\n",
      "4.0\n",
      "1.632993161855452\n"
     ]
    }
   ],
   "source": [
    "print (x.sum())\n",
    "print (x.min())\n",
    "print (x.argmin())\n",
    "print (x.max())\n",
    "print (x.argmax())\n",
    "print (x.mean())\n",
    "print (x.std())"
   ]
  },
  {
   "cell_type": "code",
   "execution_count": 60,
   "metadata": {},
   "outputs": [
    {
     "name": "stdout",
     "output_type": "stream",
     "text": [
      "4.0\n",
      "60\n",
      "1\n",
      "0\n",
      "4.0\n",
      "1.632993161855452\n"
     ]
    }
   ],
   "source": [
    "print (np.median(x))\n",
    "print (np.sum(x))\n",
    "print (np.min(x))\n",
    "print (np.argmin(x))\n",
    "print (np.mean(x))\n",
    "print (np.std(x))"
   ]
  },
  {
   "cell_type": "markdown",
   "metadata": {},
   "source": [
    "## 2. Pandas\n",
    "Pandas is a Python library for data wrangling and analysis.\n",
    "* Data structure called the DataFrame - modeled after the R DataFrame\n",
    "* Simply, it is like a table, similar to an Excel spreadsheet\n",
    "* Great range of methods to modify and operate on data tables\n",
    "* SQL-like queries, joins of tables\n",
    "* In contrast to NumPy, Pandas allows each column to have a separate data type (e.g. one for string, one for float, one for datetime etc.)\n",
    "* Ingest from a variety of data file formats and data bases (SQL, Excel file, csv, json)"
   ]
  },
  {
   "cell_type": "code",
   "execution_count": 61,
   "metadata": {},
   "outputs": [],
   "source": [
    "# Import the entire pandas module\n",
    "import pandas as pd"
   ]
  },
  {
   "cell_type": "markdown",
   "metadata": {},
   "source": [
    "### 1) Excel"
   ]
  },
  {
   "cell_type": "code",
   "execution_count": 63,
   "metadata": {},
   "outputs": [],
   "source": [
    "df = pd.read_excel('../data/311_Service_Requests_01062020_sample.xlsx')"
   ]
  },
  {
   "cell_type": "markdown",
   "metadata": {},
   "source": [
    "### 2) comma-separated values (CSV)\n",
    "* We will mostly use this format"
   ]
  },
  {
   "cell_type": "code",
   "execution_count": 65,
   "metadata": {},
   "outputs": [],
   "source": [
    "df = pd.read_csv('../data/311_Service_Requests_01062020.csv')"
   ]
  },
  {
   "cell_type": "code",
   "execution_count": 66,
   "metadata": {},
   "outputs": [
    {
     "data": {
      "text/html": [
       "<div>\n",
       "<style scoped>\n",
       "    .dataframe tbody tr th:only-of-type {\n",
       "        vertical-align: middle;\n",
       "    }\n",
       "\n",
       "    .dataframe tbody tr th {\n",
       "        vertical-align: top;\n",
       "    }\n",
       "\n",
       "    .dataframe thead th {\n",
       "        text-align: right;\n",
       "    }\n",
       "</style>\n",
       "<table border=\"1\" class=\"dataframe\">\n",
       "  <thead>\n",
       "    <tr style=\"text-align: right;\">\n",
       "      <th></th>\n",
       "      <th>Unique Key</th>\n",
       "      <th>Created Date</th>\n",
       "      <th>Closed Date</th>\n",
       "      <th>Agency</th>\n",
       "      <th>Agency Name</th>\n",
       "      <th>Complaint Type</th>\n",
       "      <th>Descriptor</th>\n",
       "      <th>Location Type</th>\n",
       "      <th>Incident Zip</th>\n",
       "      <th>Incident Address</th>\n",
       "      <th>...</th>\n",
       "      <th>Vehicle Type</th>\n",
       "      <th>Taxi Company Borough</th>\n",
       "      <th>Taxi Pick Up Location</th>\n",
       "      <th>Bridge Highway Name</th>\n",
       "      <th>Bridge Highway Direction</th>\n",
       "      <th>Road Ramp</th>\n",
       "      <th>Bridge Highway Segment</th>\n",
       "      <th>Latitude</th>\n",
       "      <th>Longitude</th>\n",
       "      <th>Location</th>\n",
       "    </tr>\n",
       "  </thead>\n",
       "  <tbody>\n",
       "    <tr>\n",
       "      <th>0</th>\n",
       "      <td>45321376</td>\n",
       "      <td>01/06/2020 12:00:00 AM</td>\n",
       "      <td>01/22/2020 12:00:01 AM</td>\n",
       "      <td>DOHMH</td>\n",
       "      <td>Department of Health and Mental Hygiene</td>\n",
       "      <td>Food Poisoning</td>\n",
       "      <td>1 or 2</td>\n",
       "      <td>1-2 Family Dwelling</td>\n",
       "      <td>10467.0</td>\n",
       "      <td>3311 WHITE PLAINS ROAD</td>\n",
       "      <td>...</td>\n",
       "      <td>NaN</td>\n",
       "      <td>NaN</td>\n",
       "      <td>NaN</td>\n",
       "      <td>NaN</td>\n",
       "      <td>NaN</td>\n",
       "      <td>NaN</td>\n",
       "      <td>NaN</td>\n",
       "      <td>40.873639</td>\n",
       "      <td>-73.867095</td>\n",
       "      <td>(40.8736393816693, -73.86709503705343)</td>\n",
       "    </tr>\n",
       "    <tr>\n",
       "      <th>1</th>\n",
       "      <td>45322953</td>\n",
       "      <td>01/06/2020 12:00:00 AM</td>\n",
       "      <td>01/21/2020 12:00:01 AM</td>\n",
       "      <td>DOHMH</td>\n",
       "      <td>Department of Health and Mental Hygiene</td>\n",
       "      <td>Food Poisoning</td>\n",
       "      <td>3 or More</td>\n",
       "      <td>Restaurant/Bar/Deli/Bakery</td>\n",
       "      <td>11375.0</td>\n",
       "      <td>64-18 108 STREET</td>\n",
       "      <td>...</td>\n",
       "      <td>NaN</td>\n",
       "      <td>NaN</td>\n",
       "      <td>NaN</td>\n",
       "      <td>NaN</td>\n",
       "      <td>NaN</td>\n",
       "      <td>NaN</td>\n",
       "      <td>NaN</td>\n",
       "      <td>40.732517</td>\n",
       "      <td>-73.849397</td>\n",
       "      <td>(40.73251661488513, -73.84939676972941)</td>\n",
       "    </tr>\n",
       "  </tbody>\n",
       "</table>\n",
       "<p>2 rows × 41 columns</p>\n",
       "</div>"
      ],
      "text/plain": [
       "   Unique Key            Created Date             Closed Date Agency  \\\n",
       "0    45321376  01/06/2020 12:00:00 AM  01/22/2020 12:00:01 AM  DOHMH   \n",
       "1    45322953  01/06/2020 12:00:00 AM  01/21/2020 12:00:01 AM  DOHMH   \n",
       "\n",
       "                               Agency Name  Complaint Type Descriptor  \\\n",
       "0  Department of Health and Mental Hygiene  Food Poisoning     1 or 2   \n",
       "1  Department of Health and Mental Hygiene  Food Poisoning  3 or More   \n",
       "\n",
       "                Location Type  Incident Zip        Incident Address  ...  \\\n",
       "0         1-2 Family Dwelling       10467.0  3311 WHITE PLAINS ROAD  ...   \n",
       "1  Restaurant/Bar/Deli/Bakery       11375.0        64-18 108 STREET  ...   \n",
       "\n",
       "  Vehicle Type Taxi Company Borough Taxi Pick Up Location Bridge Highway Name  \\\n",
       "0          NaN                  NaN                   NaN                 NaN   \n",
       "1          NaN                  NaN                   NaN                 NaN   \n",
       "\n",
       "  Bridge Highway Direction Road Ramp Bridge Highway Segment   Latitude  \\\n",
       "0                      NaN       NaN                    NaN  40.873639   \n",
       "1                      NaN       NaN                    NaN  40.732517   \n",
       "\n",
       "   Longitude                                 Location  \n",
       "0 -73.867095   (40.8736393816693, -73.86709503705343)  \n",
       "1 -73.849397  (40.73251661488513, -73.84939676972941)  \n",
       "\n",
       "[2 rows x 41 columns]"
      ]
     },
     "execution_count": 66,
     "metadata": {},
     "output_type": "execute_result"
    }
   ],
   "source": [
    "df.head(2)"
   ]
  },
  {
   "cell_type": "markdown",
   "metadata": {},
   "source": [
    "### 3) JSON file\n",
    "\n",
    "* JSON stands for JavaScript Object Notation\n",
    "* JSON is a lightweight format for storing and transporting data\n",
    "* JSON is often used when data is sent from a server to a web page\n",
    "* JSON is \"self-describing\" and easy to understand\n",
    "\n",
    "__Example of JSON data__: an array of 3 employee records\n",
    "![image.png](attachment:image.png)\n",
    "\n",
    "__Exmaple of JSON data__: NYC311 data <br>\n",
    "https://data.cityofnewyork.us/resource/erm2-nwe9.json\n",
    "\n",
    "* JSON is good for using API based data acquisition with SQL-like query"
   ]
  },
  {
   "cell_type": "code",
   "execution_count": 67,
   "metadata": {},
   "outputs": [],
   "source": [
    "# Load libraries for the use of JSON and url\n",
    "import urllib.request, json "
   ]
  },
  {
   "cell_type": "code",
   "execution_count": 68,
   "metadata": {},
   "outputs": [],
   "source": [
    "# Simply load top 1000 rows from url based JSON file\n",
    "df = pd.read_json(\"https://data.cityofnewyork.us/resource/erm2-nwe9.json\") "
   ]
  },
  {
   "cell_type": "code",
   "execution_count": 69,
   "metadata": {},
   "outputs": [
    {
     "data": {
      "text/html": [
       "<div>\n",
       "<style scoped>\n",
       "    .dataframe tbody tr th:only-of-type {\n",
       "        vertical-align: middle;\n",
       "    }\n",
       "\n",
       "    .dataframe tbody tr th {\n",
       "        vertical-align: top;\n",
       "    }\n",
       "\n",
       "    .dataframe thead th {\n",
       "        text-align: right;\n",
       "    }\n",
       "</style>\n",
       "<table border=\"1\" class=\"dataframe\">\n",
       "  <thead>\n",
       "    <tr style=\"text-align: right;\">\n",
       "      <th></th>\n",
       "      <th>unique_key</th>\n",
       "      <th>created_date</th>\n",
       "      <th>agency</th>\n",
       "      <th>agency_name</th>\n",
       "      <th>complaint_type</th>\n",
       "      <th>descriptor</th>\n",
       "      <th>incident_zip</th>\n",
       "      <th>incident_address</th>\n",
       "      <th>street_name</th>\n",
       "      <th>cross_street_1</th>\n",
       "      <th>...</th>\n",
       "      <th>:@computed_region_sbqj_enih</th>\n",
       "      <th>intersection_street_1</th>\n",
       "      <th>intersection_street_2</th>\n",
       "      <th>facility_type</th>\n",
       "      <th>bbl</th>\n",
       "      <th>closed_date</th>\n",
       "      <th>location_type</th>\n",
       "      <th>landmark</th>\n",
       "      <th>vehicle_type</th>\n",
       "      <th>taxi_pick_up_location</th>\n",
       "    </tr>\n",
       "  </thead>\n",
       "  <tbody>\n",
       "    <tr>\n",
       "      <th>0</th>\n",
       "      <td>49562095</td>\n",
       "      <td>2021-01-19T01:19:49.000</td>\n",
       "      <td>DOT</td>\n",
       "      <td>Department of Transportation</td>\n",
       "      <td>Street Condition</td>\n",
       "      <td>Pothole</td>\n",
       "      <td>11372.0</td>\n",
       "      <td>83 STREET</td>\n",
       "      <td>83 STREET</td>\n",
       "      <td>RICHARD CECERE CORNER</td>\n",
       "      <td>...</td>\n",
       "      <td>73.0</td>\n",
       "      <td>NaN</td>\n",
       "      <td>NaN</td>\n",
       "      <td>NaN</td>\n",
       "      <td>NaN</td>\n",
       "      <td>NaN</td>\n",
       "      <td>NaN</td>\n",
       "      <td>NaN</td>\n",
       "      <td>NaN</td>\n",
       "      <td>NaN</td>\n",
       "    </tr>\n",
       "    <tr>\n",
       "      <th>1</th>\n",
       "      <td>49562719</td>\n",
       "      <td>2021-01-19T00:56:00.000</td>\n",
       "      <td>DOT</td>\n",
       "      <td>Department of Transportation</td>\n",
       "      <td>Street Light Condition</td>\n",
       "      <td>Street Light Out</td>\n",
       "      <td>11233.0</td>\n",
       "      <td>NaN</td>\n",
       "      <td>NaN</td>\n",
       "      <td>NaN</td>\n",
       "      <td>...</td>\n",
       "      <td>46.0</td>\n",
       "      <td>BROADWAY</td>\n",
       "      <td>CONWAY STREET</td>\n",
       "      <td>NaN</td>\n",
       "      <td>NaN</td>\n",
       "      <td>NaN</td>\n",
       "      <td>NaN</td>\n",
       "      <td>NaN</td>\n",
       "      <td>NaN</td>\n",
       "      <td>NaN</td>\n",
       "    </tr>\n",
       "  </tbody>\n",
       "</table>\n",
       "<p>2 rows × 40 columns</p>\n",
       "</div>"
      ],
      "text/plain": [
       "   unique_key             created_date agency                   agency_name  \\\n",
       "0    49562095  2021-01-19T01:19:49.000    DOT  Department of Transportation   \n",
       "1    49562719  2021-01-19T00:56:00.000    DOT  Department of Transportation   \n",
       "\n",
       "           complaint_type        descriptor  incident_zip incident_address  \\\n",
       "0        Street Condition           Pothole       11372.0        83 STREET   \n",
       "1  Street Light Condition  Street Light Out       11233.0              NaN   \n",
       "\n",
       "  street_name         cross_street_1  ... :@computed_region_sbqj_enih  \\\n",
       "0   83 STREET  RICHARD CECERE CORNER  ...                        73.0   \n",
       "1         NaN                    NaN  ...                        46.0   \n",
       "\n",
       "  intersection_street_1 intersection_street_2 facility_type bbl closed_date  \\\n",
       "0                   NaN                   NaN           NaN NaN         NaN   \n",
       "1              BROADWAY         CONWAY STREET           NaN NaN         NaN   \n",
       "\n",
       "  location_type landmark  vehicle_type  taxi_pick_up_location  \n",
       "0           NaN      NaN           NaN                    NaN  \n",
       "1           NaN      NaN           NaN                    NaN  \n",
       "\n",
       "[2 rows x 40 columns]"
      ]
     },
     "execution_count": 69,
     "metadata": {},
     "output_type": "execute_result"
    }
   ],
   "source": [
    "df.head(2)"
   ]
  },
  {
   "cell_type": "markdown",
   "metadata": {},
   "source": [
    "### 4) Dataframe basic"
   ]
  },
  {
   "cell_type": "code",
   "execution_count": 71,
   "metadata": {},
   "outputs": [],
   "source": [
    "df = pd.read_csv('../data/311_Service_Requests_01062020.csv')"
   ]
  },
  {
   "cell_type": "code",
   "execution_count": 72,
   "metadata": {},
   "outputs": [
    {
     "name": "stdout",
     "output_type": "stream",
     "text": [
      "['Unique Key', 'Created Date', 'Closed Date', 'Agency', 'Agency Name', 'Complaint Type', 'Descriptor', 'Location Type', 'Incident Zip', 'Incident Address', 'Street Name', 'Cross Street 1', 'Cross Street 2', 'Intersection Street 1', 'Intersection Street 2', 'Address Type', 'City', 'Landmark', 'Facility Type', 'Status', 'Due Date', 'Resolution Description', 'Resolution Action Updated Date', 'Community Board', 'BBL', 'Borough', 'X Coordinate (State Plane)', 'Y Coordinate (State Plane)', 'Open Data Channel Type', 'Park Facility Name', 'Park Borough', 'Vehicle Type', 'Taxi Company Borough', 'Taxi Pick Up Location', 'Bridge Highway Name', 'Bridge Highway Direction', 'Road Ramp', 'Bridge Highway Segment', 'Latitude', 'Longitude', 'Location']\n"
     ]
    }
   ],
   "source": [
    "# print column names\n",
    "print (df.columns.tolist())"
   ]
  },
  {
   "cell_type": "code",
   "execution_count": 73,
   "metadata": {},
   "outputs": [
    {
     "name": "stdout",
     "output_type": "stream",
     "text": [
      "6037\n"
     ]
    }
   ],
   "source": [
    "# print total number of rows\n",
    "print (len(df))"
   ]
  },
  {
   "cell_type": "code",
   "execution_count": 74,
   "metadata": {},
   "outputs": [
    {
     "name": "stdout",
     "output_type": "stream",
     "text": [
      "Unique Key                          int64\n",
      "Created Date                       object\n",
      "Closed Date                        object\n",
      "Agency                             object\n",
      "Agency Name                        object\n",
      "Complaint Type                     object\n",
      "Descriptor                         object\n",
      "Location Type                      object\n",
      "Incident Zip                      float64\n",
      "Incident Address                   object\n",
      "Street Name                        object\n",
      "Cross Street 1                     object\n",
      "Cross Street 2                     object\n",
      "Intersection Street 1              object\n",
      "Intersection Street 2              object\n",
      "Address Type                       object\n",
      "City                               object\n",
      "Landmark                           object\n",
      "Facility Type                      object\n",
      "Status                             object\n",
      "Due Date                           object\n",
      "Resolution Description             object\n",
      "Resolution Action Updated Date     object\n",
      "Community Board                    object\n",
      "BBL                               float64\n",
      "Borough                            object\n",
      "X Coordinate (State Plane)        float64\n",
      "Y Coordinate (State Plane)        float64\n",
      "Open Data Channel Type             object\n",
      "Park Facility Name                 object\n",
      "Park Borough                       object\n",
      "Vehicle Type                       object\n",
      "Taxi Company Borough               object\n",
      "Taxi Pick Up Location              object\n",
      "Bridge Highway Name                object\n",
      "Bridge Highway Direction           object\n",
      "Road Ramp                          object\n",
      "Bridge Highway Segment             object\n",
      "Latitude                          float64\n",
      "Longitude                         float64\n",
      "Location                           object\n",
      "dtype: object\n"
     ]
    }
   ],
   "source": [
    "# check data types\n",
    "print (df.dtypes)"
   ]
  },
  {
   "cell_type": "code",
   "execution_count": 75,
   "metadata": {},
   "outputs": [
    {
     "data": {
      "text/html": [
       "<div>\n",
       "<style scoped>\n",
       "    .dataframe tbody tr th:only-of-type {\n",
       "        vertical-align: middle;\n",
       "    }\n",
       "\n",
       "    .dataframe tbody tr th {\n",
       "        vertical-align: top;\n",
       "    }\n",
       "\n",
       "    .dataframe thead th {\n",
       "        text-align: right;\n",
       "    }\n",
       "</style>\n",
       "<table border=\"1\" class=\"dataframe\">\n",
       "  <thead>\n",
       "    <tr style=\"text-align: right;\">\n",
       "      <th></th>\n",
       "      <th>Unique Key</th>\n",
       "      <th>Agency Name</th>\n",
       "      <th>Complaint Type</th>\n",
       "      <th>Incident Zip</th>\n",
       "      <th>Borough</th>\n",
       "      <th>Created Date</th>\n",
       "    </tr>\n",
       "  </thead>\n",
       "  <tbody>\n",
       "    <tr>\n",
       "      <th>0</th>\n",
       "      <td>45321376</td>\n",
       "      <td>Department of Health and Mental Hygiene</td>\n",
       "      <td>Food Poisoning</td>\n",
       "      <td>10467.0</td>\n",
       "      <td>BRONX</td>\n",
       "      <td>01/06/2020 12:00:00 AM</td>\n",
       "    </tr>\n",
       "    <tr>\n",
       "      <th>1</th>\n",
       "      <td>45322953</td>\n",
       "      <td>Department of Health and Mental Hygiene</td>\n",
       "      <td>Food Poisoning</td>\n",
       "      <td>11375.0</td>\n",
       "      <td>QUEENS</td>\n",
       "      <td>01/06/2020 12:00:00 AM</td>\n",
       "    </tr>\n",
       "    <tr>\n",
       "      <th>2</th>\n",
       "      <td>45319607</td>\n",
       "      <td>Department of Health and Mental Hygiene</td>\n",
       "      <td>Food Poisoning</td>\n",
       "      <td>10128.0</td>\n",
       "      <td>MANHATTAN</td>\n",
       "      <td>01/06/2020 12:00:00 AM</td>\n",
       "    </tr>\n",
       "    <tr>\n",
       "      <th>3</th>\n",
       "      <td>45319110</td>\n",
       "      <td>Department of Health and Mental Hygiene</td>\n",
       "      <td>Food Poisoning</td>\n",
       "      <td>10039.0</td>\n",
       "      <td>MANHATTAN</td>\n",
       "      <td>01/06/2020 12:00:00 AM</td>\n",
       "    </tr>\n",
       "    <tr>\n",
       "      <th>4</th>\n",
       "      <td>45319119</td>\n",
       "      <td>Department of Health and Mental Hygiene</td>\n",
       "      <td>Food Poisoning</td>\n",
       "      <td>10467.0</td>\n",
       "      <td>BRONX</td>\n",
       "      <td>01/06/2020 12:00:00 AM</td>\n",
       "    </tr>\n",
       "  </tbody>\n",
       "</table>\n",
       "</div>"
      ],
      "text/plain": [
       "   Unique Key                              Agency Name  Complaint Type  \\\n",
       "0    45321376  Department of Health and Mental Hygiene  Food Poisoning   \n",
       "1    45322953  Department of Health and Mental Hygiene  Food Poisoning   \n",
       "2    45319607  Department of Health and Mental Hygiene  Food Poisoning   \n",
       "3    45319110  Department of Health and Mental Hygiene  Food Poisoning   \n",
       "4    45319119  Department of Health and Mental Hygiene  Food Poisoning   \n",
       "\n",
       "   Incident Zip    Borough            Created Date  \n",
       "0       10467.0      BRONX  01/06/2020 12:00:00 AM  \n",
       "1       11375.0     QUEENS  01/06/2020 12:00:00 AM  \n",
       "2       10128.0  MANHATTAN  01/06/2020 12:00:00 AM  \n",
       "3       10039.0  MANHATTAN  01/06/2020 12:00:00 AM  \n",
       "4       10467.0      BRONX  01/06/2020 12:00:00 AM  "
      ]
     },
     "execution_count": 75,
     "metadata": {},
     "output_type": "execute_result"
    }
   ],
   "source": [
    "# print data header with certain columns\n",
    "df[['Unique Key', 'Agency Name', 'Complaint Type', 'Incident Zip', 'Borough', 'Created Date']].head()"
   ]
  },
  {
   "cell_type": "markdown",
   "metadata": {},
   "source": [
    "### 5) Downsize data with certain columns\n",
    "Let's keep 6 columns used above ('Unique Key', 'Agency Name', 'Complaint Type', 'Incident Zip', 'Borough', and 'Created Date')"
   ]
  },
  {
   "cell_type": "code",
   "execution_count": 76,
   "metadata": {},
   "outputs": [
    {
     "data": {
      "text/html": [
       "<div>\n",
       "<style scoped>\n",
       "    .dataframe tbody tr th:only-of-type {\n",
       "        vertical-align: middle;\n",
       "    }\n",
       "\n",
       "    .dataframe tbody tr th {\n",
       "        vertical-align: top;\n",
       "    }\n",
       "\n",
       "    .dataframe thead th {\n",
       "        text-align: right;\n",
       "    }\n",
       "</style>\n",
       "<table border=\"1\" class=\"dataframe\">\n",
       "  <thead>\n",
       "    <tr style=\"text-align: right;\">\n",
       "      <th></th>\n",
       "      <th>Unique Key</th>\n",
       "      <th>Agency Name</th>\n",
       "      <th>Complaint Type</th>\n",
       "      <th>Incident Zip</th>\n",
       "      <th>Borough</th>\n",
       "      <th>Created Date</th>\n",
       "    </tr>\n",
       "  </thead>\n",
       "  <tbody>\n",
       "    <tr>\n",
       "      <th>0</th>\n",
       "      <td>45321376</td>\n",
       "      <td>Department of Health and Mental Hygiene</td>\n",
       "      <td>Food Poisoning</td>\n",
       "      <td>10467.0</td>\n",
       "      <td>BRONX</td>\n",
       "      <td>01/06/2020 12:00:00 AM</td>\n",
       "    </tr>\n",
       "    <tr>\n",
       "      <th>1</th>\n",
       "      <td>45322953</td>\n",
       "      <td>Department of Health and Mental Hygiene</td>\n",
       "      <td>Food Poisoning</td>\n",
       "      <td>11375.0</td>\n",
       "      <td>QUEENS</td>\n",
       "      <td>01/06/2020 12:00:00 AM</td>\n",
       "    </tr>\n",
       "  </tbody>\n",
       "</table>\n",
       "</div>"
      ],
      "text/plain": [
       "   Unique Key                              Agency Name  Complaint Type  \\\n",
       "0    45321376  Department of Health and Mental Hygiene  Food Poisoning   \n",
       "1    45322953  Department of Health and Mental Hygiene  Food Poisoning   \n",
       "\n",
       "   Incident Zip Borough            Created Date  \n",
       "0       10467.0   BRONX  01/06/2020 12:00:00 AM  \n",
       "1       11375.0  QUEENS  01/06/2020 12:00:00 AM  "
      ]
     },
     "execution_count": 76,
     "metadata": {},
     "output_type": "execute_result"
    }
   ],
   "source": [
    "df2 = df[['Unique Key', 'Agency Name', 'Complaint Type', 'Incident Zip', 'Borough', 'Created Date']]\n",
    "df2.head(2)"
   ]
  },
  {
   "cell_type": "markdown",
   "metadata": {},
   "source": [
    "### 6) Print data by index\n",
    "Let's keep 6 columns used above ('Unique Key', 'Agency Name', 'Complaint Type', 'Incident Zip', 'Borough', and 'Created Date')"
   ]
  },
  {
   "cell_type": "code",
   "execution_count": 77,
   "metadata": {},
   "outputs": [
    {
     "data": {
      "text/html": [
       "<div>\n",
       "<style scoped>\n",
       "    .dataframe tbody tr th:only-of-type {\n",
       "        vertical-align: middle;\n",
       "    }\n",
       "\n",
       "    .dataframe tbody tr th {\n",
       "        vertical-align: top;\n",
       "    }\n",
       "\n",
       "    .dataframe thead th {\n",
       "        text-align: right;\n",
       "    }\n",
       "</style>\n",
       "<table border=\"1\" class=\"dataframe\">\n",
       "  <thead>\n",
       "    <tr style=\"text-align: right;\">\n",
       "      <th></th>\n",
       "      <th>Unique Key</th>\n",
       "      <th>Agency Name</th>\n",
       "      <th>Complaint Type</th>\n",
       "      <th>Incident Zip</th>\n",
       "      <th>Borough</th>\n",
       "      <th>Created Date</th>\n",
       "    </tr>\n",
       "  </thead>\n",
       "  <tbody>\n",
       "    <tr>\n",
       "      <th>500</th>\n",
       "      <td>45323527</td>\n",
       "      <td>Department of Environmental Protection</td>\n",
       "      <td>Air Quality</td>\n",
       "      <td>11249.0</td>\n",
       "      <td>BROOKLYN</td>\n",
       "      <td>01/06/2020 06:47:00 AM</td>\n",
       "    </tr>\n",
       "    <tr>\n",
       "      <th>501</th>\n",
       "      <td>45319486</td>\n",
       "      <td>New York City Police Department</td>\n",
       "      <td>Illegal Parking</td>\n",
       "      <td>11377.0</td>\n",
       "      <td>QUEENS</td>\n",
       "      <td>01/06/2020 06:47:00 AM</td>\n",
       "    </tr>\n",
       "    <tr>\n",
       "      <th>502</th>\n",
       "      <td>45323281</td>\n",
       "      <td>Department of Housing Preservation and Develop...</td>\n",
       "      <td>HEAT/HOT WATER</td>\n",
       "      <td>10474.0</td>\n",
       "      <td>BRONX</td>\n",
       "      <td>01/06/2020 06:47:34 AM</td>\n",
       "    </tr>\n",
       "    <tr>\n",
       "      <th>503</th>\n",
       "      <td>45320184</td>\n",
       "      <td>New York City Police Department</td>\n",
       "      <td>Blocked Driveway</td>\n",
       "      <td>11208.0</td>\n",
       "      <td>BROOKLYN</td>\n",
       "      <td>01/06/2020 06:48:30 AM</td>\n",
       "    </tr>\n",
       "    <tr>\n",
       "      <th>504</th>\n",
       "      <td>45319827</td>\n",
       "      <td>BCC - Brooklyn South</td>\n",
       "      <td>Missed Collection (All Materials)</td>\n",
       "      <td>11218.0</td>\n",
       "      <td>BROOKLYN</td>\n",
       "      <td>01/06/2020 06:49:00 AM</td>\n",
       "    </tr>\n",
       "  </tbody>\n",
       "</table>\n",
       "</div>"
      ],
      "text/plain": [
       "     Unique Key                                        Agency Name  \\\n",
       "500    45323527             Department of Environmental Protection   \n",
       "501    45319486                    New York City Police Department   \n",
       "502    45323281  Department of Housing Preservation and Develop...   \n",
       "503    45320184                    New York City Police Department   \n",
       "504    45319827                               BCC - Brooklyn South   \n",
       "\n",
       "                        Complaint Type  Incident Zip   Borough  \\\n",
       "500                        Air Quality       11249.0  BROOKLYN   \n",
       "501                    Illegal Parking       11377.0    QUEENS   \n",
       "502                     HEAT/HOT WATER       10474.0     BRONX   \n",
       "503                   Blocked Driveway       11208.0  BROOKLYN   \n",
       "504  Missed Collection (All Materials)       11218.0  BROOKLYN   \n",
       "\n",
       "               Created Date  \n",
       "500  01/06/2020 06:47:00 AM  \n",
       "501  01/06/2020 06:47:00 AM  \n",
       "502  01/06/2020 06:47:34 AM  \n",
       "503  01/06/2020 06:48:30 AM  \n",
       "504  01/06/2020 06:49:00 AM  "
      ]
     },
     "execution_count": 77,
     "metadata": {},
     "output_type": "execute_result"
    }
   ],
   "source": [
    "df2.iloc[500:505]"
   ]
  },
  {
   "cell_type": "markdown",
   "metadata": {},
   "source": [
    "### 7) Rename columns\n",
    "Let's rename columne 'Incident Zip' to 'Zipcode'"
   ]
  },
  {
   "cell_type": "code",
   "execution_count": 78,
   "metadata": {},
   "outputs": [
    {
     "name": "stderr",
     "output_type": "stream",
     "text": [
      "/Users/erik_strand/opt/anaconda3/lib/python3.7/site-packages/pandas/core/frame.py:4304: SettingWithCopyWarning: \n",
      "A value is trying to be set on a copy of a slice from a DataFrame\n",
      "\n",
      "See the caveats in the documentation: https://pandas.pydata.org/pandas-docs/stable/user_guide/indexing.html#returning-a-view-versus-a-copy\n",
      "  errors=errors,\n"
     ]
    },
    {
     "data": {
      "text/html": [
       "<div>\n",
       "<style scoped>\n",
       "    .dataframe tbody tr th:only-of-type {\n",
       "        vertical-align: middle;\n",
       "    }\n",
       "\n",
       "    .dataframe tbody tr th {\n",
       "        vertical-align: top;\n",
       "    }\n",
       "\n",
       "    .dataframe thead th {\n",
       "        text-align: right;\n",
       "    }\n",
       "</style>\n",
       "<table border=\"1\" class=\"dataframe\">\n",
       "  <thead>\n",
       "    <tr style=\"text-align: right;\">\n",
       "      <th></th>\n",
       "      <th>Unique Key</th>\n",
       "      <th>Agency Name</th>\n",
       "      <th>Complaint Type</th>\n",
       "      <th>Zipcode</th>\n",
       "      <th>Borough</th>\n",
       "      <th>Created Date</th>\n",
       "    </tr>\n",
       "  </thead>\n",
       "  <tbody>\n",
       "    <tr>\n",
       "      <th>0</th>\n",
       "      <td>45321376</td>\n",
       "      <td>Department of Health and Mental Hygiene</td>\n",
       "      <td>Food Poisoning</td>\n",
       "      <td>10467.0</td>\n",
       "      <td>BRONX</td>\n",
       "      <td>01/06/2020 12:00:00 AM</td>\n",
       "    </tr>\n",
       "    <tr>\n",
       "      <th>1</th>\n",
       "      <td>45322953</td>\n",
       "      <td>Department of Health and Mental Hygiene</td>\n",
       "      <td>Food Poisoning</td>\n",
       "      <td>11375.0</td>\n",
       "      <td>QUEENS</td>\n",
       "      <td>01/06/2020 12:00:00 AM</td>\n",
       "    </tr>\n",
       "  </tbody>\n",
       "</table>\n",
       "</div>"
      ],
      "text/plain": [
       "   Unique Key                              Agency Name  Complaint Type  \\\n",
       "0    45321376  Department of Health and Mental Hygiene  Food Poisoning   \n",
       "1    45322953  Department of Health and Mental Hygiene  Food Poisoning   \n",
       "\n",
       "   Zipcode Borough            Created Date  \n",
       "0  10467.0   BRONX  01/06/2020 12:00:00 AM  \n",
       "1  11375.0  QUEENS  01/06/2020 12:00:00 AM  "
      ]
     },
     "execution_count": 78,
     "metadata": {},
     "output_type": "execute_result"
    }
   ],
   "source": [
    "df2.rename(columns = {'Incident Zip':'Zipcode'}, inplace = True) \n",
    "df2.head(2)"
   ]
  },
  {
   "cell_type": "markdown",
   "metadata": {},
   "source": [
    "### 8) Sort values"
   ]
  },
  {
   "cell_type": "code",
   "execution_count": 90,
   "metadata": {},
   "outputs": [
    {
     "name": "stderr",
     "output_type": "stream",
     "text": [
      "/Users/erik_strand/opt/anaconda3/lib/python3.7/site-packages/ipykernel_launcher.py:1: SettingWithCopyWarning: \n",
      "A value is trying to be set on a copy of a slice from a DataFrame.\n",
      "Try using .loc[row_indexer,col_indexer] = value instead\n",
      "\n",
      "See the caveats in the documentation: https://pandas.pydata.org/pandas-docs/stable/user_guide/indexing.html#returning-a-view-versus-a-copy\n",
      "  \"\"\"Entry point for launching an IPython kernel.\n"
     ]
    },
    {
     "data": {
      "text/html": [
       "<div>\n",
       "<style scoped>\n",
       "    .dataframe tbody tr th:only-of-type {\n",
       "        vertical-align: middle;\n",
       "    }\n",
       "\n",
       "    .dataframe tbody tr th {\n",
       "        vertical-align: top;\n",
       "    }\n",
       "\n",
       "    .dataframe thead th {\n",
       "        text-align: right;\n",
       "    }\n",
       "</style>\n",
       "<table border=\"1\" class=\"dataframe\">\n",
       "  <thead>\n",
       "    <tr style=\"text-align: right;\">\n",
       "      <th></th>\n",
       "      <th>Unique Key</th>\n",
       "      <th>Agency Name</th>\n",
       "      <th>Complaint Type</th>\n",
       "      <th>Zipcode</th>\n",
       "      <th>Borough</th>\n",
       "      <th>Created Date</th>\n",
       "    </tr>\n",
       "  </thead>\n",
       "  <tbody>\n",
       "    <tr>\n",
       "      <th>5596</th>\n",
       "      <td>45322923</td>\n",
       "      <td>New York City Police Department</td>\n",
       "      <td>Noise - Residential</td>\n",
       "      <td>10001</td>\n",
       "      <td>MANHATTAN</td>\n",
       "      <td>01/06/2020 10:19:50 PM</td>\n",
       "    </tr>\n",
       "    <tr>\n",
       "      <th>2524</th>\n",
       "      <td>45320638</td>\n",
       "      <td>New York City Police Department</td>\n",
       "      <td>Illegal Parking</td>\n",
       "      <td>10001</td>\n",
       "      <td>MANHATTAN</td>\n",
       "      <td>01/06/2020 12:16:41 PM</td>\n",
       "    </tr>\n",
       "    <tr>\n",
       "      <th>3096</th>\n",
       "      <td>45324354</td>\n",
       "      <td>New York City Police Department</td>\n",
       "      <td>Noise - Residential</td>\n",
       "      <td>10001</td>\n",
       "      <td>MANHATTAN</td>\n",
       "      <td>01/06/2020 01:42:59 PM</td>\n",
       "    </tr>\n",
       "    <tr>\n",
       "      <th>4899</th>\n",
       "      <td>45319028</td>\n",
       "      <td>Department of Buildings</td>\n",
       "      <td>General Construction/Plumbing</td>\n",
       "      <td>10001</td>\n",
       "      <td>MANHATTAN</td>\n",
       "      <td>01/06/2020 07:23:01 PM</td>\n",
       "    </tr>\n",
       "    <tr>\n",
       "      <th>1310</th>\n",
       "      <td>45327337</td>\n",
       "      <td>Department of Sanitation</td>\n",
       "      <td>Graffiti</td>\n",
       "      <td>10001</td>\n",
       "      <td>MANHATTAN</td>\n",
       "      <td>01/06/2020 09:44:00 AM</td>\n",
       "    </tr>\n",
       "  </tbody>\n",
       "</table>\n",
       "</div>"
      ],
      "text/plain": [
       "      Unique Key                      Agency Name  \\\n",
       "5596    45322923  New York City Police Department   \n",
       "2524    45320638  New York City Police Department   \n",
       "3096    45324354  New York City Police Department   \n",
       "4899    45319028          Department of Buildings   \n",
       "1310    45327337         Department of Sanitation   \n",
       "\n",
       "                     Complaint Type  Zipcode    Borough  \\\n",
       "5596            Noise - Residential    10001  MANHATTAN   \n",
       "2524                Illegal Parking    10001  MANHATTAN   \n",
       "3096            Noise - Residential    10001  MANHATTAN   \n",
       "4899  General Construction/Plumbing    10001  MANHATTAN   \n",
       "1310                       Graffiti    10001  MANHATTAN   \n",
       "\n",
       "                Created Date  \n",
       "5596  01/06/2020 10:19:50 PM  \n",
       "2524  01/06/2020 12:16:41 PM  \n",
       "3096  01/06/2020 01:42:59 PM  \n",
       "4899  01/06/2020 07:23:01 PM  \n",
       "1310  01/06/2020 09:44:00 AM  "
      ]
     },
     "execution_count": 90,
     "metadata": {},
     "output_type": "execute_result"
    }
   ],
   "source": [
    "df2['Zipcode'] = df2['Zipcode'].astype('Int64')\n",
    "df2.sort_values(by='Zipcode', ascending=True).head()"
   ]
  },
  {
   "cell_type": "markdown",
   "metadata": {},
   "source": [
    "### 9) Print rows based on values\n",
    "\n",
    "    Print rows where \"Zipcode\" is 10011 and \"Complaint Type\" is 'Illegal Parking'\n"
   ]
  },
  {
   "cell_type": "code",
   "execution_count": 92,
   "metadata": {},
   "outputs": [
    {
     "data": {
      "text/html": [
       "<div>\n",
       "<style scoped>\n",
       "    .dataframe tbody tr th:only-of-type {\n",
       "        vertical-align: middle;\n",
       "    }\n",
       "\n",
       "    .dataframe tbody tr th {\n",
       "        vertical-align: top;\n",
       "    }\n",
       "\n",
       "    .dataframe thead th {\n",
       "        text-align: right;\n",
       "    }\n",
       "</style>\n",
       "<table border=\"1\" class=\"dataframe\">\n",
       "  <thead>\n",
       "    <tr style=\"text-align: right;\">\n",
       "      <th></th>\n",
       "      <th>Unique Key</th>\n",
       "      <th>Agency Name</th>\n",
       "      <th>Complaint Type</th>\n",
       "      <th>Zipcode</th>\n",
       "      <th>Borough</th>\n",
       "      <th>Created Date</th>\n",
       "    </tr>\n",
       "  </thead>\n",
       "  <tbody>\n",
       "    <tr>\n",
       "      <th>4993</th>\n",
       "      <td>45325003</td>\n",
       "      <td>New York City Police Department</td>\n",
       "      <td>Illegal Parking</td>\n",
       "      <td>10011</td>\n",
       "      <td>MANHATTAN</td>\n",
       "      <td>01/06/2020 07:48:07 PM</td>\n",
       "    </tr>\n",
       "    <tr>\n",
       "      <th>5959</th>\n",
       "      <td>45322573</td>\n",
       "      <td>New York City Police Department</td>\n",
       "      <td>Illegal Parking</td>\n",
       "      <td>10011</td>\n",
       "      <td>MANHATTAN</td>\n",
       "      <td>01/06/2020 11:41:21 PM</td>\n",
       "    </tr>\n",
       "    <tr>\n",
       "      <th>5975</th>\n",
       "      <td>45320348</td>\n",
       "      <td>New York City Police Department</td>\n",
       "      <td>Illegal Parking</td>\n",
       "      <td>10011</td>\n",
       "      <td>MANHATTAN</td>\n",
       "      <td>01/06/2020 11:44:16 PM</td>\n",
       "    </tr>\n",
       "  </tbody>\n",
       "</table>\n",
       "</div>"
      ],
      "text/plain": [
       "      Unique Key                      Agency Name   Complaint Type  Zipcode  \\\n",
       "4993    45325003  New York City Police Department  Illegal Parking    10011   \n",
       "5959    45322573  New York City Police Department  Illegal Parking    10011   \n",
       "5975    45320348  New York City Police Department  Illegal Parking    10011   \n",
       "\n",
       "        Borough            Created Date  \n",
       "4993  MANHATTAN  01/06/2020 07:48:07 PM  \n",
       "5959  MANHATTAN  01/06/2020 11:41:21 PM  \n",
       "5975  MANHATTAN  01/06/2020 11:44:16 PM  "
      ]
     },
     "execution_count": 92,
     "metadata": {},
     "output_type": "execute_result"
    }
   ],
   "source": [
    "df2[(df2['Zipcode']==10011) & (df2['Complaint Type']=='Illegal Parking')]"
   ]
  },
  {
   "cell_type": "markdown",
   "metadata": {},
   "source": [
    "### 10) Create new column\n",
    "\n",
    "    Create column name 'count' with value 1 (integer)\n"
   ]
  },
  {
   "cell_type": "code",
   "execution_count": 93,
   "metadata": {},
   "outputs": [
    {
     "name": "stderr",
     "output_type": "stream",
     "text": [
      "/Users/erik_strand/opt/anaconda3/lib/python3.7/site-packages/ipykernel_launcher.py:1: SettingWithCopyWarning: \n",
      "A value is trying to be set on a copy of a slice from a DataFrame.\n",
      "Try using .loc[row_indexer,col_indexer] = value instead\n",
      "\n",
      "See the caveats in the documentation: https://pandas.pydata.org/pandas-docs/stable/user_guide/indexing.html#returning-a-view-versus-a-copy\n",
      "  \"\"\"Entry point for launching an IPython kernel.\n"
     ]
    },
    {
     "data": {
      "text/html": [
       "<div>\n",
       "<style scoped>\n",
       "    .dataframe tbody tr th:only-of-type {\n",
       "        vertical-align: middle;\n",
       "    }\n",
       "\n",
       "    .dataframe tbody tr th {\n",
       "        vertical-align: top;\n",
       "    }\n",
       "\n",
       "    .dataframe thead th {\n",
       "        text-align: right;\n",
       "    }\n",
       "</style>\n",
       "<table border=\"1\" class=\"dataframe\">\n",
       "  <thead>\n",
       "    <tr style=\"text-align: right;\">\n",
       "      <th></th>\n",
       "      <th>Unique Key</th>\n",
       "      <th>Agency Name</th>\n",
       "      <th>Complaint Type</th>\n",
       "      <th>Zipcode</th>\n",
       "      <th>Borough</th>\n",
       "      <th>Created Date</th>\n",
       "      <th>count</th>\n",
       "    </tr>\n",
       "  </thead>\n",
       "  <tbody>\n",
       "    <tr>\n",
       "      <th>0</th>\n",
       "      <td>45321376</td>\n",
       "      <td>Department of Health and Mental Hygiene</td>\n",
       "      <td>Food Poisoning</td>\n",
       "      <td>10467</td>\n",
       "      <td>BRONX</td>\n",
       "      <td>01/06/2020 12:00:00 AM</td>\n",
       "      <td>1</td>\n",
       "    </tr>\n",
       "    <tr>\n",
       "      <th>1</th>\n",
       "      <td>45322953</td>\n",
       "      <td>Department of Health and Mental Hygiene</td>\n",
       "      <td>Food Poisoning</td>\n",
       "      <td>11375</td>\n",
       "      <td>QUEENS</td>\n",
       "      <td>01/06/2020 12:00:00 AM</td>\n",
       "      <td>1</td>\n",
       "    </tr>\n",
       "  </tbody>\n",
       "</table>\n",
       "</div>"
      ],
      "text/plain": [
       "   Unique Key                              Agency Name  Complaint Type  \\\n",
       "0    45321376  Department of Health and Mental Hygiene  Food Poisoning   \n",
       "1    45322953  Department of Health and Mental Hygiene  Food Poisoning   \n",
       "\n",
       "   Zipcode Borough            Created Date  count  \n",
       "0    10467   BRONX  01/06/2020 12:00:00 AM      1  \n",
       "1    11375  QUEENS  01/06/2020 12:00:00 AM      1  "
      ]
     },
     "execution_count": 93,
     "metadata": {},
     "output_type": "execute_result"
    }
   ],
   "source": [
    "df2['count'] = 1\n",
    "df2.head(2)"
   ]
  },
  {
   "cell_type": "markdown",
   "metadata": {},
   "source": [
    "### 11) Groupby\n",
    "\n",
    "    A groupby operation involves some combination of splitting the object, applying a function, and combining the results. This can be used to group large amounts of data and compute operations on these groups.\n",
    "    Let's groupby Borough to calculate how many 311 complaints were reported\n"
   ]
  },
  {
   "cell_type": "code",
   "execution_count": 94,
   "metadata": {},
   "outputs": [
    {
     "data": {
      "text/html": [
       "<div>\n",
       "<style scoped>\n",
       "    .dataframe tbody tr th:only-of-type {\n",
       "        vertical-align: middle;\n",
       "    }\n",
       "\n",
       "    .dataframe tbody tr th {\n",
       "        vertical-align: top;\n",
       "    }\n",
       "\n",
       "    .dataframe thead th {\n",
       "        text-align: right;\n",
       "    }\n",
       "</style>\n",
       "<table border=\"1\" class=\"dataframe\">\n",
       "  <thead>\n",
       "    <tr style=\"text-align: right;\">\n",
       "      <th></th>\n",
       "      <th>count</th>\n",
       "    </tr>\n",
       "    <tr>\n",
       "      <th>Borough</th>\n",
       "      <th></th>\n",
       "    </tr>\n",
       "  </thead>\n",
       "  <tbody>\n",
       "    <tr>\n",
       "      <th>BRONX</th>\n",
       "      <td>1069</td>\n",
       "    </tr>\n",
       "    <tr>\n",
       "      <th>BROOKLYN</th>\n",
       "      <td>1763</td>\n",
       "    </tr>\n",
       "    <tr>\n",
       "      <th>MANHATTAN</th>\n",
       "      <td>1417</td>\n",
       "    </tr>\n",
       "    <tr>\n",
       "      <th>QUEENS</th>\n",
       "      <td>1485</td>\n",
       "    </tr>\n",
       "    <tr>\n",
       "      <th>STATEN ISLAND</th>\n",
       "      <td>261</td>\n",
       "    </tr>\n",
       "    <tr>\n",
       "      <th>Unspecified</th>\n",
       "      <td>42</td>\n",
       "    </tr>\n",
       "  </tbody>\n",
       "</table>\n",
       "</div>"
      ],
      "text/plain": [
       "               count\n",
       "Borough             \n",
       "BRONX           1069\n",
       "BROOKLYN        1763\n",
       "MANHATTAN       1417\n",
       "QUEENS          1485\n",
       "STATEN ISLAND    261\n",
       "Unspecified       42"
      ]
     },
     "execution_count": 94,
     "metadata": {},
     "output_type": "execute_result"
    }
   ],
   "source": [
    "result = df2[['Borough', 'count']].groupby('Borough').count()\n",
    "result"
   ]
  },
  {
   "cell_type": "markdown",
   "metadata": {},
   "source": [
    "### 12) Export your dataframe \n",
    "\n",
    "    Syntax: YOUR_DATAFRAME_NAME.to_csv('FILE_PATH')"
   ]
  },
  {
   "cell_type": "code",
   "execution_count": 95,
   "metadata": {},
   "outputs": [],
   "source": [
    "result.to_csv('../output/result_example.csv')"
   ]
  },
  {
   "cell_type": "markdown",
   "metadata": {},
   "source": [
    "# Assignment 01\n",
    "### In this assignment we will be starting to work with Python. Please submit a python script and markdown using Jupyter notebook (.ipynb file) with your submission. File name should be \"Lastname_Firstname_assignment01.ipynb\" and submit to Canvas. Also provide step-by-step code for credit and do not forget to run your code before submitting.\n",
    "\n",
    "* Don’t forget to finish the lab started in the last leb session. \n",
    "* Please do not share works publicly on GitHub or other places until after the deadline.\n",
    "* Some part of coding can be identical if you work in the same group but annotation/comment must be individual.\n"
   ]
  },
  {
   "cell_type": "markdown",
   "metadata": {},
   "source": [
    "## 1. Finish setting up your Jupyter notebook and folders for this semester.\n",
    "This is very trivial task but it will be really important to develop reproducible work pipilines. Please insert a screenshot of the \"EUDML\" folder of Jupyter notebook. There should be at least 4 different folders - data, script, output, and image. To embed image in markdwon cells, you can do ctrl+v your screenshot."
   ]
  },
  {
   "cell_type": "markdown",
   "metadata": {},
   "source": [
    "<img src=\"../image/folder.png\" width=\"800\" height=\"400\">"
   ]
  },
  {
   "cell_type": "markdown",
   "metadata": {},
   "source": []
  },
  {
   "cell_type": "markdown",
   "metadata": {},
   "source": [
    "*Markdown*\n",
    "\n",
    "LaTeX: $\\alpha$$^2$"
   ]
  },
  {
   "cell_type": "markdown",
   "metadata": {},
   "source": [
    "## 2. Create a function to calculate and categorize BMI index.\n",
    "Body Mass Index (BMI) is a measure of body fat that applies to adult men and women. BMI is calculated by using weight and height information, and the calculated index is categorized as four different groups as follows.\n",
    "\n",
    "$BMI = \\frac{weight(kg)}{{height(m)}^{2}}$\n",
    "\n",
    "BMI Categories:\n",
    "* Underweight = <18.5\n",
    "* Normal weight = 18.5–24.9\n",
    "* Overweight = 25–29.9\n",
    "* Obesity = BMI of 30 or greater \n",
    "\n",
    "Please create a function called BMIFunc in three arguments, weight, height, and gender to calculate the BMI of a given person and print one of BMI categories based on the above four groups. Please wirte a script to return the following example output if you take BMIFunc(60, 170, Female) as an input:\n",
    "\n",
    "----- BMI Calculator -----\n",
    "<br>\n",
    "Gender: Female\n",
    "<br>\n",
    "Weigth: 60 (kg)\n",
    "<br>\n",
    "Height: 170 (cm)\n",
    "<br>\n",
    "BMI: 20.8\n",
    "<br>\n",
    "Category: Normal weight\n"
   ]
  },
  {
   "cell_type": "code",
   "execution_count": 104,
   "metadata": {},
   "outputs": [
    {
     "name": "stdout",
     "output_type": "stream",
     "text": [
      "----- BMI Calculator -----\n",
      "Gender: Female \n",
      "Weight: 60 (kg)\n",
      "Height: 170 (cm)\n",
      "BMI: 20.8 \n",
      "Category: Normal Weight\n"
     ]
    }
   ],
   "source": [
    "def BMIFunc(weight, height, gender):\n",
    "    height_m = height / 100 # change height from cm to m\n",
    "    bmi = round(weight / (height_m*height_m), 1) # calculates BMI\n",
    "    if(bmi >= 30): # categorizes BMI based on thresholds\n",
    "        cat = \"Obese\"\n",
    "    elif(bmi >= 25): \n",
    "        cat = \"Overweight\"\n",
    "    elif(bmi >= 18.5): \n",
    "        cat = \"Normal Weight\"\n",
    "    else:\n",
    "        cat = \"Underweight\"\n",
    "    print(\"----- BMI Calculator -----\\nGender:\", gender, \n",
    "          \"\\nWeight:\", weight, \n",
    "          \"(kg)\\nHeight:\", height, \n",
    "          \"(cm)\\nBMI:\", bmi, \n",
    "          \"\\nCategory:\", cat)\n",
    "\n",
    "BMIFunc(60, 170, \"Female\")"
   ]
  },
  {
   "cell_type": "markdown",
   "metadata": {},
   "source": [
    "## 3. Create a function with for loops taking an integer (n) as an input to print the following output.\n",
    "[1]\n",
    "<br>\n",
    "[1]\n",
    "<br>\n",
    "[1,3]\n",
    "<br>\n",
    "[1,3,]\n",
    "<br>\n",
    "...\n",
    "<br>\n",
    "[1,3,5...n-2] (line number n-1) if n is odd OR [1,3,5...n-1] (line number n-1) if n is even\n",
    "<br>\n",
    "* If you take 7 for input, then you will have \n",
    "<br>\n",
    "[1]\n",
    "<br>\n",
    "[1]\n",
    "<br>\n",
    "[1,3]\n",
    "<br>\n",
    "[1,3]\n",
    "<br>\n",
    "[1,3,5]\n",
    "<br>\n",
    "[1,3,5]\n",
    "<br>\n",
    "* If input is 6, then the output will be\n",
    "<br>\n",
    "[1]\n",
    "<br>\n",
    "[1]\n",
    "<br>\n",
    "[1,3]\n",
    "<br>\n",
    "[1,3]\n",
    "<br>\n",
    "[1,3,5]\n",
    "\n",
    "Write a function below and test with input 50."
   ]
  },
  {
   "cell_type": "code",
   "execution_count": 115,
   "metadata": {},
   "outputs": [
    {
     "name": "stdout",
     "output_type": "stream",
     "text": [
      "[1]\n",
      "[1]\n",
      "[1, 3]\n",
      "[1, 3]\n",
      "[1, 3, 5]\n"
     ]
    }
   ],
   "source": [
    "def sequence(n): \n",
    "    for i in range(n - 1): \n",
    "        print(list(range(1, i + 2, 2)))\n",
    "        \n",
    "sequence(6)"
   ]
  },
  {
   "cell_type": "markdown",
   "metadata": {},
   "source": [
    "## 4. Create a function to get all available origin-destination combinations.\n",
    "Let's assume there are 6 cities in the U.S., New York, Boston, Los Angeles, Seattle, Chicago, and San Francisco. Create a function called flightRoutes to print all available airline routes from origin cities to destination cities. There are few conditions to consider:\n",
    "* The airport in Chicago is closed due to heavy snow, meaning flights cannot depart or arrive.\n",
    "* Boston to Los Angeles is not available temporarily.\n",
    "* Seattle to New York is not available temporarily.\n",
    "* Use pass AND/OR break AND/OR countinue command.\n",
    "\n",
    "<br>\n",
    "Write your code below and provide your output. Ideal output would be similar to the followings:\n",
    "<br>\n",
    "Origin: New York - Destination: Boston\n",
    "<br>\n",
    "Origin: New York - Destination: Los Angeles\n",
    "<br>\n",
    "..."
   ]
  },
  {
   "cell_type": "code",
   "execution_count": 117,
   "metadata": {},
   "outputs": [
    {
     "name": "stdout",
     "output_type": "stream",
     "text": [
      "Origin: New York - Destination: Boston\n",
      "Origin: New York - Destination: Los Angeles\n",
      "Origin: New York - Destination: Seattle\n",
      "Origin: New York - Destination: San Francisco\n",
      "Origin: Boston - Destination: New York\n",
      "Origin: Boston - Destination: Seattle\n",
      "Origin: Boston - Destination: San Francisco\n",
      "Origin: Los Angeles - Destination: New York\n",
      "Origin: Los Angeles - Destination: Boston\n",
      "Origin: Los Angeles - Destination: Seattle\n",
      "Origin: Los Angeles - Destination: San Francisco\n",
      "Origin: Seattle - Destination: Boston\n",
      "Origin: Seattle - Destination: Los Angeles\n",
      "Origin: Seattle - Destination: San Francisco\n",
      "Origin: San Francisco - Destination: New York\n",
      "Origin: San Francisco - Destination: Boston\n",
      "Origin: San Francisco - Destination: Los Angeles\n",
      "Origin: San Francisco - Destination: Seattle\n"
     ]
    }
   ],
   "source": [
    "def flightRoutes(): \n",
    "    cities = [\"New York\", \"Boston\", \"Los Angeles\", \"Seattle\", \"Chicago\", \"San Francisco\"]\n",
    "    for i in cities: \n",
    "        for j in cities: \n",
    "            if i == j: \n",
    "                pass\n",
    "            elif i == \"Chicago\" or j == \"Chicago\": \n",
    "                pass\n",
    "            elif i == \"Boston\" and j == \"Los Angeles\": \n",
    "                pass\n",
    "            elif i == \"Seattle\" and j == \"New York\":\n",
    "                pass\n",
    "            else: \n",
    "                print(\"Origin:\", i, \"- Destination:\", j)\n",
    "    \n",
    "flightRoutes()"
   ]
  },
  {
   "cell_type": "markdown",
   "metadata": {},
   "source": [
    "## 5. Write a code to return a list of prime numbers. \n",
    "A prime number is a positive integer which has no other factors except 1 and the number itself. For example 2, 3, 5, 7, 11, etc. are prime numbers, but 8 is not because 8 has four factors; 1, 2, 4, 8.\n",
    "\n",
    "Please write a function to take a positive integer as an input to return a list of prime numbers less than the input integer. For example, if you take 10 as an input, then your code will return [2,3,5,7]. \n",
    "\n",
    "Write your code below and print your output of taking input integer 100.\n",
    "\n",
    "Hint: please google and use Python operators %."
   ]
  },
  {
   "cell_type": "code",
   "execution_count": 134,
   "metadata": {},
   "outputs": [
    {
     "name": "stdout",
     "output_type": "stream",
     "text": [
      "[2, 3, 5, 7, 11, 13, 17, 19, 23, 29, 31, 37, 41, 43, 47, 53, 59, 61, 67, 71, 73, 79, 83, 89, 97]\n"
     ]
    }
   ],
   "source": [
    "def primeNumbers(n):\n",
    "    primes = []\n",
    "    for i in range(2, n + 1): # check each number between 2 and n for prime/not prime (0 and 1 always not prime)\n",
    "        is_prime = True\n",
    "        for j in range(2, i, 1): \n",
    "            if i % j == 0: \n",
    "                is_prime = False\n",
    "        if is_prime: \n",
    "            primes.append(i)\n",
    "    if len(primes) == 0: \n",
    "        print(\"No prime numbers\")\n",
    "    else:\n",
    "        print(primes)\n",
    "\n",
    "primeNumbers(100)"
   ]
  }
 ],
 "metadata": {
  "kernelspec": {
   "display_name": "Python 3",
   "language": "python",
   "name": "python3"
  },
  "language_info": {
   "codemirror_mode": {
    "name": "ipython",
    "version": 3
   },
   "file_extension": ".py",
   "mimetype": "text/x-python",
   "name": "python",
   "nbconvert_exporter": "python",
   "pygments_lexer": "ipython3",
   "version": "3.7.6"
  }
 },
 "nbformat": 4,
 "nbformat_minor": 2
}
