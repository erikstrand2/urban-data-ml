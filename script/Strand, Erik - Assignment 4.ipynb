{
 "cells": [
  {
   "cell_type": "markdown",
   "metadata": {},
   "source": [
    "# Assignment 04\n",
    "## In this assignment we will review Naive Bayes and Logistic regression modeling.\n",
    "    \n",
    "__Please submit a python script and markdown using Jupyter notebook (.ipynb file). File name should be \"Lastname_Firstname_assignment04.ipynb\". Provide step-by-step code for partial credits and do not forget to run your code before submitting.__\n",
    "\n",
    "* Please do not share works publicly on GitHub or other places until the deadline.\n",
    "* Some part of coding can be identical if you work with classmates but annotation/comment must be individual work.\n",
    "* If you have any concerns or struggles, do not hesitate to contact me (b.hong@columbia.edu). "
   ]
  },
  {
   "cell_type": "code",
   "execution_count": 1,
   "metadata": {},
   "outputs": [],
   "source": [
    "# Load modules here\n",
    "import warnings\n",
    "warnings.filterwarnings(\"ignore\")\n",
    "\n",
    "import pandas as pd\n",
    "import numpy as np\n",
    "from sklearn.model_selection import train_test_split\n",
    "from math import sqrt\n",
    "import matplotlib.pyplot as plt\n",
    "%matplotlib inline\n",
    "from sklearn.naive_bayes import GaussianNB\n",
    "from sklearn.linear_model import LogisticRegression\n",
    "from sklearn.metrics import confusion_matrix \n",
    "import sklearn.metrics as metrics "
   ]
  },
  {
   "cell_type": "markdown",
   "metadata": {},
   "source": [
    "# 1. Naive Bayes Classifier problem\n",
    "    \n",
    "Assume you have a data set as below. It contains records of cars with three features: \n",
    "* The type of the car (sports(1) or SUV(2))\n",
    "* The color of the car (red(1) or yellow(2))\n",
    "* The origin of the car (domestic(1) or imported(2))\n",
    "\n",
    "And the labels for the data are: stolen(1) and not(0)."
   ]
  },
  {
   "cell_type": "code",
   "execution_count": 2,
   "metadata": {},
   "outputs": [
    {
     "data": {
      "text/html": [
       "<div>\n",
       "<style scoped>\n",
       "    .dataframe tbody tr th:only-of-type {\n",
       "        vertical-align: middle;\n",
       "    }\n",
       "\n",
       "    .dataframe tbody tr th {\n",
       "        vertical-align: top;\n",
       "    }\n",
       "\n",
       "    .dataframe thead th {\n",
       "        text-align: right;\n",
       "    }\n",
       "</style>\n",
       "<table border=\"1\" class=\"dataframe\">\n",
       "  <thead>\n",
       "    <tr style=\"text-align: right;\">\n",
       "      <th></th>\n",
       "      <th>Stolen</th>\n",
       "      <th>Color</th>\n",
       "      <th>Type</th>\n",
       "      <th>Origin</th>\n",
       "    </tr>\n",
       "  </thead>\n",
       "  <tbody>\n",
       "    <tr>\n",
       "      <th>0</th>\n",
       "      <td>1</td>\n",
       "      <td>1</td>\n",
       "      <td>1</td>\n",
       "      <td>1</td>\n",
       "    </tr>\n",
       "    <tr>\n",
       "      <th>1</th>\n",
       "      <td>0</td>\n",
       "      <td>1</td>\n",
       "      <td>1</td>\n",
       "      <td>1</td>\n",
       "    </tr>\n",
       "    <tr>\n",
       "      <th>2</th>\n",
       "      <td>1</td>\n",
       "      <td>1</td>\n",
       "      <td>1</td>\n",
       "      <td>1</td>\n",
       "    </tr>\n",
       "    <tr>\n",
       "      <th>3</th>\n",
       "      <td>0</td>\n",
       "      <td>2</td>\n",
       "      <td>1</td>\n",
       "      <td>1</td>\n",
       "    </tr>\n",
       "    <tr>\n",
       "      <th>4</th>\n",
       "      <td>1</td>\n",
       "      <td>2</td>\n",
       "      <td>1</td>\n",
       "      <td>2</td>\n",
       "    </tr>\n",
       "    <tr>\n",
       "      <th>5</th>\n",
       "      <td>0</td>\n",
       "      <td>2</td>\n",
       "      <td>2</td>\n",
       "      <td>2</td>\n",
       "    </tr>\n",
       "    <tr>\n",
       "      <th>6</th>\n",
       "      <td>1</td>\n",
       "      <td>2</td>\n",
       "      <td>2</td>\n",
       "      <td>2</td>\n",
       "    </tr>\n",
       "    <tr>\n",
       "      <th>7</th>\n",
       "      <td>0</td>\n",
       "      <td>2</td>\n",
       "      <td>2</td>\n",
       "      <td>1</td>\n",
       "    </tr>\n",
       "    <tr>\n",
       "      <th>8</th>\n",
       "      <td>0</td>\n",
       "      <td>1</td>\n",
       "      <td>2</td>\n",
       "      <td>2</td>\n",
       "    </tr>\n",
       "    <tr>\n",
       "      <th>9</th>\n",
       "      <td>1</td>\n",
       "      <td>1</td>\n",
       "      <td>1</td>\n",
       "      <td>2</td>\n",
       "    </tr>\n",
       "  </tbody>\n",
       "</table>\n",
       "</div>"
      ],
      "text/plain": [
       "   Stolen  Color  Type  Origin\n",
       "0       1      1     1       1\n",
       "1       0      1     1       1\n",
       "2       1      1     1       1\n",
       "3       0      2     1       1\n",
       "4       1      2     1       2\n",
       "5       0      2     2       2\n",
       "6       1      2     2       2\n",
       "7       0      2     2       1\n",
       "8       0      1     2       2\n",
       "9       1      1     1       2"
      ]
     },
     "execution_count": 2,
     "metadata": {},
     "output_type": "execute_result"
    }
   ],
   "source": [
    "y=[1,0,1,0,1,0,1,0,0,1]\n",
    "X=[[1,1,1,2,2,2,2,2,1,1],[1,1,1,1,1,2,2,2,2,1],[1,1,1,1,2,2,2,1,2,2]]\n",
    "data=[y]+X\n",
    "data=pd.DataFrame(data).T\n",
    "data.columns=['Stolen','Color','Type','Origin']\n",
    "data"
   ]
  },
  {
   "cell_type": "markdown",
   "metadata": {},
   "source": [
    "### (1) Calculate the following sample probabilities: \n",
    "* P(Red|Stolen)\n",
    "* P(SUV|Stolen)\n",
    "* P(Domestic|Stolen)\n",
    "* P(Red|Not Stolen)\n",
    "* P(SUV|Not Stolen)\n",
    "* P(Domestic|Not Stolen)\n",
    "\n",
    "\\begin{align}\n",
    "\\ P(Red|Stolen) = \\frac{P(x_{Red}|c_{Stolen})\\cdot P(c_{Stolen})}{P(x_{Red})} = \\frac{\\frac{3}{5} \\cdot \\frac{1}{2}}{\\frac{1}{2}} = \\frac{3}{5}\\\\\n",
    "\\end{align}\n",
    "\n",
    "\\begin{align}\n",
    "\\ P(SUV|Stolen) = \\frac{P(x_{SUV}|c_{Stolen})\\cdot P(c_{Stolen})}{P(x_{SUV})} = \\frac{\\frac{1}{4} \\cdot \\frac{1}{2}}{\\frac{2}{5}} = \\frac{5}{16}\\\\\n",
    "\\end{align}\n",
    "\n",
    "\\begin{align}\n",
    "\\ P(Domestic|Stolen) = \\frac{P(x_{Domestic}|c_{Stolen})\\cdot P(c_{Stolen})}{P(x_{Domestic})} = \\frac{\\frac{2}{5} \\cdot \\frac{1}{2}}{\\frac{1}{2}} = \\frac{2}{5}\\\\\n",
    "\\end{align}\n",
    "\n",
    "\\begin{align}\n",
    "\\ P(Red|Not Stolen) = \\frac{P(x_{Red}|c_{Not Stolen})\\cdot P(c_{Not Stolen})}{P(x_{Red})} = \\frac{\\frac{2}{5} \\cdot \\frac{1}{2}}{\\frac{1}{2}} = \\frac{2}{5}\\\\\n",
    "\\end{align}\n",
    "\n",
    "\\begin{align}\n",
    "\\ P(SUV|Not Stolen) = \\frac{P(x_{SUV}|c_{Not Stolen})\\cdot P(c_{Not Stolen})}{P(x_{SUV})} = \\frac{\\frac{3}{4} \\cdot \\frac{1}{2}}{\\frac{2}{5}} = \\frac{15}{16}\\\\\n",
    "\\end{align}\n",
    "\n",
    "\\begin{align}\n",
    "\\ P(Domestic|Not Stolen) = \\frac{P(x_{Domestic}|c_{Not Stolen})\\cdot P(c_{Not Stolen})}{P(x_{Domestic})} = \\frac{\\frac{3}{5} \\cdot \\frac{1}{2}}{\\frac{1}{2}} = \\frac{3}{5}\\\\\n",
    "\\end{align}\n",
    "\n",
    "### (2) Suggest a classification for a red, domestic SUV - whether it will be stolen or not - using Naive Bayes classifier.\n",
    "    Please perform all the necessary computations \"by hands\" rather than using python code."
   ]
  },
  {
   "cell_type": "markdown",
   "metadata": {},
   "source": [
    "\\begin{align}\n",
    "\\ P(c_{Stolen}|x_{Red}x_{Domestic}x_{SUV}) = P(x_{Red}|c_{Stolen})\\cdot P(x_{Domestic}|c_{Stolen}) \\cdot P(x_{SUV}|c_{Stolen}) \\cdot P(c_{Stolen}) = \\frac{3}{5} \\cdot \\frac{2}{5} \\cdot \\frac{5}{16} \\cdot \\frac{1}{2} = \\frac{3}{32}\\\\\n",
    "\\end{align}\n",
    "\n",
    "\\begin{align}\n",
    "\\ P(c_{Not Stolen}|x_{Red}x_{Domestic}x_{SUV}) = P(x_{Red}|c_{Not Stolen})\\cdot P(x_{Domestic}|c_{Not Stolen}) \\cdot P(x_{SUV}|c_{Not Stolen}) \\cdot P(c_{Not Stolen}) = \\frac{2}{5} \\cdot \\frac{3}{5} \\cdot \\frac{15}{16} \\cdot \\frac{1}{2} = \\frac{9}{32}\\\\\n",
    "\\end{align}\n",
    "\n",
    "There is a higher probability that a red, domestic SUV will not be stolen than that it will be stolen. "
   ]
  },
  {
   "cell_type": "markdown",
   "metadata": {},
   "source": [
    "# 2. Develop Naive Bayes Classifier to classify Iris species\n",
    "\n",
    "You have the Iris dataset as below."
   ]
  },
  {
   "cell_type": "code",
   "execution_count": 12,
   "metadata": {},
   "outputs": [
    {
     "data": {
      "text/html": [
       "<div>\n",
       "<style scoped>\n",
       "    .dataframe tbody tr th:only-of-type {\n",
       "        vertical-align: middle;\n",
       "    }\n",
       "\n",
       "    .dataframe tbody tr th {\n",
       "        vertical-align: top;\n",
       "    }\n",
       "\n",
       "    .dataframe thead th {\n",
       "        text-align: right;\n",
       "    }\n",
       "</style>\n",
       "<table border=\"1\" class=\"dataframe\">\n",
       "  <thead>\n",
       "    <tr style=\"text-align: right;\">\n",
       "      <th></th>\n",
       "      <th>sepal length (cm)</th>\n",
       "      <th>sepal width (cm)</th>\n",
       "      <th>petal length (cm)</th>\n",
       "      <th>petal width (cm)</th>\n",
       "      <th>target</th>\n",
       "    </tr>\n",
       "  </thead>\n",
       "  <tbody>\n",
       "    <tr>\n",
       "      <th>0</th>\n",
       "      <td>5.1</td>\n",
       "      <td>3.5</td>\n",
       "      <td>1.4</td>\n",
       "      <td>0.2</td>\n",
       "      <td>0</td>\n",
       "    </tr>\n",
       "    <tr>\n",
       "      <th>1</th>\n",
       "      <td>4.9</td>\n",
       "      <td>3.0</td>\n",
       "      <td>1.4</td>\n",
       "      <td>0.2</td>\n",
       "      <td>0</td>\n",
       "    </tr>\n",
       "    <tr>\n",
       "      <th>2</th>\n",
       "      <td>4.7</td>\n",
       "      <td>3.2</td>\n",
       "      <td>1.3</td>\n",
       "      <td>0.2</td>\n",
       "      <td>0</td>\n",
       "    </tr>\n",
       "    <tr>\n",
       "      <th>3</th>\n",
       "      <td>4.6</td>\n",
       "      <td>3.1</td>\n",
       "      <td>1.5</td>\n",
       "      <td>0.2</td>\n",
       "      <td>0</td>\n",
       "    </tr>\n",
       "    <tr>\n",
       "      <th>4</th>\n",
       "      <td>5.0</td>\n",
       "      <td>3.6</td>\n",
       "      <td>1.4</td>\n",
       "      <td>0.2</td>\n",
       "      <td>0</td>\n",
       "    </tr>\n",
       "  </tbody>\n",
       "</table>\n",
       "</div>"
      ],
      "text/plain": [
       "   sepal length (cm)  sepal width (cm)  petal length (cm)  petal width (cm)  \\\n",
       "0                5.1               3.5                1.4               0.2   \n",
       "1                4.9               3.0                1.4               0.2   \n",
       "2                4.7               3.2                1.3               0.2   \n",
       "3                4.6               3.1                1.5               0.2   \n",
       "4                5.0               3.6                1.4               0.2   \n",
       "\n",
       "   target  \n",
       "0       0  \n",
       "1       0  \n",
       "2       0  \n",
       "3       0  \n",
       "4       0  "
      ]
     },
     "execution_count": 12,
     "metadata": {},
     "output_type": "execute_result"
    }
   ],
   "source": [
    "from sklearn.datasets import load_iris\n",
    "iris_dataset = load_iris()\n",
    "df_iris = pd.DataFrame(iris_dataset['data'], columns = iris_dataset['feature_names'])\n",
    "df_iris['target'] = iris_dataset['target']\n",
    "df_iris.head()"
   ]
  },
  {
   "cell_type": "markdown",
   "metadata": {},
   "source": [
    "### (1) Create two scatter plots with different colors based on species (target)\n",
    "* Sepal length vs. Sepal width\n",
    "* Petal length vs. Petal width"
   ]
  },
  {
   "cell_type": "code",
   "execution_count": 18,
   "metadata": {},
   "outputs": [
    {
     "data": {
      "text/plain": [
       "<matplotlib.legend.Legend at 0x7f99f9395690>"
      ]
     },
     "execution_count": 18,
     "metadata": {},
     "output_type": "execute_result"
    },
    {
     "data": {
      "image/png": "[encoded data removed]",
      "text/plain": [
       "<Figure size 432x288 with 1 Axes>"
      ]
     },
     "metadata": {
      "needs_background": "light"
     },
     "output_type": "display_data"
    }
   ],
   "source": [
    "groups = df_iris.groupby(\"target\")\n",
    "for name, group in groups:\n",
    "    plt.plot(group[\"sepal length (cm)\"], group[\"sepal width (cm)\"], marker=\"o\", linestyle=\"\", label=name)\n",
    "plt.title(\"Sepal length and width\")\n",
    "plt.legend()"
   ]
  },
  {
   "cell_type": "code",
   "execution_count": 19,
   "metadata": {},
   "outputs": [
    {
     "data": {
      "text/plain": [
       "<matplotlib.legend.Legend at 0x7f99f94d8d90>"
      ]
     },
     "execution_count": 19,
     "metadata": {},
     "output_type": "execute_result"
    },
    {
     "data": {
      "image/png": "[encoded data removed]",
      "text/plain": [
       "<Figure size 432x288 with 1 Axes>"
      ]
     },
     "metadata": {
      "needs_background": "light"
     },
     "output_type": "display_data"
    }
   ],
   "source": [
    "groups = df_iris.groupby(\"target\")\n",
    "for name, group in groups:\n",
    "    plt.plot(group[\"petal length (cm)\"], group[\"petal width (cm)\"], marker=\"o\", linestyle=\"\", label=name)\n",
    "plt.title(\"Petal length and width\")\n",
    "plt.legend()"
   ]
  },
  {
   "cell_type": "markdown",
   "metadata": {},
   "source": [
    "### (2) Define target variable ($y$) and predictors ($X$) and split data into training and test data"
   ]
  },
  {
   "cell_type": "code",
   "execution_count": 36,
   "metadata": {},
   "outputs": [
    {
     "name": "stdout",
     "output_type": "stream",
     "text": [
      "Train sample (X): 112\n",
      "Train sample (y): 112\n",
      "Test sample (X): 38\n",
      "Test sample (y): 38\n"
     ]
    }
   ],
   "source": [
    "y = df_iris.iloc[:,-1]\n",
    "X = df_iris.iloc[:,:-1]\n",
    "\n",
    "X_train, X_test, y_train, y_test = train_test_split(X,y, train_size = 0.75, random_state=10)\n",
    "\n",
    "print (\"Train sample (X):\", len(X_train))\n",
    "print (\"Train sample (y):\", len(y_train))\n",
    "print (\"Test sample (X):\", len(X_test))\n",
    "print (\"Test sample (y):\", len(y_test))"
   ]
  },
  {
   "cell_type": "markdown",
   "metadata": {},
   "source": [
    "### (3) Build your Naive Bayes Classifier using GaussianNB and print the train and test model accuracy"
   ]
  },
  {
   "cell_type": "code",
   "execution_count": 21,
   "metadata": {},
   "outputs": [
    {
     "name": "stdout",
     "output_type": "stream",
     "text": [
      "Accuracy:  0.9464285714285714\n"
     ]
    }
   ],
   "source": [
    "clf = GaussianNB().fit(X_train, y_train)\n",
    "print (\"Accuracy: \", clf.score(X_train, y_train))"
   ]
  },
  {
   "cell_type": "markdown",
   "metadata": {},
   "source": [
    "### (3) What is species of iris with the follwoing features?\n",
    "* Sepel length: 7.4 cm\n",
    "* Sepal width: 3 cm\n",
    "* Petal length: 6.2 cm\n",
    "* Petal width: 2.2 cm\n",
    "\n",
    "For species name,\n",
    "* Target class 0: Setosa\n",
    "* Target class 1: Versicolor\n",
    "* Target class 2: Virginica"
   ]
  },
  {
   "cell_type": "code",
   "execution_count": 29,
   "metadata": {},
   "outputs": [
    {
     "name": "stdout",
     "output_type": "stream",
     "text": [
      "Virginica\n"
     ]
    }
   ],
   "source": [
    "pred = clf.predict([[7.4, 3, 6.2, 2.2]])\n",
    "                   \n",
    "if pred == 0:\n",
    "    print(\"Setosa\")\n",
    "elif pred == 1:\n",
    "    print(\"Versicolor\")\n",
    "elif pred == 2: \n",
    "    print(\"Virginica\")"
   ]
  },
  {
   "cell_type": "markdown",
   "metadata": {},
   "source": [
    "# 3. Develop Logistic Regression model to predict neighborhoods' 311 reporting behavior\n",
    "\n",
    "Now you will use the dataset about 311 reporting behavior and socioeconomic characteristics. This dataset is aggregated at the Census Block Group (CBG) level and the followings are the description of the columns.\n",
    "\n",
    "* target (y)    \n",
    "    * Target class 1: Neighborhoods over-reporting local problems\n",
    "    * Target class 0: Neighborhoods under-reporting local problems\n",
    "* feamale_r: % of female population\n",
    "* elederly_r: % of population older than 70\n",
    "* black_r: % of black population\n",
    "* non_eng_spanish_r: % of limited English speaker using Spanish\n",
    "* non_eng_asian_5: % of limited English speaker using Asian languages\n",
    "* hh_kid_r: % of housholds with kids under 18\n",
    "* edu_high_r: % of population with at least Bachelor's degree\n",
    "* unemployed_r: Unemployment rate\n",
    "* med_rent: Median rent (USD)\n",
    "* longercommute_r: % of commuters taking more than 45 minutes\n",
    "* nonprofit_r: #of nonprofit organizaiton per 1000 people\n",
    "* meanvt_rat: voter turn out"
   ]
  },
  {
   "cell_type": "markdown",
   "metadata": {},
   "source": [
    "### (1) Load the following dataset.\n",
    "    'NYC_CBG_311_reporting.csv'"
   ]
  },
  {
   "cell_type": "code",
   "execution_count": 50,
   "metadata": {},
   "outputs": [
    {
     "data": {
      "text/html": [
       "<div>\n",
       "<style scoped>\n",
       "    .dataframe tbody tr th:only-of-type {\n",
       "        vertical-align: middle;\n",
       "    }\n",
       "\n",
       "    .dataframe tbody tr th {\n",
       "        vertical-align: top;\n",
       "    }\n",
       "\n",
       "    .dataframe thead th {\n",
       "        text-align: right;\n",
       "    }\n",
       "</style>\n",
       "<table border=\"1\" class=\"dataframe\">\n",
       "  <thead>\n",
       "    <tr style=\"text-align: right;\">\n",
       "      <th></th>\n",
       "      <th>female_r</th>\n",
       "      <th>elderly_r</th>\n",
       "      <th>black_r</th>\n",
       "      <th>non_eng_spanish_r</th>\n",
       "      <th>non_eng_asian_r</th>\n",
       "      <th>hh_kid_r</th>\n",
       "      <th>edu_high_r</th>\n",
       "      <th>unemployed_r</th>\n",
       "      <th>med_rent</th>\n",
       "      <th>longercommute_r</th>\n",
       "      <th>meanvt_rat</th>\n",
       "      <th>target</th>\n",
       "    </tr>\n",
       "  </thead>\n",
       "  <tbody>\n",
       "    <tr>\n",
       "      <th>0</th>\n",
       "      <td>0.474664</td>\n",
       "      <td>0.074786</td>\n",
       "      <td>0.421856</td>\n",
       "      <td>0.049038</td>\n",
       "      <td>0.0</td>\n",
       "      <td>0.610577</td>\n",
       "      <td>0.287162</td>\n",
       "      <td>0.064192</td>\n",
       "      <td>1224.0</td>\n",
       "      <td>0.692806</td>\n",
       "      <td>0.273543</td>\n",
       "      <td>0.0</td>\n",
       "    </tr>\n",
       "    <tr>\n",
       "      <th>1</th>\n",
       "      <td>0.578753</td>\n",
       "      <td>0.038874</td>\n",
       "      <td>0.441354</td>\n",
       "      <td>0.219207</td>\n",
       "      <td>0.0</td>\n",
       "      <td>0.703549</td>\n",
       "      <td>0.127370</td>\n",
       "      <td>0.075724</td>\n",
       "      <td>948.0</td>\n",
       "      <td>0.424552</td>\n",
       "      <td>0.220155</td>\n",
       "      <td>0.0</td>\n",
       "    </tr>\n",
       "    <tr>\n",
       "      <th>2</th>\n",
       "      <td>0.632696</td>\n",
       "      <td>0.273885</td>\n",
       "      <td>0.447983</td>\n",
       "      <td>0.138983</td>\n",
       "      <td>0.0</td>\n",
       "      <td>0.071186</td>\n",
       "      <td>0.179724</td>\n",
       "      <td>0.000000</td>\n",
       "      <td>629.0</td>\n",
       "      <td>0.563536</td>\n",
       "      <td>0.136675</td>\n",
       "      <td>1.0</td>\n",
       "    </tr>\n",
       "    <tr>\n",
       "      <th>3</th>\n",
       "      <td>0.513636</td>\n",
       "      <td>0.192857</td>\n",
       "      <td>0.253896</td>\n",
       "      <td>0.156812</td>\n",
       "      <td>0.0</td>\n",
       "      <td>0.874036</td>\n",
       "      <td>0.049645</td>\n",
       "      <td>0.014682</td>\n",
       "      <td>1150.0</td>\n",
       "      <td>0.290249</td>\n",
       "      <td>0.236928</td>\n",
       "      <td>0.0</td>\n",
       "    </tr>\n",
       "    <tr>\n",
       "      <th>4</th>\n",
       "      <td>0.450287</td>\n",
       "      <td>0.035373</td>\n",
       "      <td>0.100382</td>\n",
       "      <td>0.254438</td>\n",
       "      <td>0.0</td>\n",
       "      <td>1.068047</td>\n",
       "      <td>0.085217</td>\n",
       "      <td>0.013139</td>\n",
       "      <td>951.0</td>\n",
       "      <td>0.494432</td>\n",
       "      <td>0.128975</td>\n",
       "      <td>1.0</td>\n",
       "    </tr>\n",
       "  </tbody>\n",
       "</table>\n",
       "</div>"
      ],
      "text/plain": [
       "   female_r  elderly_r   black_r  non_eng_spanish_r  non_eng_asian_r  \\\n",
       "0  0.474664   0.074786  0.421856           0.049038              0.0   \n",
       "1  0.578753   0.038874  0.441354           0.219207              0.0   \n",
       "2  0.632696   0.273885  0.447983           0.138983              0.0   \n",
       "3  0.513636   0.192857  0.253896           0.156812              0.0   \n",
       "4  0.450287   0.035373  0.100382           0.254438              0.0   \n",
       "\n",
       "   hh_kid_r  edu_high_r  unemployed_r  med_rent  longercommute_r  meanvt_rat  \\\n",
       "0  0.610577    0.287162      0.064192    1224.0         0.692806    0.273543   \n",
       "1  0.703549    0.127370      0.075724     948.0         0.424552    0.220155   \n",
       "2  0.071186    0.179724      0.000000     629.0         0.563536    0.136675   \n",
       "3  0.874036    0.049645      0.014682    1150.0         0.290249    0.236928   \n",
       "4  1.068047    0.085217      0.013139     951.0         0.494432    0.128975   \n",
       "\n",
       "   target  \n",
       "0     0.0  \n",
       "1     0.0  \n",
       "2     1.0  \n",
       "3     0.0  \n",
       "4     1.0  "
      ]
     },
     "execution_count": 50,
     "metadata": {},
     "output_type": "execute_result"
    }
   ],
   "source": [
    "df = pd.read_csv(\"../data/NYC_CBG_311_reporting.csv\")\n",
    "data = df[['female_r', 'elderly_r', 'black_r', 'non_eng_spanish_r', 'non_eng_asian_r', 'hh_kid_r', 'edu_high_r', 'unemployed_r', 'med_rent', 'longercommute_r', 'meanvt_rat', 'target']]\n",
    "data.head()"
   ]
  },
  {
   "cell_type": "markdown",
   "metadata": {},
   "source": [
    "### (2) Define target variable (𝑦) and predictors (𝑋) and split data into training and test data"
   ]
  },
  {
   "cell_type": "code",
   "execution_count": 51,
   "metadata": {},
   "outputs": [
    {
     "name": "stdout",
     "output_type": "stream",
     "text": [
      "Train sample (X): 2098\n",
      "Train sample (y): 2098\n",
      "Test sample (X): 700\n",
      "Test sample (y): 700\n"
     ]
    }
   ],
   "source": [
    "y = data.iloc[:,-1]\n",
    "X = data.iloc[:,:-1]\n",
    "\n",
    "X_train, X_test, y_train, y_test = train_test_split(X,y, train_size = 0.75, random_state=10)\n",
    "\n",
    "print (\"Train sample (X):\", len(X_train))\n",
    "print (\"Train sample (y):\", len(y_train))\n",
    "print (\"Test sample (X):\", len(X_test))\n",
    "print (\"Test sample (y):\", len(y_test))"
   ]
  },
  {
   "cell_type": "markdown",
   "metadata": {},
   "source": [
    "### (3) Build your Logistic Regression model and print a train model accuracy"
   ]
  },
  {
   "cell_type": "code",
   "execution_count": 53,
   "metadata": {},
   "outputs": [
    {
     "name": "stdout",
     "output_type": "stream",
     "text": [
      "Accuracy: 0.749\n"
     ]
    }
   ],
   "source": [
    "model = LogisticRegression().fit(X_train, y_train)\n",
    "print (\"Accuracy:\",round(model.score(X_train, y_train),3))"
   ]
  },
  {
   "cell_type": "markdown",
   "metadata": {},
   "source": [
    "### (4) Print confusion matrix, recall, precision, and specificity"
   ]
  },
  {
   "cell_type": "code",
   "execution_count": 55,
   "metadata": {},
   "outputs": [
    {
     "name": "stdout",
     "output_type": "stream",
     "text": [
      "[[969 257]\n",
      " [269 603]]\n",
      "Accuracy: 0.7492850333651097\n",
      "Recall: 0.6915137614678899\n",
      "Precision: 0.7011627906976744\n",
      "Specificity: 0.7903752039151712\n"
     ]
    }
   ],
   "source": [
    "y_prob = model.predict_proba(X_train)\n",
    "y_pred_train = model.predict(X_train)\n",
    "\n",
    "confusion = confusion_matrix(y_train,y_pred_train)\n",
    "TN = confusion[0][0]\n",
    "FP = confusion[0][1]\n",
    "FN = confusion[1][0]\n",
    "TP = confusion[1][1]\n",
    "Accuracy = (TN + TP) / (TN + FP + FN + TP)\n",
    "Recall = (TP) / (TP + FN)\n",
    "Precision = (TP) / (TP+FP)\n",
    "Specificity = (TN) / (TN+FP)\n",
    "\n",
    "print (confusion)\n",
    "print (\"Accuracy:\",Accuracy)\n",
    "print (\"Recall:\",Recall)\n",
    "print (\"Precision:\",Precision)\n",
    "print (\"Specificity:\",Specificity)"
   ]
  },
  {
   "cell_type": "markdown",
   "metadata": {},
   "source": [
    "### (5) Create ROC curve and state AUC"
   ]
  },
  {
   "cell_type": "code",
   "execution_count": 56,
   "metadata": {},
   "outputs": [
    {
     "name": "stdout",
     "output_type": "stream",
     "text": [
      "0.8044818309711601\n"
     ]
    }
   ],
   "source": [
    "preds = y_prob[:,1]  \n",
    "fpr, tpr, threshold = metrics.roc_curve(y_train, preds)\n",
    "roc_auc = metrics.auc(fpr, tpr)\n",
    "print (roc_auc)"
   ]
  },
  {
   "cell_type": "code",
   "execution_count": 57,
   "metadata": {},
   "outputs": [
    {
     "data": {
      "image/png": "[encoded data removed]",
      "text/plain": [
       "<Figure size 504x504 with 1 Axes>"
      ]
     },
     "metadata": {
      "needs_background": "light"
     },
     "output_type": "display_data"
    }
   ],
   "source": [
    "plt.figure(figsize=(7,7))\n",
    "plt.title('Receiver Operating Characteristic')\n",
    "plt.plot(fpr, tpr, 'b', label = 'AUC = %0.2f' % roc_auc) \n",
    "plt.legend(loc = 'lower right')\n",
    "plt.plot([0, 1], [0, 1],'r--')\n",
    "plt.xlim([0, 1])\n",
    "plt.ylim([0, 1])\n",
    "plt.ylabel('True Positive Rate')\n",
    "plt.xlabel('False Positive Rate')\n",
    "plt.show()"
   ]
  },
  {
   "cell_type": "markdown",
   "metadata": {},
   "source": [
    "### (6) Print train model coefficients and odds ratio. Then interprete about at least two interesting features with respect to 311 reporting behavior.\n",
    "\n",
    "    Example: A neighborhood with more elderly population tends to under-report (XYZ%) about local problems through 311 system."
   ]
  },
  {
   "cell_type": "code",
   "execution_count": 60,
   "metadata": {
    "scrolled": true
   },
   "outputs": [
    {
     "data": {
      "text/html": [
       "<div>\n",
       "<style scoped>\n",
       "    .dataframe tbody tr th:only-of-type {\n",
       "        vertical-align: middle;\n",
       "    }\n",
       "\n",
       "    .dataframe tbody tr th {\n",
       "        vertical-align: top;\n",
       "    }\n",
       "\n",
       "    .dataframe thead th {\n",
       "        text-align: right;\n",
       "    }\n",
       "</style>\n",
       "<table border=\"1\" class=\"dataframe\">\n",
       "  <thead>\n",
       "    <tr style=\"text-align: right;\">\n",
       "      <th></th>\n",
       "      <th>feature</th>\n",
       "      <th>coefficient</th>\n",
       "      <th>odds_ratio</th>\n",
       "    </tr>\n",
       "  </thead>\n",
       "  <tbody>\n",
       "    <tr>\n",
       "      <th>0</th>\n",
       "      <td>female_r</td>\n",
       "      <td>-0.085842</td>\n",
       "      <td>0.917739</td>\n",
       "    </tr>\n",
       "    <tr>\n",
       "      <th>1</th>\n",
       "      <td>elderly_r</td>\n",
       "      <td>-1.791877</td>\n",
       "      <td>0.166647</td>\n",
       "    </tr>\n",
       "    <tr>\n",
       "      <th>2</th>\n",
       "      <td>black_r</td>\n",
       "      <td>1.782066</td>\n",
       "      <td>5.942119</td>\n",
       "    </tr>\n",
       "    <tr>\n",
       "      <th>3</th>\n",
       "      <td>non_eng_spanish_r</td>\n",
       "      <td>2.475609</td>\n",
       "      <td>11.888943</td>\n",
       "    </tr>\n",
       "    <tr>\n",
       "      <th>4</th>\n",
       "      <td>non_eng_asian_r</td>\n",
       "      <td>-1.759994</td>\n",
       "      <td>0.172046</td>\n",
       "    </tr>\n",
       "    <tr>\n",
       "      <th>5</th>\n",
       "      <td>hh_kid_r</td>\n",
       "      <td>-0.159417</td>\n",
       "      <td>0.852641</td>\n",
       "    </tr>\n",
       "    <tr>\n",
       "      <th>6</th>\n",
       "      <td>edu_high_r</td>\n",
       "      <td>-2.852762</td>\n",
       "      <td>0.057685</td>\n",
       "    </tr>\n",
       "    <tr>\n",
       "      <th>7</th>\n",
       "      <td>unemployed_r</td>\n",
       "      <td>0.830573</td>\n",
       "      <td>2.294633</td>\n",
       "    </tr>\n",
       "    <tr>\n",
       "      <th>8</th>\n",
       "      <td>med_rent</td>\n",
       "      <td>0.000076</td>\n",
       "      <td>1.000076</td>\n",
       "    </tr>\n",
       "    <tr>\n",
       "      <th>9</th>\n",
       "      <td>longercommute_r</td>\n",
       "      <td>0.928890</td>\n",
       "      <td>2.531697</td>\n",
       "    </tr>\n",
       "    <tr>\n",
       "      <th>10</th>\n",
       "      <td>meanvt_rat</td>\n",
       "      <td>-1.479709</td>\n",
       "      <td>0.227704</td>\n",
       "    </tr>\n",
       "  </tbody>\n",
       "</table>\n",
       "</div>"
      ],
      "text/plain": [
       "              feature  coefficient  odds_ratio\n",
       "0            female_r    -0.085842    0.917739\n",
       "1           elderly_r    -1.791877    0.166647\n",
       "2             black_r     1.782066    5.942119\n",
       "3   non_eng_spanish_r     2.475609   11.888943\n",
       "4     non_eng_asian_r    -1.759994    0.172046\n",
       "5            hh_kid_r    -0.159417    0.852641\n",
       "6          edu_high_r    -2.852762    0.057685\n",
       "7        unemployed_r     0.830573    2.294633\n",
       "8            med_rent     0.000076    1.000076\n",
       "9     longercommute_r     0.928890    2.531697\n",
       "10         meanvt_rat    -1.479709    0.227704"
      ]
     },
     "execution_count": 60,
     "metadata": {},
     "output_type": "execute_result"
    }
   ],
   "source": [
    "parameters = model.coef_\n",
    "odds_ratio = np.exp(parameters)\n",
    "para_results = pd.DataFrame()\n",
    "para_results['feature'] = data.columns.tolist()[:-1]\n",
    "para_results['coefficient'] = model.coef_[0]\n",
    "para_results['odds_ratio'] = odds_ratio[0]\n",
    "para_results"
   ]
  },
  {
   "cell_type": "markdown",
   "metadata": {},
   "source": [
    "__Two interesting findings:__\n",
    "\n",
    "1. Areas with lots of highly educated people (Bachelor's degree or higher) tend to highly underreport local problems through the 311 system by about 2.9%. \n",
    "2. By contrast, areas with high concentrations of people who speak Spanish as their primary language tend to overreport local problems by about 2.5%. "
   ]
  },
  {
   "cell_type": "markdown",
   "metadata": {},
   "source": [
    "### (7) Apply to the test data and compare results to the train model"
   ]
  },
  {
   "cell_type": "code",
   "execution_count": 61,
   "metadata": {},
   "outputs": [
    {
     "name": "stdout",
     "output_type": "stream",
     "text": [
      "[[315  98]\n",
      " [ 90 197]]\n",
      "Accuracy: 0.731\n",
      "Recall: 0.686\n",
      "Precision: 0.668\n",
      "Specificity: 0.763\n"
     ]
    }
   ],
   "source": [
    "y_pred_test = model.predict(X_test)\n",
    "\n",
    "confusion = confusion_matrix(y_test,y_pred_test)\n",
    "print (confusion)\n",
    "\n",
    "TN = confusion[0][0]\n",
    "FP = confusion[0][1]\n",
    "FN = confusion[1][0]\n",
    "TP = confusion[1][1]\n",
    "\n",
    "Accuracy = (TN + TP) / (TN + FP + FN + TP)\n",
    "Recall = (TP) / (TP + FN)\n",
    "Precision = (TP) / (TP+FP)\n",
    "Specificity = (TN) / (TN+FP)\n",
    "\n",
    "print (\"Accuracy:\",round(Accuracy,3))\n",
    "print (\"Recall:\",round(Recall,3))\n",
    "print (\"Precision:\",round(Precision,3))\n",
    "print (\"Specificity:\",round(Specificity,3))"
   ]
  },
  {
   "cell_type": "code",
   "execution_count": null,
   "metadata": {},
   "outputs": [],
   "source": []
  }
 ],
 "metadata": {
  "kernelspec": {
   "display_name": "Python 3",
   "language": "python",
   "name": "python3"
  },
  "language_info": {
   "codemirror_mode": {
    "name": "ipython",
    "version": 3
   },
   "file_extension": ".py",
   "mimetype": "text/x-python",
   "name": "python",
   "nbconvert_exporter": "python",
   "pygments_lexer": "ipython3",
   "version": "3.7.6"
  }
 },
 "nbformat": 4,
 "nbformat_minor": 2
}
