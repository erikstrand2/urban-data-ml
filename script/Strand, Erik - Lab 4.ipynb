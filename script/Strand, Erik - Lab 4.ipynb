{
 "cells": [
  {
   "cell_type": "markdown",
   "metadata": {},
   "source": [
    "GSAPP PLA6113 Wednesday February 3rd, 2021 Erik Strand\n",
    "# Exploring Urban Data with ML\n",
    "# Supervised Learning 2\n",
    "## Linear classifiers (probability models)"
   ]
  },
  {
   "cell_type": "markdown",
   "metadata": {},
   "source": [
    "#### Contents\n",
    "\n",
    "* Supervised Learning and Classification\n",
    "* Linear Classifiers (Probability Models)\n",
    "    * Naive Bayes Classifier\n",
    "    * Logistic Regression     \n",
    "* Urban Example: Applications of machine learning methods to predict readmission and length-of-stay for homeless families: the case of WIN shelters in New York City"
   ]
  },
  {
   "cell_type": "markdown",
   "metadata": {},
   "source": [
    "# 1. Supervised Learning and Classification\n",
    "\n",
    "* Classification: subcategory of supervised learning \n",
    "* Input-output pairs\n",
    "* Goal of classification: predict the categorical class labels of new instances based on past observations\n",
    "<br>\n",
    "\n",
    "* Example: Predicting whether a neighborhood will be gentrified or not\n",
    "    * Label ($y$): binary representation of neighborhood gentrification in the past\n",
    "    * Predictors ($X$): neighborhood characteristics (demogrpahics, socioeconomics, or urban form features)"
   ]
  },
  {
   "cell_type": "markdown",
   "metadata": {},
   "source": [
    "## 1) Types of classification problems\n",
    "\n",
    "#### Binary classification\n",
    "The typical example is e-mail spam detection, which each e-mail is spam → 1 ; or isn’t → 0.\n",
    "#### Multi-class classification\n",
    "Like handwritten character recognition (where classes go from 0 to 9).\n",
    "\n",
    "![title](image1.png)"
   ]
  },
  {
   "cell_type": "markdown",
   "metadata": {},
   "source": [
    "    * Note of binary classification: There are 2 classes, red and blue, and 2 features, $x_1$ and $x_2$. The model is able to find the relationship between the features of each data point and its class, and to set a boundary line between them, so when provided with new data, it can estimate the class where it belongs, given its features. In this case, the new data point falls into the blue subspace and, therefore, the model will predict its class to be a blue."
   ]
  },
  {
   "cell_type": "markdown",
   "metadata": {},
   "source": [
    "## 2) Types of classification algorithms (solutions)\n",
    "* Not every classification models will be useful to separate properly different classes from a dataset\n",
    "* The task of selecting an appropiate algorithm became of paramount importance in classification problems\n",
    "\n",
    "#### Linear classification\n",
    "Classes can be separated by a linear decision boundary\n",
    "\n",
    "Example algorithms: Naive Bayes Classifier, Logistic Regression (we will learn these today)\n",
    "#### Non-linear classification\n",
    "Classes can't be separated by a linear decision boundary\n",
    "\n",
    "Example algorithms: K-nearest neighbors, Kernel Support Vector Machine, Perceptron\n",
    "\n",
    "![title](image2.png)"
   ]
  },
  {
   "cell_type": "markdown",
   "metadata": {},
   "source": [
    "# 2. Linear Classifiers (Probability Models)\n",
    "\n",
    "#### Goal of probabilistic classifier \n",
    "* To determine the probability of the features occurring in each class with features $x_0$ through $x_n$ and classes $c_0$ through $c_k$\n",
    "* To return the most likely class\n",
    "* For each class, we want to calculate $P(c_i | x_0, …, x_n)$ \n",
    "* Example: <br>\n",
    "Probability that an email containing 'win' and 'lottery' is spam = $P(C_{spam} | x_{win}, x_{lottery})$\n",
    "\n",
    "\n"
   ]
  },
  {
   "cell_type": "markdown",
   "metadata": {},
   "source": [
    "# 2-1. Naive Bayes Classifier\n",
    "\n",
    "* A simple, yet effective and commonly-used, machine learning classifier \n",
    "* A probabilistic classifier based on the __Bayesian rule__\n",
    "* Traditional solution for problems such as spam detection"
   ]
  },
  {
   "cell_type": "markdown",
   "metadata": {},
   "source": [
    "## 1) Bayesian rule (Bayes' theorem)\n",
    "\n",
    "* The probability of an event, based on prior knowledge of conditions that might be related to the event\n",
    "* The probability of an event can be predicted based on the previous observations\n",
    "* How to predict a probability of class ($c$, target) given predictor ($x$, feature)\n",
    "\\begin{align}\n",
    "\\ P(c|x) = \\frac{P(x|c)\\cdot P(c)}{P(x)} \\\\\n",
    "\\end{align}\n",
    "\n",
    "Meaning, __the probability of class $c$ given predictor $x$__ (posterior proability) can be estimated based on (1) $P(x|c)$ (likelihood), (2) $P(c)$ (class prior probability), and (3) $P(x)$ (predictor prior probability) because <br>\n",
    "\n",
    "The probability of a data point is associated with class $c$ and predictor $x$ is expressed as <br>\n",
    "\n",
    "\\begin{align}\n",
    "\\ P(c\\&x) = P(c) \\cdot P(x|c) = P(x) \\cdot P(c|x)\\\\\n",
    "\\end{align}"
   ]
  },
  {
   "cell_type": "markdown",
   "metadata": {},
   "source": [
    "## Play with the spam classification example\n",
    "\n",
    "* Consider some data about content of several e-mails classified as Spam and non-spam\n",
    "\n",
    "|  Cruise | Lottery | Win | Spam |\n",
    "|-----|-------------|---------|-------|\n",
    "|  1 | 1 | 1 | 1|\n",
    "| 1 | 0 | 1 | 1 |\n",
    "| 0 | 1 | 0 | 1 |\n",
    "| 0 | 0 | 1 | 0 |\n",
    "| 1 | 0 | 0 | 0 |\n",
    "| 0 | 1 | 0 | 0 |\n",
    "\n",
    "* Now if we receive an email containing \"Cruise\", is this spam or not?\n",
    "\\begin{align}\n",
    "\\ P(c_{spam}|x_{cruise}) = \\frac{2}{3} = \\frac{P(x_{cruise}|c_{spam})\\cdot P(c_{spam})}{P(x_{cruise})} = \\frac{\\frac{2}{3} \\cdot \\frac{1}{2}}{\\frac{1}{2}} = \\frac{2}{3}\\\\\n",
    "\\end{align}\n",
    "\n",
    "* Now if we receive an email containing \"Cruise\" and \"Lottery\", is this spam or not?\n",
    "\\begin{align}\n",
    "\\ P(c_{spam}|x_{cruise}x_{lottery}) = P(x_{cruise}|c_{spam})\\cdot P(x_{lottery}|c_{spam}) \\cdot P(!x_{win}|c_{spam}) \\cdot P(c_{spam}) = \\frac{2}{3} \\cdot \\frac{2}{3} \\cdot (1-\\frac{2}{3}) \\cdot \\frac{1}{2} = \\frac{2}{27}\\\\\n",
    "\\end{align}\n",
    "\n",
    "\\begin{align}\n",
    "\\ P(c_{nonspam}|x_{cruise}x_{lottery}) = P(x_{cruise}|c_{nonspam})\\cdot P(x_{lottery}|c_{nonspam}) \\cdot P(!x_{win}|c_{nonspam}) \\cdot P(c_{nonspam}) = \\frac{1}{3} \\cdot \\frac{1}{3} \\cdot (1-\\frac{1}{3}) \\cdot \\frac{1}{2} = \\frac{1}{27}\\\\\n",
    "\\end{align}\n",
    "\n",
    "* Conclusion: the probability of spam is 2/27, higher than the probability of non-spam (1/27), so the email with \"Cruise\" and \"Lottery\" is classified as spam.\n",
    "\n",
    "\\begin{align}\n",
    "\\ P(c_{spam}|x_{cruise}x_{lottery}) > \\ P(c_{nonspam}|x_{cruise}x_{lottery})\n",
    "\\end{align}"
   ]
  },
  {
   "cell_type": "markdown",
   "metadata": {},
   "source": [
    "## 2) Definition of Naive Bayes Classifier\n",
    "Predict a probability that a new data point with predictors $x_0, x_1,…x_n$ would be class $i$ \n",
    "\n",
    "\\begin{align}\n",
    "\\ P(c_i|x_0,x_1,…,x_n) = \\frac{P(x_0,x_1,...x_n|c_i)\\cdot P(c_i)}{P(x_0,x_1,…,x_n)} =  P(c_i) \\prod_{j=1}^{n}P(x_j|c_i)\\\\\n",
    "\\end{align}\n",
    "\n",
    "__Important assumption: Predictors $x_0$ through $x_n$ are conditionally independent given $c_i$__\n",
    "\n",
    "* This assumption allows that $P(x_0,x_1 …, x_n | c_i)$ = $P(x_0 | c_i) \\cdot P(x_1 | c_i) …  P(x_n | c_i)$. \n",
    "* This assumption is most likely not true in real-world — hence the name naive Bayes classifier, but the classifier nonetheless performs well in most situations"
   ]
  },
  {
   "cell_type": "markdown",
   "metadata": {},
   "source": [
    "## 3) What are the Pros and Cons of Naive Bayes?\n",
    "\n",
    "#### Pros\n",
    "* Simple, quick, and accurate. It is easy and fast to predict class of test data set. It also perform well in multi class prediction (less computation cost). The reason that naive Bayes models are so efficient is that they learn parameters by looking at each feature individually and collect simple per-class statistics from each feature.\n",
    "* When assumption of independence holds, it performs better compare to other models like logistic regression.\n",
    "* It performs well even though you have relatively small training data.\n",
    "* It performs well in case of categorical (discrete) input variables compared to numerical variable(s).\n",
    "\n",
    "#### Cons\n",
    "* The assumption of independent features. In practice, it is almost impossible that model will get a set of predictors which are entirely independent.\n",
    "* If there is no training tuple of a particular class, this causes zero posterior probability. In this case, the model is unable to make predictions. This problem is known as Zero Probability/Frequency Problem."
   ]
  },
  {
   "cell_type": "markdown",
   "metadata": {},
   "source": [
    "## 4) Types of Naive Bayes Classifiers\n",
    "Depending on what distribution your features follow\n",
    "(https://scikit-learn.org/stable/modules/naive_bayes.html#bernoulli-naive-bayes)\n",
    "\n",
    "__Bernoulli Naive Bayes Classifier__\n",
    "* The binomial model is useful if your feature vectors are binary (i.e. zeros and ones) \n",
    "* Example: a ‘bag of words’ model for a spam classification purpose where the 1s & 0s are “word occurs in the document” and “word does not occur in the document” respectively\n",
    "\n",
    "\n",
    "__Multinomial Naive Bayes Classifier__\n",
    "* It is used for discrete counts\n",
    "* Example: a document classification based on “count how often word occurs in the document”\n",
    "\n",
    "\n",
    "__Gaussian Naive Bayes Classifier__ _*** you will mostly use this algorithm with urban data_\n",
    "* It assumes that continuous features follow a normal distribution\n",
    "* Gaussian Probability Density Function (PDF) is used based on the normal distribution curve\n",
    "* Example: a at-risk building classification based on continuous predictors such as built year, building size, boiler capacity, etc.\n",
    "    \n",
    "<div>\n",
    "<img src=\"image3.png\" width=\"800\"/>\n",
    "</div>"
   ]
  },
  {
   "cell_type": "markdown",
   "metadata": {},
   "source": [
    "## Python example: Predicting a building type by using Naive Bayes"
   ]
  },
  {
   "cell_type": "code",
   "execution_count": 1,
   "metadata": {},
   "outputs": [],
   "source": [
    "import warnings\n",
    "warnings.filterwarnings(\"ignore\")\n",
    "\n",
    "import pandas as pd\n",
    "import numpy as np\n",
    "from sklearn.model_selection import train_test_split\n",
    "from math import sqrt\n",
    "import matplotlib.pyplot as plt\n",
    "%matplotlib inline"
   ]
  },
  {
   "cell_type": "markdown",
   "metadata": {},
   "source": [
    "#### Import Gaussian Naive Bayes module (GaussianNB) from scikit-learn"
   ]
  },
  {
   "cell_type": "code",
   "execution_count": 2,
   "metadata": {},
   "outputs": [],
   "source": [
    "from sklearn.naive_bayes import GaussianNB"
   ]
  },
  {
   "cell_type": "markdown",
   "metadata": {},
   "source": [
    "#### Load the sample data"
   ]
  },
  {
   "cell_type": "code",
   "execution_count": 5,
   "metadata": {},
   "outputs": [
    {
     "data": {
      "text/html": [
       "<div>\n",
       "<style scoped>\n",
       "    .dataframe tbody tr th:only-of-type {\n",
       "        vertical-align: middle;\n",
       "    }\n",
       "\n",
       "    .dataframe tbody tr th {\n",
       "        vertical-align: top;\n",
       "    }\n",
       "\n",
       "    .dataframe thead th {\n",
       "        text-align: right;\n",
       "    }\n",
       "</style>\n",
       "<table border=\"1\" class=\"dataframe\">\n",
       "  <thead>\n",
       "    <tr style=\"text-align: right;\">\n",
       "      <th></th>\n",
       "      <th>gross_sqft</th>\n",
       "      <th>land_sqft</th>\n",
       "      <th>year_built</th>\n",
       "      <th>sale_price</th>\n",
       "      <th>bldgtype</th>\n",
       "    </tr>\n",
       "  </thead>\n",
       "  <tbody>\n",
       "    <tr>\n",
       "      <th>0</th>\n",
       "      <td>2607</td>\n",
       "      <td>1200</td>\n",
       "      <td>2010</td>\n",
       "      <td>825000.0</td>\n",
       "      <td>1</td>\n",
       "    </tr>\n",
       "    <tr>\n",
       "      <th>1</th>\n",
       "      <td>1950</td>\n",
       "      <td>1783</td>\n",
       "      <td>1899</td>\n",
       "      <td>1685000.0</td>\n",
       "      <td>1</td>\n",
       "    </tr>\n",
       "    <tr>\n",
       "      <th>2</th>\n",
       "      <td>2520</td>\n",
       "      <td>1875</td>\n",
       "      <td>1899</td>\n",
       "      <td>1100000.0</td>\n",
       "      <td>1</td>\n",
       "    </tr>\n",
       "    <tr>\n",
       "      <th>3</th>\n",
       "      <td>3750</td>\n",
       "      <td>3125</td>\n",
       "      <td>1931</td>\n",
       "      <td>1200000.0</td>\n",
       "      <td>2</td>\n",
       "    </tr>\n",
       "    <tr>\n",
       "      <th>4</th>\n",
       "      <td>7812</td>\n",
       "      <td>5021</td>\n",
       "      <td>1908</td>\n",
       "      <td>1900000.0</td>\n",
       "      <td>2</td>\n",
       "    </tr>\n",
       "  </tbody>\n",
       "</table>\n",
       "</div>"
      ],
      "text/plain": [
       "   gross_sqft  land_sqft  year_built  sale_price  bldgtype\n",
       "0        2607       1200        2010    825000.0         1\n",
       "1        1950       1783        1899   1685000.0         1\n",
       "2        2520       1875        1899   1100000.0         1\n",
       "3        3750       3125        1931   1200000.0         2\n",
       "4        7812       5021        1908   1900000.0         2"
      ]
     },
     "execution_count": 5,
     "metadata": {},
     "output_type": "execute_result"
    }
   ],
   "source": [
    "data = pd.read_csv(\"../data/NYC_RE_sample.csv\")\n",
    "data.head()"
   ]
  },
  {
   "cell_type": "markdown",
   "metadata": {},
   "source": [
    "#### Split data randomly into the training (75%) and test (25%) set"
   ]
  },
  {
   "cell_type": "code",
   "execution_count": 6,
   "metadata": {},
   "outputs": [
    {
     "name": "stdout",
     "output_type": "stream",
     "text": [
      "Train sample (X): 70\n",
      "Train sample (y): 70\n",
      "Test sample (X): 24\n",
      "Test sample (y): 24\n"
     ]
    }
   ],
   "source": [
    "y = data.iloc[:,-1]\n",
    "X = data.iloc[:,:-1]\n",
    "\n",
    "X_train, X_test, y_train, y_test = train_test_split(X,y, train_size = 0.75, random_state=10)\n",
    "\n",
    "print (\"Train sample (X):\", len(X_train))\n",
    "print (\"Train sample (y):\", len(y_train))\n",
    "print (\"Test sample (X):\", len(X_test))\n",
    "print (\"Test sample (y):\", len(y_test))"
   ]
  },
  {
   "cell_type": "markdown",
   "metadata": {},
   "source": [
    "#### Train Gaussian Naive Bayes Classifier\n",
    "    YOUR_MODEL_NAME = GaussianNB().fit(X_train, y_train)\n",
    "    "
   ]
  },
  {
   "cell_type": "code",
   "execution_count": 7,
   "metadata": {},
   "outputs": [],
   "source": [
    "clf = GaussianNB().fit(X_train, y_train)"
   ]
  },
  {
   "cell_type": "markdown",
   "metadata": {},
   "source": [
    "#### Accuracy of training model\n",
    "    YOUR_MODEL_NAME.score(X_Train, y_train)"
   ]
  },
  {
   "cell_type": "code",
   "execution_count": 8,
   "metadata": {},
   "outputs": [
    {
     "name": "stdout",
     "output_type": "stream",
     "text": [
      "Accuracy:  0.9\n"
     ]
    }
   ],
   "source": [
    "print (\"Accuracy: \", clf.score(X_train, y_train))"
   ]
  },
  {
   "cell_type": "markdown",
   "metadata": {},
   "source": [
    "#### High prediction accuracy. Let's apply to the test data\n",
    "You are now using your model trained previously based on your train data to predict class of your new data points (test data).\n",
    "\n",
    "    Probability of each class = YOUR_MODEL_NAME.predict_proba(X_test)\n",
    "    Classification prediction = YOUR_MODEL_NAME.predict(X_test)"
   ]
  },
  {
   "cell_type": "code",
   "execution_count": 9,
   "metadata": {},
   "outputs": [
    {
     "name": "stdout",
     "output_type": "stream",
     "text": [
      "[[0.    1.   ]\n",
      " [0.    1.   ]\n",
      " [0.99  0.01 ]\n",
      " [0.    1.   ]\n",
      " [0.998 0.002]\n",
      " [0.    1.   ]\n",
      " [0.998 0.002]\n",
      " [0.998 0.002]\n",
      " [0.    1.   ]\n",
      " [0.929 0.071]\n",
      " [0.999 0.001]\n",
      " [0.    1.   ]\n",
      " [0.999 0.001]\n",
      " [0.999 0.001]\n",
      " [0.    1.   ]\n",
      " [0.999 0.001]\n",
      " [0.976 0.024]\n",
      " [0.999 0.001]\n",
      " [0.993 0.007]\n",
      " [0.    1.   ]\n",
      " [0.998 0.002]\n",
      " [0.999 0.001]\n",
      " [0.999 0.001]\n",
      " [0.999 0.001]]\n"
     ]
    }
   ],
   "source": [
    "y_pred_test_prob = clf.predict_proba(X_test)\n",
    "\n",
    "print (y_pred_test_prob.round(3))"
   ]
  },
  {
   "cell_type": "code",
   "execution_count": 10,
   "metadata": {},
   "outputs": [
    {
     "name": "stdout",
     "output_type": "stream",
     "text": [
      "[2 2 1 2 1 2 1 1 2 1 1 2 1 1 2 1 1 1 1 2 1 1 1 1]\n"
     ]
    }
   ],
   "source": [
    "y_pred_test = clf.predict(X_test)\n",
    "\n",
    "print (y_pred_test)"
   ]
  },
  {
   "cell_type": "code",
   "execution_count": 11,
   "metadata": {},
   "outputs": [
    {
     "name": "stdout",
     "output_type": "stream",
     "text": [
      "Prediction: [2, 2, 2, 2, 1, 2, 2, 1, 2, 1, 1, 2, 1, 1, 2, 1, 1, 2, 1, 2, 2, 1, 1, 1]\n",
      "Actual values: [2, 2, 1, 2, 1, 2, 1, 1, 2, 1, 1, 2, 1, 1, 2, 1, 1, 1, 1, 2, 1, 1, 1, 1]\n",
      "Number of mislabeled points out of a total 24 points : 4\n"
     ]
    }
   ],
   "source": [
    "print (\"Prediction:\", y_test.tolist())\n",
    "print (\"Actual values:\", y_pred_test.tolist())\n",
    "print(\"Number of mislabeled points out of a total %d points : %d\" %(len(X_test), (y_test != y_pred_test).sum()))"
   ]
  },
  {
   "cell_type": "code",
   "execution_count": 12,
   "metadata": {},
   "outputs": [
    {
     "name": "stdout",
     "output_type": "stream",
     "text": [
      "Accuracy (calculated from sklearn function): 0.8333333333333334\n",
      "Accuracy (calcualted manually): 83.333333  %\n"
     ]
    }
   ],
   "source": [
    "print (\"Accuracy (calculated from sklearn function):\", clf.score(X_test, y_test))\n",
    "print (\"Accuracy (calcualted manually): %f \" %(100.0*sum(y_pred_test==y_test)/len(y_test)),\"%\")"
   ]
  },
  {
   "cell_type": "markdown",
   "metadata": {},
   "source": [
    "#### Now you can predict a building type of a completely new data point\n",
    "* 2,600 sqft - gross floor area\n",
    "* 1,300 sqft - land area\n",
    "* 2015 - built year\n",
    "* $850,000 - property price"
   ]
  },
  {
   "cell_type": "code",
   "execution_count": 13,
   "metadata": {},
   "outputs": [
    {
     "name": "stdout",
     "output_type": "stream",
     "text": [
      "Probability: [[0.9984977 0.0015023]]\n",
      "Class: [1]\n"
     ]
    }
   ],
   "source": [
    "print (\"Probability:\",clf.predict_proba([[2600, 1300, 2015, 850000]]))\n",
    "print (\"Class:\",clf.predict([[2600, 1300, 2015, 850000]]))"
   ]
  },
  {
   "cell_type": "markdown",
   "metadata": {},
   "source": [
    "# 2-2. Logistic Regression\n",
    "* Linear classifier (a bianry representation)\n",
    "* Works reasonably well even when some of the variables are slightly correlated\n",
    "* One of the traditional statistical linear models - for the purpose indentifying influencing feature \n",
    "* We focus on ML framework, meaning we need a \"prediction\" part as well as story telling\n",
    "\n",
    "![title](image6.png)"
   ]
  },
  {
   "cell_type": "markdown",
   "metadata": {},
   "source": [
    "## 1) Definition of Logistic Regression\n",
    "* It assumes a parametric form for the distribution $P(y|X)$, then  directly  estimates  its  parameters  from  the  training  data\n",
    "* The parametric model assumed by Logistic Regression in the case where $y$ is boolean (binary representation) is:\n",
    "\n",
    "\\begin{align}\n",
    "\\ P(y=1|X) = \\frac{1}{1+exp(\\beta_0 + \\sum_{i=1}^n \\beta_i X_i)} \\\\\n",
    "\\\\\n",
    "P(y=0|X) = \\frac{exp(\\beta_0 + \\sum_{i=1}^n \\beta_i X_i)}{1+exp(\\beta_0 + \\sum_{i=1}^n \\beta_i X_i)} \\\\\n",
    "\\end{align}\n",
    "\n",
    "* Based on the sigmoid (logit) function\n",
    "![title](image4.png)"
   ]
  },
  {
   "cell_type": "markdown",
   "metadata": {},
   "source": [
    "## 2) Mathematical Expression\n",
    "* Logistic Regression can be expressed as:\n",
    "\\begin{align}\n",
    "Logit(y) = \\log(\\frac{P(y=1|X)}{1-P(y=1|X)}) = \\log(\\frac{P(y=1|X)}{P(y=0|X)}) = \\beta_0 + \\beta_1 x_1 + ... + \\beta_n x_n\n",
    "\\end{align}\n",
    "\n",
    "\\begin{align}\n",
    "P(y=1|X) = \\frac{exp(\\beta_0 + \\beta_1 x_1 + ... + \\beta_n x_n)}{1+exp(\\beta_0 + \\beta_1 x_1 + ... + \\beta_n x_n)}\n",
    "\\end{align}\n",
    "\n",
    "* We call the term in the $log()$ function “odds” - probability of event divided by probability of no event (which describes the ratio of success to ratio of failure)\n",
    "* As converting $y$ to $Logit(y)$ or log odds($y$), the folmula is now similar to the OLS\n",
    "* Find the best fitted line to predict $Logit(y)$\n",
    "* Instead of the slope coefficients ($\\beta_i$) being the rate of change in $y$ (the dependent variables) as $x_i$ changes like OLS model, now the slope coefficient is interpreted as the rate of change in the \"log odds\" as $x_i$ changes.\n",
    "* Increasing $x_i$ by 1 increases the log-odds by $\\beta_i$. So if $x_i$ increases by 1, the odds that $y$ = 1 increase by a factor of $exp^{\\beta_{i}}$"
   ]
  },
  {
   "cell_type": "markdown",
   "metadata": {},
   "source": [
    "#### Example: if you have a logistic regression model to predict vip customer group (1 or 0) of customers based on their age\n",
    "    \n",
    "\\begin{align}\n",
    "Logit(p) = log(\\frac{p}{1-p}) = \\beta_0 + \\beta_{age} \\cdot x_{age}    \n",
    "\\end{align}\n",
    "\n",
    "\\begin{align}\n",
    "log(\\frac{p}{1-p})(x_{age} = 30) = \\beta_0 + \\beta_{age} \\cdot 30    \n",
    "\\end{align}\n",
    "\n",
    "\\begin{align}\n",
    "log(\\frac{p}{1-p})(x_{age} = 31) = \\beta_0 + \\beta_{age} \\cdot 31    \n",
    "\\end{align}\n",
    "\n",
    "Taking the difference of the two equations, we have the following:\n",
    "\\begin{align}\n",
    "log(\\frac{p}{1-p})(x_{age} = 31) - log(\\frac{p}{1-p})(x_{age} = 30) = \\beta_{age}   \n",
    "\\end{align}\n",
    "\n",
    "We can say now that the coefficient ($\\beta_{age}$) for age is the difference in the log odds.  In other words, for a one-unit increase in the customer age, the expected change in log odds is $\\beta_{age}$.\n",
    "\n",
    "If we exponentiate both sides of our last equation, we have the following:\n",
    "\\begin{align}\n",
    "exp^{log(\\frac{p}{1-p})(x_{age} = 31) - log(\\frac{p}{1-p})(x_{age} = 30)} = \\frac{exp^{log(\\frac{p}{1-p})(x_{age} = 31)}}{exp^{log(\\frac{p}{1-p})(x_{age} = 30)}} = \\frac{odds(x_{age} = 31)}{odds(x_{age} = 30)} =  exp^{\\beta_{age}}   \n",
    "\\end{align}\n",
    "\n",
    "#### Interpretation\n",
    "So we can say for a one-unit increase in age, we expect to see about $exp^{\\beta_{age}}$ times increase in the odds of being in an customer class 1 (vip group). For example, if $exp^{\\beta_{age}}$ is 1.17, then we can say one-unit increase in age, it is associated with 17% more of being in the vip customer group."
   ]
  },
  {
   "cell_type": "markdown",
   "metadata": {},
   "source": [
    "## 3) What are the Pros and Cons of Logistic Regression?\n",
    "#### Pros\n",
    "* Efficient! It does not require too many computational resources\n",
    "* Less bias\n",
    "* It works reasonably well even when some of the variables are slightly correlated (compared to Naive Bayes)\n",
    "* Interpretable coefficients are provided\n",
    "\n",
    "#### Cons\n",
    "* It can’t solve non-linear problems with logistic regression since it’s decision surface is linear\n",
    "* It requires relatively large data (compared to Naive Bayes)\n",
    "* It does work better when you remove attributes that are unrelated to the target variable\n",
    "* Feature Engineering is requred for the model performance\n",
    "* Imbalanced data*** (What if you have 9990 class 1 and only 10 class 0?)"
   ]
  },
  {
   "cell_type": "markdown",
   "metadata": {},
   "source": [
    "## 4) Model Evaluation Metrics for Binary Classification\n",
    "\n",
    "### Confusion matrix\n",
    "![title](image7.png)\n",
    "\n",
    "__Accuracy__<br>\n",
    "Fraction of correctly classified samples\n",
    "\n",
    "__Precision__<br>\n",
    "Fraction of relevant instances among the retrieved instances\n",
    "\n",
    "__Sensitivity (Recall)__<br>\n",
    "Fraction of the total amount of relevant instances that were actually retrieved\n",
    "\n",
    "__Specificity__<br>\n",
    "Proportion of actual negatives that are correctly identified as such"
   ]
  },
  {
   "cell_type": "markdown",
   "metadata": {},
   "source": [
    "__Keep the end goal in mind!__<br>\n",
    "We are usually intersted not just in making accurate predictions, but in using these predictions as part of larger decision making process.\n",
    "\n",
    "__Handle imbalanced data__<br>\n",
    "What if we have a dataset with 100 samples are class 1 and 9900 samples are class 0 and have a confusion matrix like this:\n",
    "![title](image8.png)\n",
    "\n",
    "__Over-sampling or under-sampling methods__<br>\n",
    "* Random Oversampling: Randomly duplicate examples in the minority class\n",
    "* Random Undersampling: Randomly delete examples in the majority class\n",
    "* SMOTE (Synthetic Minority Oversampling Technique): It uses a nearest neighbors algorithm to generate new and synthetic data\n"
   ]
  },
  {
   "cell_type": "markdown",
   "metadata": {},
   "source": [
    "### ROC curve (Receiver Operating Characteristic) and AUC (Area Under The Curve)\n",
    "* The most important evaluation metrics for checking any classification model’s performance\n",
    "* A performance measurement for classification problem at various thresholds settings\n",
    "* The ROC curve is plotted with TPR against the FPR where TPR is on y-axis and FPR is on the x-axis\n",
    "* TPR (True positive rate) = Sensitivity or Recall = TP / (TP+FN)\n",
    "* FPR (False positive rate) = 1 - Specificity = FP / (TN+FP)\n",
    "\n",
    "__Ideal case__<br>\n",
    "When two curves don’t overlap at all means model has an ideal measure of separability. It is perfectly able to distinguish between positive class and negative class.\n",
    "![title](image9.png)"
   ]
  },
  {
   "cell_type": "markdown",
   "metadata": {},
   "source": [
    "__Reasonable case__<br>\n",
    "When two distributions overlap, we introduce type 1 and type 2 error. Depending upon the threshold, we can minimize or maximize them. When AUC is 0.7, it means there is 70% chance that model will be able to distinguish between positive class and negative class.\n",
    "![title](image10.png)\n",
    "\n",
    "__The worst case__ <br>\n",
    "The model has no discrimination capacity to distinguish between positive class and negative class.\n",
    "![title](image11.png)"
   ]
  },
  {
   "cell_type": "markdown",
   "metadata": {},
   "source": [
    "## Python example: Predicting neighborhoods' 311 reporting behavior by using Logistic Regression"
   ]
  },
  {
   "cell_type": "code",
   "execution_count": 14,
   "metadata": {},
   "outputs": [],
   "source": [
    "import warnings\n",
    "warnings.filterwarnings(\"ignore\")\n",
    "\n",
    "import pandas as pd\n",
    "import numpy as np\n",
    "from sklearn.model_selection import train_test_split\n",
    "from math import sqrt\n",
    "import matplotlib.pyplot as plt\n",
    "%matplotlib inline"
   ]
  },
  {
   "cell_type": "markdown",
   "metadata": {},
   "source": [
    "Now you will use the dataset about 311 reporting behavior and socioeconomic characteristics. This dataset is aggregated at the Census Block Group (CBG) level and the followings are the description of the columns.\n",
    "\n",
    "* target (y)    \n",
    "    * Target class 1: Neighborhoods over-reporting local problems\n",
    "    * Target class 0: Neighborhoods under-reporting local problems\n",
    "* female_r: % of female population\n",
    "* elderly_r: % of population older than 70\n",
    "* black_r: % of black population\n",
    "* non_eng_spanish_r: % of limited English speaker using Spanish\n",
    "* non_eng_asian_r: % of limited English speaker using Asian languages\n",
    "* hh_kid_r: % of housholds with kids under 18\n",
    "* edu_high_r: % of population with at least Bachelor's degree\n",
    "* unemployed_r: Unemployment rate\n",
    "* med_rent: Median rent (USD)\n",
    "* longercommute_r: % of commuters taking more than 45 minutes\n",
    "* nonprofit_r: #of nonprofit organizaiton per 1000 people\n",
    "* meanvt_rat: voter turn out"
   ]
  },
  {
   "cell_type": "markdown",
   "metadata": {},
   "source": [
    "#### Import modules"
   ]
  },
  {
   "cell_type": "code",
   "execution_count": 15,
   "metadata": {},
   "outputs": [],
   "source": [
    "from sklearn.linear_model import LogisticRegression\n",
    "from sklearn.metrics import confusion_matrix \n",
    "import sklearn.metrics as metrics "
   ]
  },
  {
   "cell_type": "markdown",
   "metadata": {},
   "source": [
    "#### Load the sample data and split data randomly into the training (75%) and test (25%) set"
   ]
  },
  {
   "cell_type": "code",
   "execution_count": 16,
   "metadata": {},
   "outputs": [
    {
     "data": {
      "text/html": [
       "<div>\n",
       "<style scoped>\n",
       "    .dataframe tbody tr th:only-of-type {\n",
       "        vertical-align: middle;\n",
       "    }\n",
       "\n",
       "    .dataframe tbody tr th {\n",
       "        vertical-align: top;\n",
       "    }\n",
       "\n",
       "    .dataframe thead th {\n",
       "        text-align: right;\n",
       "    }\n",
       "</style>\n",
       "<table border=\"1\" class=\"dataframe\">\n",
       "  <thead>\n",
       "    <tr style=\"text-align: right;\">\n",
       "      <th></th>\n",
       "      <th>CBG_ID</th>\n",
       "      <th>female_r</th>\n",
       "      <th>elderly_r</th>\n",
       "      <th>black_r</th>\n",
       "      <th>non_eng_spanish_r</th>\n",
       "      <th>non_eng_asian_r</th>\n",
       "      <th>hh_kid_r</th>\n",
       "      <th>edu_high_r</th>\n",
       "      <th>unemployed_r</th>\n",
       "      <th>med_rent</th>\n",
       "      <th>longercommute_r</th>\n",
       "      <th>nonprofit_r</th>\n",
       "      <th>meanvt_rat</th>\n",
       "      <th>target</th>\n",
       "    </tr>\n",
       "  </thead>\n",
       "  <tbody>\n",
       "    <tr>\n",
       "      <th>0</th>\n",
       "      <td>1500000US360050004003</td>\n",
       "      <td>0.474664</td>\n",
       "      <td>0.074786</td>\n",
       "      <td>0.421856</td>\n",
       "      <td>0.049038</td>\n",
       "      <td>0.0</td>\n",
       "      <td>0.610577</td>\n",
       "      <td>0.287162</td>\n",
       "      <td>0.064192</td>\n",
       "      <td>1224.0</td>\n",
       "      <td>0.692806</td>\n",
       "      <td>0.0</td>\n",
       "      <td>0.273543</td>\n",
       "      <td>0.0</td>\n",
       "    </tr>\n",
       "    <tr>\n",
       "      <th>1</th>\n",
       "      <td>1500000US360050016001</td>\n",
       "      <td>0.578753</td>\n",
       "      <td>0.038874</td>\n",
       "      <td>0.441354</td>\n",
       "      <td>0.219207</td>\n",
       "      <td>0.0</td>\n",
       "      <td>0.703549</td>\n",
       "      <td>0.127370</td>\n",
       "      <td>0.075724</td>\n",
       "      <td>948.0</td>\n",
       "      <td>0.424552</td>\n",
       "      <td>0.0</td>\n",
       "      <td>0.220155</td>\n",
       "      <td>0.0</td>\n",
       "    </tr>\n",
       "    <tr>\n",
       "      <th>2</th>\n",
       "      <td>1500000US360050016003</td>\n",
       "      <td>0.632696</td>\n",
       "      <td>0.273885</td>\n",
       "      <td>0.447983</td>\n",
       "      <td>0.138983</td>\n",
       "      <td>0.0</td>\n",
       "      <td>0.071186</td>\n",
       "      <td>0.179724</td>\n",
       "      <td>0.000000</td>\n",
       "      <td>629.0</td>\n",
       "      <td>0.563536</td>\n",
       "      <td>0.0</td>\n",
       "      <td>0.136675</td>\n",
       "      <td>1.0</td>\n",
       "    </tr>\n",
       "    <tr>\n",
       "      <th>3</th>\n",
       "      <td>1500000US360050016004</td>\n",
       "      <td>0.513636</td>\n",
       "      <td>0.192857</td>\n",
       "      <td>0.253896</td>\n",
       "      <td>0.156812</td>\n",
       "      <td>0.0</td>\n",
       "      <td>0.874036</td>\n",
       "      <td>0.049645</td>\n",
       "      <td>0.014682</td>\n",
       "      <td>1150.0</td>\n",
       "      <td>0.290249</td>\n",
       "      <td>0.0</td>\n",
       "      <td>0.236928</td>\n",
       "      <td>0.0</td>\n",
       "    </tr>\n",
       "    <tr>\n",
       "      <th>4</th>\n",
       "      <td>1500000US360050025001</td>\n",
       "      <td>0.450287</td>\n",
       "      <td>0.035373</td>\n",
       "      <td>0.100382</td>\n",
       "      <td>0.254438</td>\n",
       "      <td>0.0</td>\n",
       "      <td>1.068047</td>\n",
       "      <td>0.085217</td>\n",
       "      <td>0.013139</td>\n",
       "      <td>951.0</td>\n",
       "      <td>0.494432</td>\n",
       "      <td>0.0</td>\n",
       "      <td>0.128975</td>\n",
       "      <td>1.0</td>\n",
       "    </tr>\n",
       "  </tbody>\n",
       "</table>\n",
       "</div>"
      ],
      "text/plain": [
       "                  CBG_ID  female_r  elderly_r   black_r  non_eng_spanish_r  \\\n",
       "0  1500000US360050004003  0.474664   0.074786  0.421856           0.049038   \n",
       "1  1500000US360050016001  0.578753   0.038874  0.441354           0.219207   \n",
       "2  1500000US360050016003  0.632696   0.273885  0.447983           0.138983   \n",
       "3  1500000US360050016004  0.513636   0.192857  0.253896           0.156812   \n",
       "4  1500000US360050025001  0.450287   0.035373  0.100382           0.254438   \n",
       "\n",
       "   non_eng_asian_r  hh_kid_r  edu_high_r  unemployed_r  med_rent  \\\n",
       "0              0.0  0.610577    0.287162      0.064192    1224.0   \n",
       "1              0.0  0.703549    0.127370      0.075724     948.0   \n",
       "2              0.0  0.071186    0.179724      0.000000     629.0   \n",
       "3              0.0  0.874036    0.049645      0.014682    1150.0   \n",
       "4              0.0  1.068047    0.085217      0.013139     951.0   \n",
       "\n",
       "   longercommute_r  nonprofit_r  meanvt_rat  target  \n",
       "0         0.692806          0.0    0.273543     0.0  \n",
       "1         0.424552          0.0    0.220155     0.0  \n",
       "2         0.563536          0.0    0.136675     1.0  \n",
       "3         0.290249          0.0    0.236928     0.0  \n",
       "4         0.494432          0.0    0.128975     1.0  "
      ]
     },
     "execution_count": 16,
     "metadata": {},
     "output_type": "execute_result"
    }
   ],
   "source": [
    "data = pd.read_csv(\"../data/NYC_CBG_311_reporting.csv\")\n",
    "data.head()"
   ]
  },
  {
   "cell_type": "markdown",
   "metadata": {},
   "source": [
    "#### Let's use 7 predictors at this point."
   ]
  },
  {
   "cell_type": "code",
   "execution_count": 17,
   "metadata": {},
   "outputs": [],
   "source": [
    "data = data[['female_r', 'elderly_r', 'black_r', 'non_eng_spanish_r', 'non_eng_asian_r', 'hh_kid_r', 'edu_high_r', 'target']]"
   ]
  },
  {
   "cell_type": "code",
   "execution_count": 18,
   "metadata": {},
   "outputs": [
    {
     "data": {
      "text/html": [
       "<div>\n",
       "<style scoped>\n",
       "    .dataframe tbody tr th:only-of-type {\n",
       "        vertical-align: middle;\n",
       "    }\n",
       "\n",
       "    .dataframe tbody tr th {\n",
       "        vertical-align: top;\n",
       "    }\n",
       "\n",
       "    .dataframe thead th {\n",
       "        text-align: right;\n",
       "    }\n",
       "</style>\n",
       "<table border=\"1\" class=\"dataframe\">\n",
       "  <thead>\n",
       "    <tr style=\"text-align: right;\">\n",
       "      <th></th>\n",
       "      <th>female_r</th>\n",
       "      <th>elderly_r</th>\n",
       "      <th>black_r</th>\n",
       "      <th>non_eng_spanish_r</th>\n",
       "      <th>non_eng_asian_r</th>\n",
       "      <th>hh_kid_r</th>\n",
       "      <th>edu_high_r</th>\n",
       "      <th>target</th>\n",
       "    </tr>\n",
       "  </thead>\n",
       "  <tbody>\n",
       "    <tr>\n",
       "      <th>0</th>\n",
       "      <td>0.474664</td>\n",
       "      <td>0.074786</td>\n",
       "      <td>0.421856</td>\n",
       "      <td>0.049038</td>\n",
       "      <td>0.0</td>\n",
       "      <td>0.610577</td>\n",
       "      <td>0.287162</td>\n",
       "      <td>0.0</td>\n",
       "    </tr>\n",
       "    <tr>\n",
       "      <th>1</th>\n",
       "      <td>0.578753</td>\n",
       "      <td>0.038874</td>\n",
       "      <td>0.441354</td>\n",
       "      <td>0.219207</td>\n",
       "      <td>0.0</td>\n",
       "      <td>0.703549</td>\n",
       "      <td>0.127370</td>\n",
       "      <td>0.0</td>\n",
       "    </tr>\n",
       "    <tr>\n",
       "      <th>2</th>\n",
       "      <td>0.632696</td>\n",
       "      <td>0.273885</td>\n",
       "      <td>0.447983</td>\n",
       "      <td>0.138983</td>\n",
       "      <td>0.0</td>\n",
       "      <td>0.071186</td>\n",
       "      <td>0.179724</td>\n",
       "      <td>1.0</td>\n",
       "    </tr>\n",
       "    <tr>\n",
       "      <th>3</th>\n",
       "      <td>0.513636</td>\n",
       "      <td>0.192857</td>\n",
       "      <td>0.253896</td>\n",
       "      <td>0.156812</td>\n",
       "      <td>0.0</td>\n",
       "      <td>0.874036</td>\n",
       "      <td>0.049645</td>\n",
       "      <td>0.0</td>\n",
       "    </tr>\n",
       "    <tr>\n",
       "      <th>4</th>\n",
       "      <td>0.450287</td>\n",
       "      <td>0.035373</td>\n",
       "      <td>0.100382</td>\n",
       "      <td>0.254438</td>\n",
       "      <td>0.0</td>\n",
       "      <td>1.068047</td>\n",
       "      <td>0.085217</td>\n",
       "      <td>1.0</td>\n",
       "    </tr>\n",
       "  </tbody>\n",
       "</table>\n",
       "</div>"
      ],
      "text/plain": [
       "   female_r  elderly_r   black_r  non_eng_spanish_r  non_eng_asian_r  \\\n",
       "0  0.474664   0.074786  0.421856           0.049038              0.0   \n",
       "1  0.578753   0.038874  0.441354           0.219207              0.0   \n",
       "2  0.632696   0.273885  0.447983           0.138983              0.0   \n",
       "3  0.513636   0.192857  0.253896           0.156812              0.0   \n",
       "4  0.450287   0.035373  0.100382           0.254438              0.0   \n",
       "\n",
       "   hh_kid_r  edu_high_r  target  \n",
       "0  0.610577    0.287162     0.0  \n",
       "1  0.703549    0.127370     0.0  \n",
       "2  0.071186    0.179724     1.0  \n",
       "3  0.874036    0.049645     0.0  \n",
       "4  1.068047    0.085217     1.0  "
      ]
     },
     "execution_count": 18,
     "metadata": {},
     "output_type": "execute_result"
    }
   ],
   "source": [
    "data.head()"
   ]
  },
  {
   "cell_type": "code",
   "execution_count": 19,
   "metadata": {},
   "outputs": [
    {
     "name": "stdout",
     "output_type": "stream",
     "text": [
      "Train sample (X): 2098\n",
      "Train sample (y): 2098\n",
      "Test sample (X): 700\n",
      "Test sample (y): 700\n"
     ]
    }
   ],
   "source": [
    "y = data.iloc[:,-1]\n",
    "X = data.iloc[:,0:-1]\n",
    "\n",
    "X_train, X_test, y_train, y_test = train_test_split(X,y, train_size = 0.75, random_state=10)\n",
    "\n",
    "print (\"Train sample (X):\", len(X_train))\n",
    "print (\"Train sample (y):\", len(y_train))\n",
    "print (\"Test sample (X):\", len(X_test))\n",
    "print (\"Test sample (y):\", len(y_test))"
   ]
  },
  {
   "cell_type": "markdown",
   "metadata": {},
   "source": [
    "#### Train Logistic Regression\n",
    "\n",
    "    YOUR_MODEL_NAME = LogisticRegression()"
   ]
  },
  {
   "cell_type": "code",
   "execution_count": 32,
   "metadata": {},
   "outputs": [],
   "source": [
    "model = LogisticRegression().fit(X_train, y_train)"
   ]
  },
  {
   "cell_type": "markdown",
   "metadata": {},
   "source": [
    "#### Accuracy of training model\n",
    "\n",
    "    YOUR_MODEL_NAEM.score(X_train, y_train)"
   ]
  },
  {
   "cell_type": "code",
   "execution_count": 33,
   "metadata": {},
   "outputs": [
    {
     "name": "stdout",
     "output_type": "stream",
     "text": [
      "Accuracy: 0.745\n"
     ]
    }
   ],
   "source": [
    "print (\"Accuracy:\",round(model.score(X_train, y_train),3))"
   ]
  },
  {
   "cell_type": "markdown",
   "metadata": {},
   "source": [
    "#### Regression coefficietns and odds ratio\n",
    "\n",
    "    Regression coefficients (log odds) = YOUR_MODEL_NAME.coef_\n",
    "    Odds ratio = np.exp(Regression coefficients) = np.exp(YOUR_MODEL_NAME.coef_)"
   ]
  },
  {
   "cell_type": "code",
   "execution_count": 34,
   "metadata": {},
   "outputs": [
    {
     "name": "stdout",
     "output_type": "stream",
     "text": [
      "['female_r', 'elderly_r', 'black_r', 'non_eng_spanish_r', 'non_eng_asian_r', 'hh_kid_r', 'edu_high_r']\n",
      "[[ 0.1624656  -3.14719596  1.64657107  2.38672898 -2.42624349  0.023708\n",
      "  -3.12166039]]\n",
      "[[ 1.17640785  0.04297245  5.18915602 10.87785397  0.08836817  1.02399127\n",
      "   0.04408391]]\n"
     ]
    }
   ],
   "source": [
    "parameters = model.coef_\n",
    "odds_ratio = np.exp(parameters)\n",
    "print (data.columns.tolist()[:-1])\n",
    "print (parameters)\n",
    "print (odds_ratio)"
   ]
  },
  {
   "cell_type": "code",
   "execution_count": 35,
   "metadata": {},
   "outputs": [
    {
     "data": {
      "text/html": [
       "<div>\n",
       "<style scoped>\n",
       "    .dataframe tbody tr th:only-of-type {\n",
       "        vertical-align: middle;\n",
       "    }\n",
       "\n",
       "    .dataframe tbody tr th {\n",
       "        vertical-align: top;\n",
       "    }\n",
       "\n",
       "    .dataframe thead th {\n",
       "        text-align: right;\n",
       "    }\n",
       "</style>\n",
       "<table border=\"1\" class=\"dataframe\">\n",
       "  <thead>\n",
       "    <tr style=\"text-align: right;\">\n",
       "      <th></th>\n",
       "      <th>feature</th>\n",
       "      <th>odds_ratio</th>\n",
       "    </tr>\n",
       "  </thead>\n",
       "  <tbody>\n",
       "    <tr>\n",
       "      <th>0</th>\n",
       "      <td>female_r</td>\n",
       "      <td>1.176408</td>\n",
       "    </tr>\n",
       "    <tr>\n",
       "      <th>1</th>\n",
       "      <td>elderly_r</td>\n",
       "      <td>0.042972</td>\n",
       "    </tr>\n",
       "    <tr>\n",
       "      <th>2</th>\n",
       "      <td>black_r</td>\n",
       "      <td>5.189156</td>\n",
       "    </tr>\n",
       "    <tr>\n",
       "      <th>3</th>\n",
       "      <td>non_eng_spanish_r</td>\n",
       "      <td>10.877854</td>\n",
       "    </tr>\n",
       "    <tr>\n",
       "      <th>4</th>\n",
       "      <td>non_eng_asian_r</td>\n",
       "      <td>0.088368</td>\n",
       "    </tr>\n",
       "    <tr>\n",
       "      <th>5</th>\n",
       "      <td>hh_kid_r</td>\n",
       "      <td>1.023991</td>\n",
       "    </tr>\n",
       "    <tr>\n",
       "      <th>6</th>\n",
       "      <td>edu_high_r</td>\n",
       "      <td>0.044084</td>\n",
       "    </tr>\n",
       "  </tbody>\n",
       "</table>\n",
       "</div>"
      ],
      "text/plain": [
       "             feature  odds_ratio\n",
       "0           female_r    1.176408\n",
       "1          elderly_r    0.042972\n",
       "2            black_r    5.189156\n",
       "3  non_eng_spanish_r   10.877854\n",
       "4    non_eng_asian_r    0.088368\n",
       "5           hh_kid_r    1.023991\n",
       "6         edu_high_r    0.044084"
      ]
     },
     "execution_count": 35,
     "metadata": {},
     "output_type": "execute_result"
    }
   ],
   "source": [
    "para_results = pd.DataFrame()\n",
    "para_results['feature'] = data.columns.tolist()[:-1]\n",
    "para_results['odds_ratio'] = odds_ratio[0]\n",
    "para_results"
   ]
  },
  {
   "cell_type": "markdown",
   "metadata": {},
   "source": [
    "#### Checking accuracy is not enough to evaluate your model performance, especially for the binary classification case!\n",
    "#### Let's check a confusion matrix\n",
    "\n",
    "    Confusion matrix = confusion_matrix(y_trian, y_pred_train)"
   ]
  },
  {
   "cell_type": "code",
   "execution_count": 36,
   "metadata": {},
   "outputs": [
    {
     "name": "stdout",
     "output_type": "stream",
     "text": [
      "[[0.7014749  0.2985251 ]\n",
      " [0.68402105 0.31597895]\n",
      " [0.19470974 0.80529026]\n",
      " [0.4403129  0.5596871 ]\n",
      " [0.65216223 0.34783777]\n",
      " [0.21948346 0.78051654]\n",
      " [0.24870381 0.75129619]\n",
      " [0.45695107 0.54304893]\n",
      " [0.72828702 0.27171298]\n",
      " [0.46778563 0.53221437]]\n",
      "[0.0, 0.0, 1.0, 1.0, 0.0, 1.0, 1.0, 1.0, 0.0, 1.0]\n",
      "[0.0, 1.0, 0.0, 1.0, 1.0, 1.0, 1.0, 1.0, 0.0, 1.0]\n"
     ]
    }
   ],
   "source": [
    "y_prob = model.predict_proba(X_train)\n",
    "y_pred_train = model.predict(X_train)\n",
    "print (y_prob[:10])\n",
    "print (y_pred_train.tolist()[:10])\n",
    "print (y_train.tolist()[:10])"
   ]
  },
  {
   "cell_type": "code",
   "execution_count": 37,
   "metadata": {},
   "outputs": [
    {
     "name": "stdout",
     "output_type": "stream",
     "text": [
      "[[961 265]\n",
      " [271 601]]\n"
     ]
    }
   ],
   "source": [
    "confusion = confusion_matrix(y_train,y_pred_train)\n",
    "print (confusion)"
   ]
  },
  {
   "cell_type": "markdown",
   "metadata": {},
   "source": [
    "#### Based on the confusion matrix, we can calculate 1) accuracy, 2) recall, 3) precision, and 4) specificity"
   ]
  },
  {
   "cell_type": "code",
   "execution_count": 40,
   "metadata": {},
   "outputs": [
    {
     "name": "stdout",
     "output_type": "stream",
     "text": [
      "961\n",
      "601\n",
      "265\n",
      "Accuracy: 0.7445185891325071\n",
      "Recall: 0.6892201834862385\n",
      "Precision: 0.6939953810623557\n",
      "Specificity: 0.7838499184339315\n"
     ]
    }
   ],
   "source": [
    "TN = confusion[0][0]\n",
    "FP = confusion[0][1]\n",
    "FN = confusion[1][0]\n",
    "TP = confusion[1][1]\n",
    "print(TN)\n",
    "print(TP)\n",
    "print(FP)\n",
    "\n",
    "Accuracy = (TN + TP) / (TN + FP + FN + TP)\n",
    "Recall = (TP) / (TP + FN)\n",
    "Precision = (TP) / (TP+FP)\n",
    "Specificity = (TN) / (TN+FP)\n",
    "\n",
    "print (\"Accuracy:\",Accuracy)\n",
    "print (\"Recall:\",Recall)\n",
    "print (\"Precision:\",Precision)\n",
    "print (\"Specificity:\",Specificity)"
   ]
  },
  {
   "cell_type": "markdown",
   "metadata": {},
   "source": [
    "#### Another model evaluation metric - ROC curve and AUC\n",
    "\n",
    "    Firstly, you need to compute probability that a data point is assigned as either class 1 or class 2\n",
    "    probability = YOUR_MODEL_NAME.predict_proba(X_train)"
   ]
  },
  {
   "cell_type": "markdown",
   "metadata": {},
   "source": [
    "#### Calculate FPR (False Positive Rate) and TPR (True Positive Rate) to create a ROC curve\n",
    "    metrics.roc_curve() function provides FPR, TPR, and threshold\n",
    "    metrics.auc() provides AUC (area under curve)"
   ]
  },
  {
   "cell_type": "code",
   "execution_count": 27,
   "metadata": {},
   "outputs": [
    {
     "data": {
      "text/plain": [
       "array([[0.7014749 , 0.2985251 ],\n",
       "       [0.68402105, 0.31597895],\n",
       "       [0.19470974, 0.80529026],\n",
       "       [0.4403129 , 0.5596871 ],\n",
       "       [0.65216223, 0.34783777]])"
      ]
     },
     "execution_count": 27,
     "metadata": {},
     "output_type": "execute_result"
    }
   ],
   "source": [
    "y_prob[:5]"
   ]
  },
  {
   "cell_type": "code",
   "execution_count": 28,
   "metadata": {},
   "outputs": [
    {
     "name": "stdout",
     "output_type": "stream",
     "text": [
      "0.8039393043686487\n"
     ]
    }
   ],
   "source": [
    "preds = y_prob[:,1]  \n",
    "fpr, tpr, threshold = metrics.roc_curve(y_train, preds)\n",
    "roc_auc = metrics.auc(fpr, tpr)\n",
    "print (roc_auc)"
   ]
  },
  {
   "cell_type": "code",
   "execution_count": 29,
   "metadata": {},
   "outputs": [
    {
     "data": {
      "image/png": "[encoded data removed]",
      "text/plain": [
       "<Figure size 504x504 with 1 Axes>"
      ]
     },
     "metadata": {
      "needs_background": "light"
     },
     "output_type": "display_data"
    }
   ],
   "source": [
    "plt.figure(figsize=(7,7))\n",
    "plt.title('Receiver Operating Characteristic')\n",
    "plt.plot(fpr, tpr, 'b', label = 'AUC = %0.2f' % roc_auc) \n",
    "plt.legend(loc = 'lower right')\n",
    "plt.plot([0, 1], [0, 1],'r--')\n",
    "plt.xlim([0, 1])\n",
    "plt.ylim([0, 1])\n",
    "plt.ylabel('True Positive Rate')\n",
    "plt.xlabel('False Positive Rate')\n",
    "plt.show()"
   ]
  },
  {
   "cell_type": "markdown",
   "metadata": {},
   "source": [
    "####  Let's apply to the test data"
   ]
  },
  {
   "cell_type": "code",
   "execution_count": 30,
   "metadata": {},
   "outputs": [
    {
     "name": "stdout",
     "output_type": "stream",
     "text": [
      "[[317  96]\n",
      " [ 87 200]]\n",
      "Accuracy: 0.739\n",
      "Recall: 0.697\n",
      "Precision: 0.676\n",
      "Specificity: 0.768\n"
     ]
    }
   ],
   "source": [
    "y_pred_test = model.predict(X_test)\n",
    "\n",
    "confusion = confusion_matrix(y_test,y_pred_test)\n",
    "print (confusion)\n",
    "\n",
    "TN = confusion[0][0]\n",
    "FP = confusion[0][1]\n",
    "FN = confusion[1][0]\n",
    "TP = confusion[1][1]\n",
    "\n",
    "Accuracy = (TN + TP) / (TN + FP + FN + TP)\n",
    "Recall = (TP) / (TP + FN)\n",
    "Precision = (TP) / (TP+FP)\n",
    "Specificity = (TN) / (TN+FP)\n",
    "\n",
    "print (\"Accuracy:\",round(Accuracy,3))\n",
    "print (\"Recall:\",round(Recall,3))\n",
    "print (\"Precision:\",round(Precision,3))\n",
    "print (\"Specificity:\",round(Specificity,3))"
   ]
  },
  {
   "cell_type": "markdown",
   "metadata": {},
   "source": [
    "### Conclusion: <br>\n",
    "__Although the prediction accuracy is not perfect, we can reasonably predict whether a neighborhood over-report of under-report about their local problems through 311 system, using logistic regression based on neighborhood demogarphics and socioeconomics!__\n",
    "\n",
    "__Please think about how to use ML framework for urban planning context.__"
   ]
  },
  {
   "cell_type": "markdown",
   "metadata": {},
   "source": [
    "# 3. Urban Example\n",
    "## Applications of machine learning methods to predict readmission and length-of-stay for homeless families: the case of WIN shelters in New York City\n"
   ]
  },
  {
   "cell_type": "code",
   "execution_count": null,
   "metadata": {},
   "outputs": [],
   "source": []
  }
 ],
 "metadata": {
  "kernelspec": {
   "display_name": "Python 3",
   "language": "python",
   "name": "python3"
  },
  "language_info": {
   "codemirror_mode": {
    "name": "ipython",
    "version": 3
   },
   "file_extension": ".py",
   "mimetype": "text/x-python",
   "name": "python",
   "nbconvert_exporter": "python",
   "pygments_lexer": "ipython3",
   "version": "3.7.6"
  }
 },
 "nbformat": 4,
 "nbformat_minor": 2
}
